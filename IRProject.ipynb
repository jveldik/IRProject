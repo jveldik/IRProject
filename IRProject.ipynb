{
  "cells": [
    {
      "cell_type": "markdown",
      "metadata": {
        "id": "JY83AnTpJzn9"
      },
      "source": [
        "#Project 9: Counterfactual Learning to Rank (Training)\n",
        "As you will see in the course, due to the limitations associated with using expert annotations, ranking algorithms are frequently trained using much more widely available user click data. A simple approach might be to interpret clicked documents in response to a query as relevant and the rest as non-relevant. However, not all documents can be shown to the user in response to each query. Furthermore, user studies have shown that users are more likely to notice the documents at the top of the ranking and are progressively less likely to observe the documents at the bottom of the page. As such, any algorithm naively interpreting clicks as relevance is bound to be biased by the ranking algorithm used during click gathering, affecting our ability to learn the true document relevance.\n",
        "\n",
        "In this project you will carry out a semi-synthetic experiment (simulations) to contrast traditional (biased) and bias-aware learning to rank learning methods (i.e. either a Click Model or Inverse Propensity Scoring based model). You will train the models, first briefly comparing their performance using naive and unbiased evaluation. You will then incorporate the bias-awareness into the training objective and contrast the resulting performance to that of naively trained models under various experimental conditions and hyperparameters.\n",
        "\n",
        "**Dataset**: [Yahoo! Learning to Rank Challenge](https://webscope.sandbox.yahoo.com/catalog.php?datatype=c)\n",
        "\n",
        "**Background reading**: [Unbiased Learning-to-Rank with Biased Feedback by Joachims et al. (2017)](https://arxiv.org/pdf/1608.04468.pdf) and [Policy-aware unbiased learning to rank for top-k rankings by Oosterhuis and de Rijke (2020)](https://arxiv.org/pdf/2005.09035.pdf)\n",
        "\n",
        "**Features**: This project requires a high level of comfort with python and numpy as well as good knowledge of probability and linear algebra. Some minor data preprocessing (pytorch or tensorflow knowledge is not required but possibly useful). The simulations that are required in this project are done by taking query-document pairs from the yahoo dataset and then creating artificial user clicks based on some assumed user model+document relevances (described in detail in cited papers).\n",
        "\n",
        "**Coach (contact person)**: Norman Knyazev (norman.knyazev@ru.nl)"
      ]
    },
    {
      "cell_type": "markdown",
      "metadata": {
        "id": "A88TtBln-PSk"
      },
      "source": [
        "# Pipeline for the assignment\n",
        "\n",
        "We starten met de Yahoo! LTR dataset gegeven in de assignment. Hier elke regel in de dataset bestaat uit een  relevance $r$, een query(id) $q$, en een lijst of features $\\mathbf{f}$.\n",
        "\n",
        "1. We moeten een ranker trainen op een subset van onze data. Norman gaf zelf aan op dit te doen op een subset van features (1 feature zelfs mogelijk) met een subset van queries. In een ander paper gebruiken ze een subet van 20 queries. We hebben hier vrijheid in zolang de ranker maar niet te goed wordt.\n",
        "2. Sample queries van de training data. In alle papers die ik gelezen heb samplen ze uniform en Norman zei ook dat die het makkelijkst is. Als we een query samplen is de output een lijst van urls/docs geassociëerd met de query die gesampled is.\n",
        "3. Voor elke query die gesampled is, gebruiken we de preranker die op basis van de features een ranking van de urls genereerd.\n",
        "4. Nu moeten we de user behavior modelleren. Wat we hiermee bedoelen is dat we moeten modelleren hoe een user de documenten in de ranking inspecteerd ($p(o)$), en wanneer een user op een document clickt ($c$). Een standaard model is om $p(o)$ te definiëren als $\\frac{1}{k}$ met $k$ de rank in de ranking. We nemen dan aan dat een user clickt op het document als het relevant is($r=1$) en de user het document inspecteert. $p(c)$ is dus $p(o) \\cdot r$. Met inverse propensity scoring is het idee dat we de documenten reweighten met een factor $\\frac{1}{p(o)}$. Als een document $p(o) = \\frac{1}{2}$ heeft samplen we het document (met $r, q, c, \\mathbf{f}$) dus 2x zo vaak als een document met $p(o) = 1$).\n",
        "5. De clicks worden als labels gebruikt om een ranker op te trainen. Deze ranker wordt de full ranker genoemd. Voor unbiased LTR gebruiken we de gereweighte data, en voor biased LTR gebruiken we de output zonder te reweighten. Voor de ranker zelf raadde Norman aan om een dot product tussen $f$ en een vector $w$ te gebruiken. Deze vector $w$ wordt dan aangepast tijdens training door de MSE tussen de output van de ranker en $c$ te gebruiken als loss functie. Voor unbiased wordt deze loss ook vermenigvuldigd met $p(o)$. We kunnen dan een ranker trainen met biased data en zonder biased data, en met een biased loss en zonder een biased loss. "
      ]
    },
    {
      "cell_type": "markdown",
      "metadata": {
        "id": "iy9Y949DQjRt"
      },
      "source": [
        "# Feedback for Project proposal\n",
        "I would urge you to get a better understanding of the problem as currently the proposal appears to strongly paraphrase the project description :)\n",
        "\n",
        "In particular, you may wish to look at section 5 in the linked paper by Oosterhuis and de Rijke to see how the data processing for model training will look like (the yahoo dataset itself is fine but there's a significant extra step).\n",
        "\n",
        "The PyClick's limitation is that it doesn't accept document-query features and operates effectively as a look-up table. You can learn your own click model by following https://staff.fnwi.uva.nl/m.derijke/wp-content/papercite-data/pdf/hager-2022-are.pdf\n",
        "\n",
        "Also which click model(s)?\n",
        "\n",
        "It might also be too much to do click models AND inverse propensity scoring (it might also be ok) - you should make a clear plan for what you're planning to do and when to figure out whether you should do both or just one (and which one).\n",
        "\n",
        "You can continue working on this topic, but you need to read articles and contact your coach to make the project tangible."
      ]
    },
    {
      "cell_type": "code",
      "source": [
        "#!pip install d2l==1.0.0a1.post0"
      ],
      "metadata": {
        "id": "BMwdKOi2p3Ni"
      },
      "execution_count": null,
      "outputs": []
    },
    {
      "cell_type": "code",
      "execution_count": null,
      "metadata": {
        "id": "xk99Lsu6r8VA",
        "colab": {
          "base_uri": "https://localhost:8080/"
        },
        "outputId": "c1da2301-1f48-48bf-a3ef-a252a76a399c"
      },
      "outputs": [
        {
          "output_type": "stream",
          "name": "stderr",
          "text": [
            "/usr/local/lib/python3.8/dist-packages/torch/cuda/__init__.py:497: UserWarning: Can't initialize NVML\n",
            "  warnings.warn(\"Can't initialize NVML\")\n"
          ]
        }
      ],
      "source": [
        "# Imports\n",
        "from d2l import torch as d2l\n",
        "import numpy as np\n",
        "import tensorflow as tf\n",
        "import time\n",
        "import math\n",
        "import torch\n",
        "np.random.seed(9)"
      ]
    },
    {
      "cell_type": "markdown",
      "metadata": {
        "id": "lDPA8r2uB1L8"
      },
      "source": [
        "# Data retrieval\n",
        "We download the data via a transfer.sh link which expires every 14 days.  \n",
        "Then we extract the file in the tar.bz2 and get the training, test and validation sets.  "
      ]
    },
    {
      "cell_type": "code",
      "execution_count": null,
      "metadata": {
        "colab": {
          "base_uri": "https://localhost:8080/"
        },
        "id": "KB4MVW7yBCqA",
        "outputId": "7a2c70e1-1013-4b60-d81e-e1b832fa4152"
      },
      "outputs": [
        {
          "output_type": "stream",
          "name": "stdout",
          "text": [
            "--2022-12-13 18:04:39--  https://transfer.sh/42uKJg/ltrc_yahoo.tar.bz2\n",
            "Resolving transfer.sh (transfer.sh)... 144.76.136.153, 2a01:4f8:200:1097::2\n",
            "Connecting to transfer.sh (transfer.sh)|144.76.136.153|:443... connected.\n",
            "HTTP request sent, awaiting response... 200 OK\n",
            "Length: 441419580 (421M) [application/x-bzip]\n",
            "Saving to: ‘ltrc_yahoo.tar.bz2’\n",
            "\n",
            "ltrc_yahoo.tar.bz2  100%[===================>] 420.97M  6.76MB/s    in 3m 28s  \n",
            "\n",
            "2022-12-13 18:08:09 (2.03 MB/s) - ‘ltrc_yahoo.tar.bz2’ saved [441419580/441419580]\n",
            "\n"
          ]
        }
      ],
      "source": [
        "!wget \"https://transfer.sh/42uKJg/ltrc_yahoo.tar.bz2\"\n",
        "!tar -xf ltrc_yahoo.tar.bz2"
      ]
    },
    {
      "cell_type": "markdown",
      "metadata": {
        "id": "G_pCJJtKLNCD"
      },
      "source": [
        "# Data processing\n",
        "The files have to be read and stored into usable constructs.\n",
        "In order to binarize the relevancy, we only consider the two highest relevance grades as relevant."
      ]
    },
    {
      "cell_type": "code",
      "execution_count": null,
      "metadata": {
        "id": "zLn4SUUWLW0C"
      },
      "outputs": [],
      "source": [
        "def parse_data_line(line):\n",
        "    \"\"\"\n",
        "        line : str\n",
        "            relevance qid features\n",
        "    \"\"\"\n",
        "    line_list = line.split(\" \")\n",
        "\n",
        "    # Get the relevance\n",
        "    if int(line_list[0]) < 3:\n",
        "        relevance = 0\n",
        "    else:\n",
        "        relevance = 1\n",
        "    \n",
        "    # Get the qid\n",
        "    qid = int(line_list[1].split(\":\")[1])\n",
        "\n",
        "    # Get the features\n",
        "    urlrel_dict = {}\n",
        "    for urlrel in line_list[2:]:\n",
        "        urlrel_pair = urlrel.split(\":\")\n",
        "        urlrel_dict[int(urlrel_pair[0])] = float(urlrel_pair[1])\n",
        "\n",
        "    return relevance, qid, urlrel_dict\n",
        "\n",
        "def process_file(file_path):\n",
        "    data = {}\n",
        "    with open(file_path, 'r') as data_file:\n",
        "            for line in data_file:\n",
        "                relevance, qid, urlrel_dict = parse_data_line(line)\n",
        "                if qid in data:\n",
        "                    data[qid].append([relevance, urlrel_dict])\n",
        "                else:\n",
        "                    data[qid] = [[relevance, urlrel_dict]]\n",
        "    return data\n",
        "\n",
        "def process_set(SET_NUMBER):\n",
        "    test_set = process_file(f'set{SET_NUMBER}.test.txt')\n",
        "    train_set = process_file(f'set{SET_NUMBER}.train.txt')\n",
        "    val_set = process_file(f'set{SET_NUMBER}.valid.txt')\n",
        "\n",
        "    return test_set, train_set, val_set\n",
        "\n",
        "# Choose which set to use\n",
        "SET_NUMBER = 2\n",
        "\n",
        "test_set, train_set, val_set = process_set(SET_NUMBER)"
      ]
    },
    {
      "cell_type": "markdown",
      "metadata": {
        "id": "xdHvCfw-WRR6"
      },
      "source": [
        "### Obtain X_train, X_val, X_test and Y_train, Y_val, Y_test"
      ]
    },
    {
      "cell_type": "code",
      "execution_count": null,
      "metadata": {
        "id": "lqw54QX_OjLK"
      },
      "outputs": [],
      "source": [
        "NR_FEATURES = 700\n",
        "\n",
        "def obtain_features(data_row):\n",
        "    # Obtain dict\n",
        "    features_dict = data_row[1]\n",
        "    # Obtain list of url with feature values\n",
        "    indices = list(features_dict.keys())\n",
        "    # Will contain features with 0s added, we use shape + 1 since feature values in Yahoo dataset start at 1. \n",
        "    # We remove the 1st element with index 0 afterwards\n",
        "    features_vec = np.zeros(shape=NR_FEATURES+1)\n",
        "    features_vec[indices] = list(features_dict.values())\n",
        "    features_vec = features_vec[1:NR_FEATURES+1]\n",
        "    return features_vec\n",
        "\n",
        "def create_data_preranker(dataset):\n",
        "    X_set, y_set = [], []\n",
        "    #Sample 20 queries\n",
        "    qids = np.unique(list(dataset.keys()))\n",
        "    qids = np.random.choice(qids, 20, False)\n",
        "    for qid in dataset:\n",
        "        for data_row in dataset[qid]:\n",
        "            X_set.append(obtain_features(data_row))\n",
        "            y_set.append(data_row[0])\n",
        "    return (np.array(X_set), np.array(y_set))"
      ]
    },
    {
      "cell_type": "code",
      "execution_count": null,
      "metadata": {
        "id": "epZfjgIcWQCI"
      },
      "outputs": [],
      "source": [
        "# Create data sets\n",
        "X_train, Y_train = create_data_preranker(train_set)\n",
        "X_val, Y_val     = create_data_preranker(val_set)\n",
        "X_test, Y_Test   = create_data_preranker(test_set)"
      ]
    },
    {
      "cell_type": "markdown",
      "metadata": {
        "id": "QCm7WzYcWbHo"
      },
      "source": [
        "# Preranker (With 10 features on 20 samples)"
      ]
    },
    {
      "cell_type": "code",
      "execution_count": null,
      "metadata": {
        "id": "GC0qkzejWfit"
      },
      "outputs": [],
      "source": [
        "def DCG(query_relevancy_labels, k):\n",
        "    result = 0\n",
        "    size = len(query_relevancy_labels)\n",
        "    for i in range(min(k,size)):\n",
        "        result += query_relevancy_labels[i] / math.log2(i+2)\n",
        "    return result\n",
        "\n",
        "def NDCG(query_relevancy_labels, k = 10):\n",
        "    size = len(query_relevancy_labels)\n",
        "    dcg = DCG(query_relevancy_labels, k)\n",
        "    if dcg == 0:\n",
        "        return 0\n",
        "    else: \n",
        "        return dcg / DCG(query_relevancy_labels[query_relevancy_labels != 0],k)\n",
        "\n",
        "def MSE(predictions, labels):\n",
        "    assert(predictions.shape == labels.shape)\n",
        "    return np.mean(0.5*(predictions-labels)**2)\n",
        "\n",
        "def MSE_unbiased(predictions, labels, p_obs):\n",
        "    assert(predictions.shape == labels.shape), \"Predictions: \" + str(predictions.shape) + \"Labels: \" + str(labels.shape)\n",
        "    return np.mean((1/p_obs)*(0.5*(predictions-labels)**2))\n",
        "\n",
        "def gradient_w(predictions, labels, X):\n",
        "    assert(predictions.shape == labels.shape)\n",
        "    gradient = (predictions - labels) @ X\n",
        "    return gradient / len(predictions)\n",
        "\n",
        "def gradient_w_unbiased(predictions, labels, X, p_obs):\n",
        "    assert(predictions.shape == labels.shape)\n",
        "    gradient = 1/p_obs*((predictions - labels)) @ X\n",
        "    return gradient / len(predictions)\n",
        "\n",
        "def MSE_tensor(predictions, labels):\n",
        "    assert(predictions.shape == labels.shape)\n",
        "    return torch.mean(0.5*(predictions-labels)**2)"
      ]
    },
    {
      "cell_type": "code",
      "execution_count": null,
      "metadata": {
        "colab": {
          "base_uri": "https://localhost:8080/"
        },
        "id": "LdGaHoCRwANp",
        "outputId": "bcee45cb-9756-4322-dead-0af5b4ecc9f2"
      },
      "outputs": [
        {
          "output_type": "stream",
          "name": "stdout",
          "text": [
            "No improvement for 1 epoch, training finished.\n"
          ]
        }
      ],
      "source": [
        "def train_preranker(batch_size = 128, lr = 0.001):\n",
        "    X_train_small, Y_train_small = np.array(X_train[:20], copy=True), np.array(Y_train[:20], copy=True)\n",
        "    X_val_small, Y_val_small     = np.array(X_val[:20], copy=True), np.array(Y_val[:20], copy=True)\n",
        "\n",
        "    # Select 10 features to keep\n",
        "    sample_features = np.random.choice(np.arange(0, 700, 1), 10)\n",
        "    # Only the kept features will not be set to 0, X will also be set to 0 otherwise the weights will get updated\n",
        "    indices = np.arange(0, 700, 1)\n",
        "    indices = np.delete(indices, sample_features)\n",
        "\n",
        "    X_train_small[:, indices] = 0\n",
        "    X_val_small[:, indices] = 0\n",
        "\n",
        "    # Initialize our model (weight vector), and only set weights not multiplied by a vector to 0.\n",
        "    w = np.random.uniform(size=(NR_FEATURES))\n",
        "    w[indices] = 0\n",
        "\n",
        "    losses_train = []\n",
        "    losses_val = []\n",
        "\n",
        "    epoch_best = 0\n",
        "    epochs_wo_improv = 1\n",
        "\n",
        "    for e in range(200000):\n",
        "        # Permute data\n",
        "        permutation = np.random.permutation(len(X_train_small))\n",
        "        X_train_small[np.arange(0,len(X_train_small), 1)] = X_train_small[permutation]\n",
        "        Y_train_small[np.arange(0, len(Y_train_small), 1)] = Y_train_small[permutation]\n",
        "        # Predict\n",
        "        predictions = np.dot(X_train_small, w)\n",
        "        predictions_val = np.dot(X_val_small, w)\n",
        "        # Obtain loss\n",
        "        loss = MSE(predictions, Y_train_small)\n",
        "        loss_val = MSE(predictions_val, Y_val_small)\n",
        "        # Update w\n",
        "        w = w - lr*gradient_w(predictions, Y_train_small, X_train_small)\n",
        "        losses_train.append(loss)\n",
        "        losses_val.append(loss_val)\n",
        "        #Early stopping \n",
        "        #Keep track of minimum\n",
        "        if(e >= 1 and loss_val < min(losses_val[epoch_best:-1])):\n",
        "            epoch_best = e\n",
        "            #Store optimal weights in w_min\n",
        "            w_pr = np.copy(w) \n",
        "        if(e >= epochs_wo_improv and (epoch_best <= e-epochs_wo_improv)):\n",
        "            print(\"No improvement for 1 epoch, training finished.\")\n",
        "            break\n",
        "    return w, w_pr, losses_train, losses_val\n",
        "\n",
        "w, w_pr, losses_train, losses_val = train_preranker(batch_size = 128, lr = 0.001)"
      ]
    },
    {
      "cell_type": "code",
      "execution_count": null,
      "metadata": {
        "colab": {
          "base_uri": "https://localhost:8080/",
          "height": 295
        },
        "id": "hSoSg7BsWzma",
        "outputId": "abd2530c-af8a-47d8-f6ab-c00a58a061f9"
      },
      "outputs": [
        {
          "output_type": "display_data",
          "data": {
            "text/plain": [
              "<Figure size 432x288 with 1 Axes>"
            ],
            "image/png": "[encoded data removed]"
          },
          "metadata": {
            "needs_background": "light"
          }
        }
      ],
      "source": [
        "import matplotlib.pyplot as plt\n",
        "\n",
        "def plot_preranker(losses_train, losses_val):\n",
        "    plt.ylim(0,1)\n",
        "    plt.plot(losses_train, label='train')\n",
        "    plt.plot(losses_val, label='val')\n",
        "    plt.xlabel(\"Epoch\")\n",
        "    plt.ylabel(\"Loss\")\n",
        "    plt.title(\"Training the preranker\")\n",
        "    plt.legend()\n",
        "    plt.show()\n",
        "\n",
        "plot_preranker(losses_train, losses_val)"
      ]
    },
    {
      "cell_type": "markdown",
      "metadata": {
        "id": "kzllul2hW19H"
      },
      "source": [
        "# Sample queries"
      ]
    },
    {
      "cell_type": "code",
      "execution_count": null,
      "metadata": {
        "id": "EjLU18D9W43A"
      },
      "outputs": [],
      "source": [
        "# Obtain query ids\n",
        "qids_train = np.fromiter(train_set.keys(), dtype=int)\n",
        "qids_val = np.fromiter(val_set.keys(), dtype=int)\n",
        "qids_test = np.fromiter(test_set.keys(), dtype=int)\n",
        "\n",
        "# All data\n",
        "sampled_qs_train = np.random.permutation(qids_train)\n",
        "sampled_qs_val = np.random.permutation(qids_val)\n",
        "sampled_qs_test = np.random.permutation(qids_test)"
      ]
    },
    {
      "cell_type": "markdown",
      "metadata": {
        "id": "lBhkIlK4XA5Q"
      },
      "source": [
        "# Model user behavior"
      ]
    },
    {
      "cell_type": "code",
      "execution_count": null,
      "metadata": {
        "id": "R-IHnc4iXEu1"
      },
      "outputs": [],
      "source": [
        "#Function adds p(o) and c as columns to the data\n",
        "def add_user_behavior(relevances, nr_clicks, max_nr_clicks, click_noise = 0.1):\n",
        "    p_obss = []\n",
        "    clickss = []\n",
        "    #Iterate over each url in the ranking\n",
        "    for i, relevance in enumerate(relevances):\n",
        "        #p_obs is 1/rank\n",
        "        p_obs = 1/(i+1)\n",
        "        p_obss.append(p_obs)\n",
        "        #Cases (r=0,o=0)->p(c)=0, (r=0, o=1)->p(c)=0.1, (r=1,o=0)->p(c)=0, (r=1,o=1)->p(c)=1 below\n",
        "        #r = 0\n",
        "        if(relevance == 0):\n",
        "            rand_p_obs = np.random.uniform(0., 1.)\n",
        "            #o=1\n",
        "            if(rand_p_obs < p_obs):\n",
        "                #click noise\n",
        "                if(np.random.uniform(0., 1.) < click_noise):\n",
        "                    click = 1\n",
        "                else:\n",
        "                    click = 0\n",
        "            #o=0\n",
        "            else:\n",
        "                click = 0\n",
        "            nr_clicks += click\n",
        "            clickss.append(click)\n",
        "            #Check if we exceeded max nr of clicks\n",
        "            if nr_clicks >= max_nr_clicks:\n",
        "                #Return array of p_obs left and array of zero clicks left\n",
        "                clicks_so_far = np.array(clickss)\n",
        "                p_obs_so_far = np.array(p_obss)\n",
        "                clicks_left = np.zeros(shape = (len(relevances) - len(clicks_so_far)))\n",
        "                p_obs_left = np.zeros(shape = (len(relevances) - len(p_obs_so_far)))\n",
        "                for j in range(len(p_obs_left)):\n",
        "                    p_obs_left[j] = float(1/(j+len(p_obs_so_far)+1))\n",
        "                p_obss = list(np.concatenate((p_obs_so_far, p_obs_left)))\n",
        "                clickss = list(np.concatenate((clicks_so_far, clicks_left)))\n",
        "                assert p_obs_left[len(p_obs_left)-1] == float(1/len(relevances))\n",
        "                assert len(p_obss) == len(clickss)\n",
        "                assert len(clickss) == len(relevances)\n",
        "                break\n",
        "        #r = 1\n",
        "        else:\n",
        "            #Model randomness of clicking\n",
        "            rand_p_obs = np.random.uniform(0., 1.)\n",
        "            #o = 1\n",
        "            if(rand_p_obs < p_obs):\n",
        "                click = 1\n",
        "            #o = 0\n",
        "            else:\n",
        "                click = 0\n",
        "            nr_clicks += click\n",
        "            clickss.append(click)\n",
        "            #Check if we exceeded max nr of clicks\n",
        "            if nr_clicks >= max_nr_clicks:\n",
        "                #Return array of p_obs left and array of zero clicks left\n",
        "                clicks_so_far = np.array(clickss)\n",
        "                p_obs_so_far = np.array(p_obss)\n",
        "                clicks_left = np.zeros(shape = (len(relevances) - len(clicks_so_far)))\n",
        "                p_obs_left = np.zeros(shape = (len(relevances) - len(p_obs_so_far)))\n",
        "                for j in range(len(p_obs_left)):\n",
        "                    p_obs_left[j] = float(1/(j+len(p_obs_so_far)+1))\n",
        "                assert p_obs_left[len(p_obs_left)-1] == float(1/len(relevances))\n",
        "                p_obss = list(np.concatenate((p_obs_so_far, p_obs_left)))\n",
        "                clickss = list(np.concatenate((clicks_so_far, clicks_left)))\n",
        "                assert len(p_obss) == len(clickss)\n",
        "                assert len(clickss) == len(relevances)\n",
        "                break\n",
        "\n",
        "    return p_obss, clickss"
      ]
    },
    {
      "cell_type": "markdown",
      "metadata": {
        "id": "MLZzQykFpeuw"
      },
      "source": [
        "# Generate data with clicks, and data for val + test (no clicks necessary)"
      ]
    },
    {
      "cell_type": "code",
      "execution_count": null,
      "metadata": {
        "colab": {
          "base_uri": "https://localhost:8080/"
        },
        "id": "X-j2M7BL3Dmj",
        "outputId": "13452cee-d403-4925-c36d-62b1d267cccc"
      },
      "outputs": [
        {
          "name": "stdout",
          "output_type": "stream",
          "text": [
            "4.7367963790893555\n",
            "Clicks generated: 7509\n",
            "3.3225033283233643\n",
            "Clicks generated: 1355\n"
          ]
        }
      ],
      "source": [
        "def generate_clicks(w, sampled_qs, data_set, click_simulations_per_query = 10, max_nr_clicks = 7500):\n",
        "    start = time.time()\n",
        "    data_wclicks = {}\n",
        "    clicks = {}\n",
        "    p_obs_dir = {}\n",
        "    nr_clicks = 0\n",
        "    nr_queries_wo_rel = 0\n",
        "\n",
        "    for sampled_q in sampled_qs:\n",
        "        urls = np.array(data_set[sampled_q])\n",
        "        features = []\n",
        "        for data_row in urls:\n",
        "            features.append(obtain_features(data_row))\n",
        "        scores = np.dot(features, w)\n",
        "        \n",
        "        ranking = [list(urls[:,0]), features, list(scores)]\n",
        "        \n",
        "        #sort based on ranking\n",
        "        indices = np.argsort(np.array(ranking[2]))\n",
        "        relevances = np.array(ranking[0])[indices]\n",
        "        features = np.array(ranking[1])[indices]\n",
        "        scores = np.array(ranking[2])[indices]\n",
        "        \n",
        "        p_obs_ = np.arange(1, len(data_set[sampled_q])+1, 1)\n",
        "        p_obs_ = np.ones(shape=(len(data_set[sampled_q]),)) / p_obs_\n",
        "        p_obs_dir[sampled_q] = p_obs_\n",
        "\n",
        "        data_wclicks[sampled_q] = [relevances, features, scores]\n",
        "\n",
        "        clicks[sampled_q] = np.zeros(shape=(len(data_set[sampled_q]), click_simulations_per_query))\n",
        "          \n",
        "    #Calculate the clicks for each query\n",
        "    for i in range(click_simulations_per_query):\n",
        "        if nr_clicks >= max_nr_clicks:\n",
        "            i -= 1\n",
        "            break\n",
        "        else:   \n",
        "            q_idx = 0\n",
        "            for sampled_q in sampled_qs:\n",
        "                relevances = data_wclicks[sampled_q][0]\n",
        "                \n",
        "                p_obs, clicks_sim = add_user_behavior(relevances, nr_clicks, max_nr_clicks)\n",
        "                nr_clicks += sum(clicks_sim)\n",
        "                clicks[sampled_q][:,i] = clicks_sim #/ np.array(p_obs)\n",
        "                #assert np.array(clicks_sim).shape == np.array(p_obs).shape\n",
        "                #p_obs_dir[sampled_q] = p_obs\n",
        "                if nr_clicks >= max_nr_clicks:\n",
        "                    break\n",
        "                q_idx += 1\n",
        "\n",
        "    #Calculate average clickthrough rate and create final return object\n",
        "    for sampled_q in sampled_qs[0:q_idx]:\n",
        "        relevances = data_wclicks[sampled_q][0]\n",
        "        features   = data_wclicks[sampled_q][1]\n",
        "        scores     = data_wclicks[sampled_q][2]\n",
        "        data_wclicks[sampled_q] = [relevances, features, scores, p_obs_dir[sampled_q], np.mean(clicks[sampled_q][:,0:i+1], axis=1)]\n",
        "        if sum(np.mean(clicks[sampled_q][:,0:i+1], axis=1)) == 0:\n",
        "            nr_queries_wo_rel += 1\n",
        "        \n",
        "    for sampled_q in sampled_qs[q_idx:]:\n",
        "        if i == 0:\n",
        "            relevances = data_wclicks[sampled_q][0]\n",
        "            features   = data_wclicks[sampled_q][1]\n",
        "            scores     = data_wclicks[sampled_q][2]\n",
        "            clicks[sampled_q] = np.zeros(shape=(len(data_set[sampled_q]),))\n",
        "            data_wclicks[sampled_q] = [relevances, features, scores, p_obs_dir[sampled_q], clicks[sampled_q]]\n",
        "            nr_queries_wo_rel += 1\n",
        "        else:\n",
        "            relevances = data_wclicks[sampled_q][0]\n",
        "            features   = data_wclicks[sampled_q][1]\n",
        "            scores     = data_wclicks[sampled_q][2]\n",
        "            data_wclicks[sampled_q] = [relevances, features, scores, p_obs_dir[sampled_q], np.mean(clicks[sampled_q][:,0:i], axis=1)]\n",
        "            if sum(np.mean(clicks[sampled_q][:,0:i], axis=1)) == 0:\n",
        "                nr_queries_wo_rel += 1\n",
        "    print(\"Queries without relevance: \" + str(nr_queries_wo_rel))\n",
        "\n",
        "    end = time.time()\n",
        "    print((end-start))\n",
        "    print(\"Clicks generated: \" + str(nr_clicks))\n",
        "    return data_wclicks\n",
        "        \n",
        "MAX_NR_CLICKS = 100000\n",
        "\n",
        "data_wclicks_train = generate_clicks(w, sampled_qs_train, set2_train, click_simulations_per_query = 1000, max_nr_clicks = MAX_NR_CLICKS)\n",
        "data_wclicks_val = generate_clicks(w, sampled_qs_val, set2_val, click_simulations_per_query = 1000, max_nr_clicks = int(MAX_NR_CLICKS*(len(set2_val)/len(set2_train))))"
      ]
    },
    {
      "cell_type": "code",
      "execution_count": null,
      "metadata": {
        "colab": {
          "base_uri": "https://localhost:8080/"
        },
        "id": "4kU8pMXDu3LZ",
        "outputId": "2df545a6-b5bb-45db-91df-b1fb8e351d66"
      },
      "outputs": [
        {
          "name": "stdout",
          "output_type": "stream",
          "text": [
            "5.690744876861572\n",
            "Clicks generated: 6829\n"
          ]
        }
      ],
      "source": [
        "def generate_clicks_train(w, sampled_qs_train, train_set, click_simulations_per_query = 10, max_nr_clicks = 7500):\n",
        "    # How many time we simulates clicks for the queries, and the max number of clicks we generate\n",
        "    start = time.time()\n",
        "    data_wclicks_train = {} \n",
        "    nr_clicks = 0\n",
        "    # Iterate over sampled queries\n",
        "    for sampled_q in sampled_qs_train:        \n",
        "        # Obtain urls of query for scoring\n",
        "        urls = np.array(train_set[sampled_q])\n",
        "        features = []\n",
        "        for data_row in train_set[sampled_q]:\n",
        "            features.append(obtain_features(data_row))\n",
        "        scores = np.dot(features, w)\n",
        "        # ranking will be returned\n",
        "        ranking = []\n",
        "        ranking.append(list(urls[:,0]))\n",
        "        ranking.append(features)\n",
        "        ranking.append(list(scores))\n",
        "\n",
        "        # Sort based on ranking\n",
        "        indices = np.argsort(np.array(ranking[2]))\n",
        "        relevances = (np.array(ranking[0])[indices])\n",
        "        features = (np.array(ranking[1])[indices])\n",
        "        scores = (np.array(ranking[2])[indices])\n",
        "        # Distinguish on whether we already generated enough clicks\n",
        "        if(nr_clicks >= max_nr_clicks):\n",
        "            clicks = np.zeros(shape=(len(train_set[sampled_q]),))\n",
        "            p_obs, _ = add_user_behavior(relevances)\n",
        "            data_wclicks_train[sampled_q] = [relevances, features, scores, p_obs, clicks]\n",
        "        else:\n",
        "            # Obtain average clickthrough rate\n",
        "            clicks = np.zeros(shape=(len(train_set[sampled_q]), click_simulations_per_query))\n",
        "            for i in range(click_simulations_per_query):\n",
        "                p_obs, clicks_sim = add_user_behavior(relevances)\n",
        "                nr_clicks += sum(clicks_sim)\n",
        "                clicks[:,i] = clicks_sim \n",
        "                # We have generated necessary amount of clicks, return dictionary over mean of nr simulations so far\n",
        "                if(nr_clicks >= max_nr_clicks):\n",
        "                    data_wclicks_train[sampled_q] = [relevances, features, scores, p_obs, np.mean(clicks[:,0:i+1], axis=1)]\n",
        "                    break\n",
        "            # If we have not exceeded max clicks, dictionary is mean over whole clicks array\n",
        "            if(nr_clicks < max_nr_clicks):\n",
        "                data_wclicks_train[sampled_q] = [relevances, features, scores, p_obs, np.mean(clicks, axis=1)]\n",
        "    end = time.time()\n",
        "    print((end-start))\n",
        "    print(\"Clicks generated: \" + str(nr_clicks))\n",
        "    return data_wclicks_train\n",
        "\n",
        "data_wclicks_train = generate_clicks_train(w, sampled_qs_train, train_set, click_simulations_per_query = 10, max_nr_clicks = 7500)"
      ]
    },
    {
      "cell_type": "code",
      "execution_count": null,
      "metadata": {
        "id": "yvEiaTwtvVM7"
      },
      "outputs": [],
      "source": [
        "def generate_clicks_val(w, sampled_qs_val, val_set, click_simulations_per_query = 10):\n",
        "    data_wclicks_val = {}\n",
        "    nr_clicks = 0\n",
        "    # Iterate over sampled queries\n",
        "    for sampled_q in sampled_qs_val:\n",
        "        # Obtain urls of query for scoring\n",
        "        urls = np.array(val_set[sampled_q])\n",
        "        features = []\n",
        "        for data_row in val_set[sampled_q]:\n",
        "            features.append(obtain_features(data_row))\n",
        "        scores = np.dot(features, w)\n",
        "        # ranking will be returned, and will\n",
        "        ranking = []\n",
        "        ranking.append(list(urls[:,0]))\n",
        "        ranking.append(features)\n",
        "        ranking.append(list(scores))\n",
        "        # Sort based on ranking\n",
        "        indices = np.argsort(np.array(ranking[2]))\n",
        "        relevances = (np.array(ranking[0])[indices])\n",
        "        features = (np.array(ranking[1])[indices])\n",
        "        scores = (np.array(ranking[2])[indices])\n",
        "\n",
        "        # Average clickthrough rate\n",
        "        clicks = np.zeros(shape=(len(val_set[sampled_q]), click_simulations_per_query))\n",
        "        for i in range(click_simulations_per_query):\n",
        "            p_obs, clicks_sim = add_user_behavior(relevances)\n",
        "            nr_clicks += sum(clicks_sim)\n",
        "            clicks[:,i] = clicks_sim \n",
        "        \n",
        "        # Obtain p(o)s and click_labels of ranking and extend to lists\n",
        "        data_wclicks_val[sampled_q] = [relevances, features, scores, p_obs, np.mean(clicks, axis=1)]\n",
        "    return data_wclicks_val\n",
        "\n",
        "data_wclicks_val = generate_clicks_val(w, sampled_qs_val, val_set, click_simulations_per_query = 10)"
      ]
    },
    {
      "cell_type": "code",
      "execution_count": null,
      "metadata": {
        "id": "0c0-ELW5OM4B"
      },
      "outputs": [],
      "source": [
        "def generate_clicks_test(sampled_qs_test, test_set):\n",
        "    data_wclicks_test = {} \n",
        "    # Iterate over sampled queries\n",
        "    for sampled_q in sampled_qs_test:\n",
        "        # Obtain urls of query for scoring\n",
        "        urls = np.array(test_set[sampled_q])\n",
        "        features = []\n",
        "        for data_row in test_set[sampled_q]:\n",
        "            features.append(obtain_features(data_row))\n",
        "        relevances = urls[:,0]\n",
        "\n",
        "        data_wclicks_test[sampled_q] = [relevances, features]\n",
        "    return data_wclicks_test\n",
        "\n",
        "data_wclicks_test = generate_clicks_test(sampled_qs_test, test_set)"
      ]
    },
    {
      "cell_type": "markdown",
      "metadata": {
        "id": "DxJEpY_PXVCf"
      },
      "source": [
        "# Full ranker"
      ]
    },
    {
      "cell_type": "code",
      "execution_count": null,
      "metadata": {
        "id": "UmpQxD3-erpY"
      },
      "outputs": [],
      "source": [
        "def create_batches(x_train, y_train, p_obs, batch_size):\n",
        "    batches = []\n",
        "    total_samples = x_train.shape[0]\n",
        "    # Create the batches where there are enough samples \n",
        "    x_train_batches = np.split(x_train[:(total_samples - (total_samples % batch_size))], total_samples // batch_size)\n",
        "    y_train_batches = np.split(y_train[:(total_samples - (total_samples % batch_size))], total_samples // batch_size)\n",
        "    p_obs_batches = np.split(p_obs[:(total_samples - (total_samples % batch_size))], total_samples // batch_size)\n",
        "    \n",
        "    # Create the final smaller batch\n",
        "    if total_samples/batch_size != 0:\n",
        "        x_train_batches.append(x_train[total_samples - (total_samples % batch_size):])\n",
        "        y_train_batches.append(y_train[total_samples - (total_samples % batch_size):])\n",
        "        p_obs_batches.append(p_obs[total_samples - (total_samples % batch_size):])\n",
        "\n",
        "    # Merge the batches for X_train and y_train together\n",
        "    for i in range(len(x_train_batches)):\n",
        "        batches.append((x_train_batches[i], y_train_batches[i], p_obs_batches[i]))\n",
        "\n",
        "    return batches"
      ]
    },
    {
      "cell_type": "code",
      "source": [
        "import math\n",
        "\n",
        "ORACLE = False\n",
        "UNBIASED = True\n",
        "EPOCHS = 100\n",
        "\n",
        "#Glorot initialization\n",
        "w = np.random.normal(0, np.sqrt(2/(700+1)), size=(NR_FEATURES))\n",
        "lr = 0.001\n",
        "\n",
        "losses = []\n",
        "losses_val = []\n",
        "\n",
        "ndcgs = []\n",
        "ndcgs_val = []\n",
        "\n",
        "#Variables used for early stopping\n",
        "epoch_best = 0\n",
        "epochs_wo_improv = 5\n",
        "\n",
        "start = time.time()\n",
        "for e in range(EPOCHS):\n",
        "    #Permute data\n",
        "    permutation = np.random.permutation(len(sampled_qs_train))\n",
        "    sampled_qs_train = sampled_qs_train[permutation]\n",
        "    pw_losses_q = []\n",
        "    losses_q = []\n",
        "    ndcg_q = []\n",
        "    #Sample queries\n",
        "    for q in sampled_qs_train:\n",
        "        X_train = np.array(data_wclicks_train[q][1])\n",
        "        if ORACLE:\n",
        "            Y_train = np.array(data_wclicks_train[q][0])\n",
        "        else:\n",
        "            Y_train = np.array(data_wclicks_train[q][4])\n",
        "        P_obs = np.array(data_wclicks_train[q][3])\n",
        "        #Obtain test prediction and loss\n",
        "        predictions = np.dot(X_train, w)\n",
        "        #Obtain indices of elements after sorting on score of prediction, this is necessary to rerank the labels in the NDCG calcualtion\n",
        "        indices = np.flip(np.argsort(predictions))\n",
        "        if(UNBIASED):\n",
        "            loss = MSE_unbiased(predictions, Y_train, P_obs)\n",
        "            w = w - lr*gradient_w_unbiased(predictions, Y_train, X_train, P_obs)\n",
        "        else:\n",
        "            loss = MSE(predictions, Y_train)\n",
        "            w = w - lr*gradient_w(predictions, Y_train, X_train)\n",
        "   \n",
        "        losses_q.append(loss)\n",
        "        ndcg = NDCG(Y_train[indices], 10)\n",
        "        ndcg_q.append(ndcg)\n",
        "        \n",
        "\n",
        "    #Obtain validation ndcg\n",
        "    ndcg_q_val = []\n",
        "    ndcg_q_val_rel = []\n",
        "    mse_val = []\n",
        "    pw_losses_q_val = []\n",
        "    for q_val in sampled_qs_val:\n",
        "        X_val = np.array(data_wclicks_val[q_val][1])\n",
        "        if ORACLE:\n",
        "            Y_val = np.array(data_wclicks_val[q_val][0])\n",
        "        else:\n",
        "            Y_val = np.array(data_wclicks_val[q_val][4])\n",
        "        predictions_val = np.dot(X_val, w)\n",
        "        indices_val = np.flip(np.argsort(predictions_val))        \n",
        "        ndcg_val = NDCG(Y_val[indices_val], 10)\n",
        "        ndcg_q_val.append(ndcg_val)\n",
        "        if UNBIASED:\n",
        "            P_obs = np.array(data_wclicks_val[q_val][3])\n",
        "            mse_val.append(MSE_unbiased(predictions_val, Y_val, P_obs))\n",
        "        else:\n",
        "            mse_val.append(MSE(predictions_val, Y_val))\n",
        "        pw_loss_val = pairwise_loss(predictions_val, Y_val)\n",
        "        pw_losses_q_val.append(pw_loss_val)\n",
        "\n",
        "            \n",
        "    loss_val = np.mean(mse_val)\n",
        "    losses_val.append(loss_val)\n",
        "    \n",
        "    loss = np.mean(losses_q)\n",
        "    losses.append(loss)\n",
        "    \n",
        "    ndcg = np.mean(ndcg_q)\n",
        "    ndcgs.append(ndcg)\n",
        "    ndcg_val = np.mean(ndcg_q_val)\n",
        "    ndcgs_val.append(ndcg_val)\n",
        "    \n",
        "    print(\"Epoch \" + str(e) + \": Validation loss: \" + str(np.mean(mse_val)) + \", NDCG@10 \" + str(np.mean(ndcg_q_val)))\n",
        "    \n",
        "    #Early stopping \n",
        "    #Keep track of minimum\n",
        "    if(e >= 1 and loss_val < min(losses_val[epoch_best:-1])):\n",
        "        epoch_best = e\n",
        "        #Store optimal weights in w_min\n",
        "        w_min = np.copy(w) \n",
        "        print(epoch_best)\n",
        "    if(e >= epochs_wo_improv and (epoch_best <= e-epochs_wo_improv)):\n",
        "        print(\"No improvement for 20 epochs, training finished.\")\n",
        "        break\n",
        "    \n",
        "end = time.time()\n",
        "print(\"Training took \" +str(end-start) +\" seconds\")\n",
        "print(\"NDCG@10 train: \" + str(ndcgs[e-1]))\n",
        "print(\"NDCG@10 val: \" + str(ndcgs_val[e-1]))"
      ],
      "metadata": {
        "id": "Gmx9LLhaylVf"
      },
      "execution_count": null,
      "outputs": []
    },
    {
      "cell_type": "code",
      "execution_count": null,
      "metadata": {
        "id": "m8w-ME4l-TPc"
      },
      "outputs": [],
      "source": [
        "def train_full_ranker(sampled_qs_train, data_wclicks_train, sampled_qs_val, data_wclicks_val, unbiased = True, epochs = 100, lr = 0.001):\n",
        "    w = np.random.normal(0, np.sqrt(2/(700+1)), size=(NR_FEATURES))\n",
        "    losses_train = []\n",
        "    losses_val = []\n",
        "    ndcgs = []\n",
        "    ndcgs_val = []\n",
        "\n",
        "    # Variables used for early stopping\n",
        "    epoch_best = 0\n",
        "    epochs_wo_improv = 5\n",
        "\n",
        "    start = time.time()\n",
        "    for e in range(epochs):\n",
        "        # Permute data\n",
        "        permutation = np.random.permutation(len(sampled_qs_train))\n",
        "        sampled_qs_train = sampled_qs_train[permutation]\n",
        "        losses_q = []\n",
        "        ndcg_q = []\n",
        "        # Sample queries\n",
        "        for q in sampled_qs_train:\n",
        "            X_train = np.array(data_wclicks_train[q][1])\n",
        "            Y_train = np.array(data_wclicks_train[q][4])\n",
        "            P_obs = np.array(data_wclicks_train[q][3])\n",
        "            # Obtain test prediction and loss\n",
        "            predictions = np.dot(X_train, w)\n",
        "            # Obtain indices of elements after sorting on score of prediction, this is necessary to rerank the labels in the NDCG calcualtion\n",
        "            indices = np.flip(np.argsort(predictions))\n",
        "            if(unbiased):\n",
        "                loss = MSE_unbiased(predictions, Y_train, P_obs)\n",
        "                w = w - lr * gradient_w_unbiased(predictions, Y_train, X_train, P_obs)\n",
        "            else:\n",
        "                loss = MSE(predictions, Y_train)\n",
        "                w = w - lr*gradient_w(predictions, Y_train, X_train)\n",
        "            losses_q.append(loss)\n",
        "            ndcg = NDCG(Y_train[indices], 10)\n",
        "            ndcg_q.append(ndcg)\n",
        "            \n",
        "        # Obtain validation ndcg\n",
        "        ndcg_q_val = []\n",
        "        mse_val = []\n",
        "        for q_val in sampled_qs_val:\n",
        "            X_val = np.array(data_wclicks_val[q_val][1])\n",
        "            Y_val = np.array(data_wclicks_val[q_val][4])\n",
        "            predictions_val = np.dot(X_val, w)\n",
        "            indices_val = np.flip(np.argsort(predictions_val))    \n",
        "            ndcg_val = NDCG(Y_val[indices_val], 10)\n",
        "            ndcg_q_val.append(ndcg_val)\n",
        "            mse_val.append(MSE(predictions_val, Y_val))\n",
        "\n",
        "        # Validation metrics\n",
        "        loss_val = np.mean(mse_val)\n",
        "        losses_val.append(loss_val)\n",
        "        \n",
        "        loss = np.mean(losses_q)\n",
        "        losses_train.append(loss)\n",
        "        \n",
        "        ndcg = np.mean(ndcg_q)\n",
        "        ndcgs.append(ndcg)\n",
        "        ndcg_val = np.mean(ndcg_q_val)\n",
        "        ndcgs_val.append(ndcg_val)\n",
        "\n",
        "        print(\"Epoch \" + str(e) + \": Validation loss: \" + str(np.mean(mse_val)) + \", NDCG@10 \" + str(np.mean(ndcg_q_val)))\n",
        "\n",
        "        # Early stopping\n",
        "        if(e >= 1 and loss_val < min(losses_val[epoch_best:-1])):\n",
        "            epoch_best = e\n",
        "            # Store optimal weights in w_min\n",
        "            w_min = np.copy(w) \n",
        "        if(e >= epochs_wo_improv and (epoch_best <= e-epochs_wo_improv)):\n",
        "            print(\"No improvement for \" +str(epochs_wo_improv) + \" epochs, training finished.\")\n",
        "            break\n",
        "\n",
        "    end = time.time()\n",
        "    print(\"Training took \" +str(end-start) +\" seconds\")\n",
        "    print(\"NDCG@10 train: \" + str(ndcgs[e-1]))\n",
        "    print(\"NDCG@10 val: \" + str(ndcgs_val[e-1]))\n",
        "    return w, w_min, losses_train, losses_val, ndcgs, ndcgs_val\n",
        "\n",
        "w, w_min, losses_train, losses_val, ndcgs, ndcgs_val = train_full_ranker(sampled_qs_train, data_wclicks_train, sampled_qs_val, data_wclicks_val, unbiased = True, epochs = 100, lr = 0.001)"
      ]
    },
    {
      "cell_type": "code",
      "execution_count": null,
      "metadata": {
        "colab": {
          "base_uri": "https://localhost:8080/",
          "height": 391
        },
        "id": "JAIEW5neXlLt",
        "outputId": "517f9e38-8605-4770-d047-3d3efa01b376"
      },
      "outputs": [
        {
          "data": {
            "image/svg+xml": "<?xml version=\"1.0\" encoding=\"utf-8\" standalone=\"no\"?>\n<!DOCTYPE svg PUBLIC \"-//W3C//DTD SVG 1.1//EN\"\n  \"http://www.w3.org/Graphics/SVG/1.1/DTD/svg11.dtd\">\n<!-- Created with matplotlib (https://matplotlib.org/) -->\n<svg height=\"277.314375pt\" version=\"1.1\" viewBox=\"0 0 392.14375 277.314375\" width=\"392.14375pt\" xmlns=\"http://www.w3.org/2000/svg\" xmlns:xlink=\"http://www.w3.org/1999/xlink\">\n <defs>\n  <style type=\"text/css\">\n*{stroke-linecap:butt;stroke-linejoin:round;}\n  </style>\n </defs>\n <g id=\"figure_1\">\n  <g id=\"patch_1\">\n   <path d=\"M 0 277.314375 \nL 392.14375 277.314375 \nL 392.14375 0 \nL 0 0 \nz\n\" style=\"fill:none;\"/>\n  </g>\n  <g id=\"axes_1\">\n   <g id=\"patch_2\">\n    <path d=\"M 50.14375 239.758125 \nL 384.94375 239.758125 \nL 384.94375 22.318125 \nL 50.14375 22.318125 \nz\n\" style=\"fill:#ffffff;\"/>\n   </g>\n   <g id=\"matplotlib.axis_1\">\n    <g id=\"xtick_1\">\n     <g id=\"line2d_1\">\n      <defs>\n       <path d=\"M 0 0 \nL 0 3.5 \n\" id=\"mffe0e321f5\" style=\"stroke:#000000;stroke-width:0.8;\"/>\n      </defs>\n      <g>\n       <use style=\"stroke:#000000;stroke-width:0.8;\" x=\"65.361932\" xlink:href=\"#mffe0e321f5\" y=\"239.758125\"/>\n      </g>\n     </g>\n     <g id=\"text_1\">\n      <!-- 0 -->\n      <defs>\n       <path d=\"M 31.78125 66.40625 \nQ 24.171875 66.40625 20.328125 58.90625 \nQ 16.5 51.421875 16.5 36.375 \nQ 16.5 21.390625 20.328125 13.890625 \nQ 24.171875 6.390625 31.78125 6.390625 \nQ 39.453125 6.390625 43.28125 13.890625 \nQ 47.125 21.390625 47.125 36.375 \nQ 47.125 51.421875 43.28125 58.90625 \nQ 39.453125 66.40625 31.78125 66.40625 \nz\nM 31.78125 74.21875 \nQ 44.046875 74.21875 50.515625 64.515625 \nQ 56.984375 54.828125 56.984375 36.375 \nQ 56.984375 17.96875 50.515625 8.265625 \nQ 44.046875 -1.421875 31.78125 -1.421875 \nQ 19.53125 -1.421875 13.0625 8.265625 \nQ 6.59375 17.96875 6.59375 36.375 \nQ 6.59375 54.828125 13.0625 64.515625 \nQ 19.53125 74.21875 31.78125 74.21875 \nz\n\" id=\"DejaVuSans-48\"/>\n      </defs>\n      <g transform=\"translate(62.180682 254.356562)scale(0.1 -0.1)\">\n       <use xlink:href=\"#DejaVuSans-48\"/>\n      </g>\n     </g>\n    </g>\n    <g id=\"xtick_2\">\n     <g id=\"line2d_2\">\n      <g>\n       <use style=\"stroke:#000000;stroke-width:0.8;\" x=\"131.52794\" xlink:href=\"#mffe0e321f5\" y=\"239.758125\"/>\n      </g>\n     </g>\n     <g id=\"text_2\">\n      <!-- 5 -->\n      <defs>\n       <path d=\"M 10.796875 72.90625 \nL 49.515625 72.90625 \nL 49.515625 64.59375 \nL 19.828125 64.59375 \nL 19.828125 46.734375 \nQ 21.96875 47.46875 24.109375 47.828125 \nQ 26.265625 48.1875 28.421875 48.1875 \nQ 40.625 48.1875 47.75 41.5 \nQ 54.890625 34.8125 54.890625 23.390625 \nQ 54.890625 11.625 47.5625 5.09375 \nQ 40.234375 -1.421875 26.90625 -1.421875 \nQ 22.3125 -1.421875 17.546875 -0.640625 \nQ 12.796875 0.140625 7.71875 1.703125 \nL 7.71875 11.625 \nQ 12.109375 9.234375 16.796875 8.0625 \nQ 21.484375 6.890625 26.703125 6.890625 \nQ 35.15625 6.890625 40.078125 11.328125 \nQ 45.015625 15.765625 45.015625 23.390625 \nQ 45.015625 31 40.078125 35.4375 \nQ 35.15625 39.890625 26.703125 39.890625 \nQ 22.75 39.890625 18.8125 39.015625 \nQ 14.890625 38.140625 10.796875 36.28125 \nz\n\" id=\"DejaVuSans-53\"/>\n      </defs>\n      <g transform=\"translate(128.34669 254.356562)scale(0.1 -0.1)\">\n       <use xlink:href=\"#DejaVuSans-53\"/>\n      </g>\n     </g>\n    </g>\n    <g id=\"xtick_3\">\n     <g id=\"line2d_3\">\n      <g>\n       <use style=\"stroke:#000000;stroke-width:0.8;\" x=\"197.693948\" xlink:href=\"#mffe0e321f5\" y=\"239.758125\"/>\n      </g>\n     </g>\n     <g id=\"text_3\">\n      <!-- 10 -->\n      <defs>\n       <path d=\"M 12.40625 8.296875 \nL 28.515625 8.296875 \nL 28.515625 63.921875 \nL 10.984375 60.40625 \nL 10.984375 69.390625 \nL 28.421875 72.90625 \nL 38.28125 72.90625 \nL 38.28125 8.296875 \nL 54.390625 8.296875 \nL 54.390625 0 \nL 12.40625 0 \nz\n\" id=\"DejaVuSans-49\"/>\n      </defs>\n      <g transform=\"translate(191.331448 254.356562)scale(0.1 -0.1)\">\n       <use xlink:href=\"#DejaVuSans-49\"/>\n       <use x=\"63.623047\" xlink:href=\"#DejaVuSans-48\"/>\n      </g>\n     </g>\n    </g>\n    <g id=\"xtick_4\">\n     <g id=\"line2d_4\">\n      <g>\n       <use style=\"stroke:#000000;stroke-width:0.8;\" x=\"263.859956\" xlink:href=\"#mffe0e321f5\" y=\"239.758125\"/>\n      </g>\n     </g>\n     <g id=\"text_4\">\n      <!-- 15 -->\n      <g transform=\"translate(257.497456 254.356562)scale(0.1 -0.1)\">\n       <use xlink:href=\"#DejaVuSans-49\"/>\n       <use x=\"63.623047\" xlink:href=\"#DejaVuSans-53\"/>\n      </g>\n     </g>\n    </g>\n    <g id=\"xtick_5\">\n     <g id=\"line2d_5\">\n      <g>\n       <use style=\"stroke:#000000;stroke-width:0.8;\" x=\"330.025963\" xlink:href=\"#mffe0e321f5\" y=\"239.758125\"/>\n      </g>\n     </g>\n     <g id=\"text_5\">\n      <!-- 20 -->\n      <defs>\n       <path d=\"M 19.1875 8.296875 \nL 53.609375 8.296875 \nL 53.609375 0 \nL 7.328125 0 \nL 7.328125 8.296875 \nQ 12.9375 14.109375 22.625 23.890625 \nQ 32.328125 33.6875 34.8125 36.53125 \nQ 39.546875 41.84375 41.421875 45.53125 \nQ 43.3125 49.21875 43.3125 52.78125 \nQ 43.3125 58.59375 39.234375 62.25 \nQ 35.15625 65.921875 28.609375 65.921875 \nQ 23.96875 65.921875 18.8125 64.3125 \nQ 13.671875 62.703125 7.8125 59.421875 \nL 7.8125 69.390625 \nQ 13.765625 71.78125 18.9375 73 \nQ 24.125 74.21875 28.421875 74.21875 \nQ 39.75 74.21875 46.484375 68.546875 \nQ 53.21875 62.890625 53.21875 53.421875 \nQ 53.21875 48.921875 51.53125 44.890625 \nQ 49.859375 40.875 45.40625 35.40625 \nQ 44.1875 33.984375 37.640625 27.21875 \nQ 31.109375 20.453125 19.1875 8.296875 \nz\n\" id=\"DejaVuSans-50\"/>\n      </defs>\n      <g transform=\"translate(323.663463 254.356562)scale(0.1 -0.1)\">\n       <use xlink:href=\"#DejaVuSans-50\"/>\n       <use x=\"63.623047\" xlink:href=\"#DejaVuSans-48\"/>\n      </g>\n     </g>\n    </g>\n    <g id=\"text_6\">\n     <!-- Epochs -->\n     <defs>\n      <path d=\"M 9.8125 72.90625 \nL 55.90625 72.90625 \nL 55.90625 64.59375 \nL 19.671875 64.59375 \nL 19.671875 43.015625 \nL 54.390625 43.015625 \nL 54.390625 34.71875 \nL 19.671875 34.71875 \nL 19.671875 8.296875 \nL 56.78125 8.296875 \nL 56.78125 0 \nL 9.8125 0 \nz\n\" id=\"DejaVuSans-69\"/>\n      <path d=\"M 18.109375 8.203125 \nL 18.109375 -20.796875 \nL 9.078125 -20.796875 \nL 9.078125 54.6875 \nL 18.109375 54.6875 \nL 18.109375 46.390625 \nQ 20.953125 51.265625 25.265625 53.625 \nQ 29.59375 56 35.59375 56 \nQ 45.5625 56 51.78125 48.09375 \nQ 58.015625 40.1875 58.015625 27.296875 \nQ 58.015625 14.40625 51.78125 6.484375 \nQ 45.5625 -1.421875 35.59375 -1.421875 \nQ 29.59375 -1.421875 25.265625 0.953125 \nQ 20.953125 3.328125 18.109375 8.203125 \nz\nM 48.6875 27.296875 \nQ 48.6875 37.203125 44.609375 42.84375 \nQ 40.53125 48.484375 33.40625 48.484375 \nQ 26.265625 48.484375 22.1875 42.84375 \nQ 18.109375 37.203125 18.109375 27.296875 \nQ 18.109375 17.390625 22.1875 11.75 \nQ 26.265625 6.109375 33.40625 6.109375 \nQ 40.53125 6.109375 44.609375 11.75 \nQ 48.6875 17.390625 48.6875 27.296875 \nz\n\" id=\"DejaVuSans-112\"/>\n      <path d=\"M 30.609375 48.390625 \nQ 23.390625 48.390625 19.1875 42.75 \nQ 14.984375 37.109375 14.984375 27.296875 \nQ 14.984375 17.484375 19.15625 11.84375 \nQ 23.34375 6.203125 30.609375 6.203125 \nQ 37.796875 6.203125 41.984375 11.859375 \nQ 46.1875 17.53125 46.1875 27.296875 \nQ 46.1875 37.015625 41.984375 42.703125 \nQ 37.796875 48.390625 30.609375 48.390625 \nz\nM 30.609375 56 \nQ 42.328125 56 49.015625 48.375 \nQ 55.71875 40.765625 55.71875 27.296875 \nQ 55.71875 13.875 49.015625 6.21875 \nQ 42.328125 -1.421875 30.609375 -1.421875 \nQ 18.84375 -1.421875 12.171875 6.21875 \nQ 5.515625 13.875 5.515625 27.296875 \nQ 5.515625 40.765625 12.171875 48.375 \nQ 18.84375 56 30.609375 56 \nz\n\" id=\"DejaVuSans-111\"/>\n      <path d=\"M 48.78125 52.59375 \nL 48.78125 44.1875 \nQ 44.96875 46.296875 41.140625 47.34375 \nQ 37.3125 48.390625 33.40625 48.390625 \nQ 24.65625 48.390625 19.8125 42.84375 \nQ 14.984375 37.3125 14.984375 27.296875 \nQ 14.984375 17.28125 19.8125 11.734375 \nQ 24.65625 6.203125 33.40625 6.203125 \nQ 37.3125 6.203125 41.140625 7.25 \nQ 44.96875 8.296875 48.78125 10.40625 \nL 48.78125 2.09375 \nQ 45.015625 0.34375 40.984375 -0.53125 \nQ 36.96875 -1.421875 32.421875 -1.421875 \nQ 20.0625 -1.421875 12.78125 6.34375 \nQ 5.515625 14.109375 5.515625 27.296875 \nQ 5.515625 40.671875 12.859375 48.328125 \nQ 20.21875 56 33.015625 56 \nQ 37.15625 56 41.109375 55.140625 \nQ 45.0625 54.296875 48.78125 52.59375 \nz\n\" id=\"DejaVuSans-99\"/>\n      <path d=\"M 54.890625 33.015625 \nL 54.890625 0 \nL 45.90625 0 \nL 45.90625 32.71875 \nQ 45.90625 40.484375 42.875 44.328125 \nQ 39.84375 48.1875 33.796875 48.1875 \nQ 26.515625 48.1875 22.3125 43.546875 \nQ 18.109375 38.921875 18.109375 30.90625 \nL 18.109375 0 \nL 9.078125 0 \nL 9.078125 75.984375 \nL 18.109375 75.984375 \nL 18.109375 46.1875 \nQ 21.34375 51.125 25.703125 53.5625 \nQ 30.078125 56 35.796875 56 \nQ 45.21875 56 50.046875 50.171875 \nQ 54.890625 44.34375 54.890625 33.015625 \nz\n\" id=\"DejaVuSans-104\"/>\n      <path d=\"M 44.28125 53.078125 \nL 44.28125 44.578125 \nQ 40.484375 46.53125 36.375 47.5 \nQ 32.28125 48.484375 27.875 48.484375 \nQ 21.1875 48.484375 17.84375 46.4375 \nQ 14.5 44.390625 14.5 40.28125 \nQ 14.5 37.15625 16.890625 35.375 \nQ 19.28125 33.59375 26.515625 31.984375 \nL 29.59375 31.296875 \nQ 39.15625 29.25 43.1875 25.515625 \nQ 47.21875 21.78125 47.21875 15.09375 \nQ 47.21875 7.46875 41.1875 3.015625 \nQ 35.15625 -1.421875 24.609375 -1.421875 \nQ 20.21875 -1.421875 15.453125 -0.5625 \nQ 10.6875 0.296875 5.421875 2 \nL 5.421875 11.28125 \nQ 10.40625 8.6875 15.234375 7.390625 \nQ 20.0625 6.109375 24.8125 6.109375 \nQ 31.15625 6.109375 34.5625 8.28125 \nQ 37.984375 10.453125 37.984375 14.40625 \nQ 37.984375 18.0625 35.515625 20.015625 \nQ 33.0625 21.96875 24.703125 23.78125 \nL 21.578125 24.515625 \nQ 13.234375 26.265625 9.515625 29.90625 \nQ 5.8125 33.546875 5.8125 39.890625 \nQ 5.8125 47.609375 11.28125 51.796875 \nQ 16.75 56 26.8125 56 \nQ 31.78125 56 36.171875 55.265625 \nQ 40.578125 54.546875 44.28125 53.078125 \nz\n\" id=\"DejaVuSans-115\"/>\n     </defs>\n     <g transform=\"translate(199.628125 268.034687)scale(0.1 -0.1)\">\n      <use xlink:href=\"#DejaVuSans-69\"/>\n      <use x=\"63.183594\" xlink:href=\"#DejaVuSans-112\"/>\n      <use x=\"126.660156\" xlink:href=\"#DejaVuSans-111\"/>\n      <use x=\"187.841797\" xlink:href=\"#DejaVuSans-99\"/>\n      <use x=\"242.822266\" xlink:href=\"#DejaVuSans-104\"/>\n      <use x=\"306.201172\" xlink:href=\"#DejaVuSans-115\"/>\n     </g>\n    </g>\n   </g>\n   <g id=\"matplotlib.axis_2\">\n    <g id=\"ytick_1\">\n     <g id=\"line2d_6\">\n      <defs>\n       <path d=\"M 0 0 \nL -3.5 0 \n\" id=\"m8c4b511759\" style=\"stroke:#000000;stroke-width:0.8;\"/>\n      </defs>\n      <g>\n       <use style=\"stroke:#000000;stroke-width:0.8;\" x=\"50.14375\" xlink:href=\"#m8c4b511759\" y=\"213.521211\"/>\n      </g>\n     </g>\n     <g id=\"text_7\">\n      <!-- 0.32 -->\n      <defs>\n       <path d=\"M 10.6875 12.40625 \nL 21 12.40625 \nL 21 0 \nL 10.6875 0 \nz\n\" id=\"DejaVuSans-46\"/>\n       <path d=\"M 40.578125 39.3125 \nQ 47.65625 37.796875 51.625 33 \nQ 55.609375 28.21875 55.609375 21.1875 \nQ 55.609375 10.40625 48.1875 4.484375 \nQ 40.765625 -1.421875 27.09375 -1.421875 \nQ 22.515625 -1.421875 17.65625 -0.515625 \nQ 12.796875 0.390625 7.625 2.203125 \nL 7.625 11.71875 \nQ 11.71875 9.328125 16.59375 8.109375 \nQ 21.484375 6.890625 26.8125 6.890625 \nQ 36.078125 6.890625 40.9375 10.546875 \nQ 45.796875 14.203125 45.796875 21.1875 \nQ 45.796875 27.640625 41.28125 31.265625 \nQ 36.765625 34.90625 28.71875 34.90625 \nL 20.21875 34.90625 \nL 20.21875 43.015625 \nL 29.109375 43.015625 \nQ 36.375 43.015625 40.234375 45.921875 \nQ 44.09375 48.828125 44.09375 54.296875 \nQ 44.09375 59.90625 40.109375 62.90625 \nQ 36.140625 65.921875 28.71875 65.921875 \nQ 24.65625 65.921875 20.015625 65.03125 \nQ 15.375 64.15625 9.8125 62.3125 \nL 9.8125 71.09375 \nQ 15.4375 72.65625 20.34375 73.4375 \nQ 25.25 74.21875 29.59375 74.21875 \nQ 40.828125 74.21875 47.359375 69.109375 \nQ 53.90625 64.015625 53.90625 55.328125 \nQ 53.90625 49.265625 50.4375 45.09375 \nQ 46.96875 40.921875 40.578125 39.3125 \nz\n\" id=\"DejaVuSans-51\"/>\n      </defs>\n      <g transform=\"translate(20.878125 217.32043)scale(0.1 -0.1)\">\n       <use xlink:href=\"#DejaVuSans-48\"/>\n       <use x=\"63.623047\" xlink:href=\"#DejaVuSans-46\"/>\n       <use x=\"95.410156\" xlink:href=\"#DejaVuSans-51\"/>\n       <use x=\"159.033203\" xlink:href=\"#DejaVuSans-50\"/>\n      </g>\n     </g>\n    </g>\n    <g id=\"ytick_2\">\n     <g id=\"line2d_7\">\n      <g>\n       <use style=\"stroke:#000000;stroke-width:0.8;\" x=\"50.14375\" xlink:href=\"#m8c4b511759\" y=\"186.723892\"/>\n      </g>\n     </g>\n     <g id=\"text_8\">\n      <!-- 0.34 -->\n      <defs>\n       <path d=\"M 37.796875 64.3125 \nL 12.890625 25.390625 \nL 37.796875 25.390625 \nz\nM 35.203125 72.90625 \nL 47.609375 72.90625 \nL 47.609375 25.390625 \nL 58.015625 25.390625 \nL 58.015625 17.1875 \nL 47.609375 17.1875 \nL 47.609375 0 \nL 37.796875 0 \nL 37.796875 17.1875 \nL 4.890625 17.1875 \nL 4.890625 26.703125 \nz\n\" id=\"DejaVuSans-52\"/>\n      </defs>\n      <g transform=\"translate(20.878125 190.523111)scale(0.1 -0.1)\">\n       <use xlink:href=\"#DejaVuSans-48\"/>\n       <use x=\"63.623047\" xlink:href=\"#DejaVuSans-46\"/>\n       <use x=\"95.410156\" xlink:href=\"#DejaVuSans-51\"/>\n       <use x=\"159.033203\" xlink:href=\"#DejaVuSans-52\"/>\n      </g>\n     </g>\n    </g>\n    <g id=\"ytick_3\">\n     <g id=\"line2d_8\">\n      <g>\n       <use style=\"stroke:#000000;stroke-width:0.8;\" x=\"50.14375\" xlink:href=\"#m8c4b511759\" y=\"159.926574\"/>\n      </g>\n     </g>\n     <g id=\"text_9\">\n      <!-- 0.36 -->\n      <defs>\n       <path d=\"M 33.015625 40.375 \nQ 26.375 40.375 22.484375 35.828125 \nQ 18.609375 31.296875 18.609375 23.390625 \nQ 18.609375 15.53125 22.484375 10.953125 \nQ 26.375 6.390625 33.015625 6.390625 \nQ 39.65625 6.390625 43.53125 10.953125 \nQ 47.40625 15.53125 47.40625 23.390625 \nQ 47.40625 31.296875 43.53125 35.828125 \nQ 39.65625 40.375 33.015625 40.375 \nz\nM 52.59375 71.296875 \nL 52.59375 62.3125 \nQ 48.875 64.0625 45.09375 64.984375 \nQ 41.3125 65.921875 37.59375 65.921875 \nQ 27.828125 65.921875 22.671875 59.328125 \nQ 17.53125 52.734375 16.796875 39.40625 \nQ 19.671875 43.65625 24.015625 45.921875 \nQ 28.375 48.1875 33.59375 48.1875 \nQ 44.578125 48.1875 50.953125 41.515625 \nQ 57.328125 34.859375 57.328125 23.390625 \nQ 57.328125 12.15625 50.6875 5.359375 \nQ 44.046875 -1.421875 33.015625 -1.421875 \nQ 20.359375 -1.421875 13.671875 8.265625 \nQ 6.984375 17.96875 6.984375 36.375 \nQ 6.984375 53.65625 15.1875 63.9375 \nQ 23.390625 74.21875 37.203125 74.21875 \nQ 40.921875 74.21875 44.703125 73.484375 \nQ 48.484375 72.75 52.59375 71.296875 \nz\n\" id=\"DejaVuSans-54\"/>\n      </defs>\n      <g transform=\"translate(20.878125 163.725792)scale(0.1 -0.1)\">\n       <use xlink:href=\"#DejaVuSans-48\"/>\n       <use x=\"63.623047\" xlink:href=\"#DejaVuSans-46\"/>\n       <use x=\"95.410156\" xlink:href=\"#DejaVuSans-51\"/>\n       <use x=\"159.033203\" xlink:href=\"#DejaVuSans-54\"/>\n      </g>\n     </g>\n    </g>\n    <g id=\"ytick_4\">\n     <g id=\"line2d_9\">\n      <g>\n       <use style=\"stroke:#000000;stroke-width:0.8;\" x=\"50.14375\" xlink:href=\"#m8c4b511759\" y=\"133.129255\"/>\n      </g>\n     </g>\n     <g id=\"text_10\">\n      <!-- 0.38 -->\n      <defs>\n       <path d=\"M 31.78125 34.625 \nQ 24.75 34.625 20.71875 30.859375 \nQ 16.703125 27.09375 16.703125 20.515625 \nQ 16.703125 13.921875 20.71875 10.15625 \nQ 24.75 6.390625 31.78125 6.390625 \nQ 38.8125 6.390625 42.859375 10.171875 \nQ 46.921875 13.96875 46.921875 20.515625 \nQ 46.921875 27.09375 42.890625 30.859375 \nQ 38.875 34.625 31.78125 34.625 \nz\nM 21.921875 38.8125 \nQ 15.578125 40.375 12.03125 44.71875 \nQ 8.5 49.078125 8.5 55.328125 \nQ 8.5 64.0625 14.71875 69.140625 \nQ 20.953125 74.21875 31.78125 74.21875 \nQ 42.671875 74.21875 48.875 69.140625 \nQ 55.078125 64.0625 55.078125 55.328125 \nQ 55.078125 49.078125 51.53125 44.71875 \nQ 48 40.375 41.703125 38.8125 \nQ 48.828125 37.15625 52.796875 32.3125 \nQ 56.78125 27.484375 56.78125 20.515625 \nQ 56.78125 9.90625 50.3125 4.234375 \nQ 43.84375 -1.421875 31.78125 -1.421875 \nQ 19.734375 -1.421875 13.25 4.234375 \nQ 6.78125 9.90625 6.78125 20.515625 \nQ 6.78125 27.484375 10.78125 32.3125 \nQ 14.796875 37.15625 21.921875 38.8125 \nz\nM 18.3125 54.390625 \nQ 18.3125 48.734375 21.84375 45.5625 \nQ 25.390625 42.390625 31.78125 42.390625 \nQ 38.140625 42.390625 41.71875 45.5625 \nQ 45.3125 48.734375 45.3125 54.390625 \nQ 45.3125 60.0625 41.71875 63.234375 \nQ 38.140625 66.40625 31.78125 66.40625 \nQ 25.390625 66.40625 21.84375 63.234375 \nQ 18.3125 60.0625 18.3125 54.390625 \nz\n\" id=\"DejaVuSans-56\"/>\n      </defs>\n      <g transform=\"translate(20.878125 136.928474)scale(0.1 -0.1)\">\n       <use xlink:href=\"#DejaVuSans-48\"/>\n       <use x=\"63.623047\" xlink:href=\"#DejaVuSans-46\"/>\n       <use x=\"95.410156\" xlink:href=\"#DejaVuSans-51\"/>\n       <use x=\"159.033203\" xlink:href=\"#DejaVuSans-56\"/>\n      </g>\n     </g>\n    </g>\n    <g id=\"ytick_5\">\n     <g id=\"line2d_10\">\n      <g>\n       <use style=\"stroke:#000000;stroke-width:0.8;\" x=\"50.14375\" xlink:href=\"#m8c4b511759\" y=\"106.331937\"/>\n      </g>\n     </g>\n     <g id=\"text_11\">\n      <!-- 0.40 -->\n      <g transform=\"translate(20.878125 110.131155)scale(0.1 -0.1)\">\n       <use xlink:href=\"#DejaVuSans-48\"/>\n       <use x=\"63.623047\" xlink:href=\"#DejaVuSans-46\"/>\n       <use x=\"95.410156\" xlink:href=\"#DejaVuSans-52\"/>\n       <use x=\"159.033203\" xlink:href=\"#DejaVuSans-48\"/>\n      </g>\n     </g>\n    </g>\n    <g id=\"ytick_6\">\n     <g id=\"line2d_11\">\n      <g>\n       <use style=\"stroke:#000000;stroke-width:0.8;\" x=\"50.14375\" xlink:href=\"#m8c4b511759\" y=\"79.534618\"/>\n      </g>\n     </g>\n     <g id=\"text_12\">\n      <!-- 0.42 -->\n      <g transform=\"translate(20.878125 83.333837)scale(0.1 -0.1)\">\n       <use xlink:href=\"#DejaVuSans-48\"/>\n       <use x=\"63.623047\" xlink:href=\"#DejaVuSans-46\"/>\n       <use x=\"95.410156\" xlink:href=\"#DejaVuSans-52\"/>\n       <use x=\"159.033203\" xlink:href=\"#DejaVuSans-50\"/>\n      </g>\n     </g>\n    </g>\n    <g id=\"ytick_7\">\n     <g id=\"line2d_12\">\n      <g>\n       <use style=\"stroke:#000000;stroke-width:0.8;\" x=\"50.14375\" xlink:href=\"#m8c4b511759\" y=\"52.7373\"/>\n      </g>\n     </g>\n     <g id=\"text_13\">\n      <!-- 0.44 -->\n      <g transform=\"translate(20.878125 56.536518)scale(0.1 -0.1)\">\n       <use xlink:href=\"#DejaVuSans-48\"/>\n       <use x=\"63.623047\" xlink:href=\"#DejaVuSans-46\"/>\n       <use x=\"95.410156\" xlink:href=\"#DejaVuSans-52\"/>\n       <use x=\"159.033203\" xlink:href=\"#DejaVuSans-52\"/>\n      </g>\n     </g>\n    </g>\n    <g id=\"ytick_8\">\n     <g id=\"line2d_13\">\n      <g>\n       <use style=\"stroke:#000000;stroke-width:0.8;\" x=\"50.14375\" xlink:href=\"#m8c4b511759\" y=\"25.939981\"/>\n      </g>\n     </g>\n     <g id=\"text_14\">\n      <!-- 0.46 -->\n      <g transform=\"translate(20.878125 29.7392)scale(0.1 -0.1)\">\n       <use xlink:href=\"#DejaVuSans-48\"/>\n       <use x=\"63.623047\" xlink:href=\"#DejaVuSans-46\"/>\n       <use x=\"95.410156\" xlink:href=\"#DejaVuSans-52\"/>\n       <use x=\"159.033203\" xlink:href=\"#DejaVuSans-54\"/>\n      </g>\n     </g>\n    </g>\n    <g id=\"text_15\">\n     <!-- NDCG@10 -->\n     <defs>\n      <path d=\"M 9.8125 72.90625 \nL 23.09375 72.90625 \nL 55.421875 11.921875 \nL 55.421875 72.90625 \nL 64.984375 72.90625 \nL 64.984375 0 \nL 51.703125 0 \nL 19.390625 60.984375 \nL 19.390625 0 \nL 9.8125 0 \nz\n\" id=\"DejaVuSans-78\"/>\n      <path d=\"M 19.671875 64.796875 \nL 19.671875 8.109375 \nL 31.59375 8.109375 \nQ 46.6875 8.109375 53.6875 14.9375 \nQ 60.6875 21.78125 60.6875 36.53125 \nQ 60.6875 51.171875 53.6875 57.984375 \nQ 46.6875 64.796875 31.59375 64.796875 \nz\nM 9.8125 72.90625 \nL 30.078125 72.90625 \nQ 51.265625 72.90625 61.171875 64.09375 \nQ 71.09375 55.28125 71.09375 36.53125 \nQ 71.09375 17.671875 61.125 8.828125 \nQ 51.171875 0 30.078125 0 \nL 9.8125 0 \nz\n\" id=\"DejaVuSans-68\"/>\n      <path d=\"M 64.40625 67.28125 \nL 64.40625 56.890625 \nQ 59.421875 61.53125 53.78125 63.8125 \nQ 48.140625 66.109375 41.796875 66.109375 \nQ 29.296875 66.109375 22.65625 58.46875 \nQ 16.015625 50.828125 16.015625 36.375 \nQ 16.015625 21.96875 22.65625 14.328125 \nQ 29.296875 6.6875 41.796875 6.6875 \nQ 48.140625 6.6875 53.78125 8.984375 \nQ 59.421875 11.28125 64.40625 15.921875 \nL 64.40625 5.609375 \nQ 59.234375 2.09375 53.4375 0.328125 \nQ 47.65625 -1.421875 41.21875 -1.421875 \nQ 24.65625 -1.421875 15.125 8.703125 \nQ 5.609375 18.84375 5.609375 36.375 \nQ 5.609375 53.953125 15.125 64.078125 \nQ 24.65625 74.21875 41.21875 74.21875 \nQ 47.75 74.21875 53.53125 72.484375 \nQ 59.328125 70.75 64.40625 67.28125 \nz\n\" id=\"DejaVuSans-67\"/>\n      <path d=\"M 59.515625 10.40625 \nL 59.515625 29.984375 \nL 43.40625 29.984375 \nL 43.40625 38.09375 \nL 69.28125 38.09375 \nL 69.28125 6.78125 \nQ 63.578125 2.734375 56.6875 0.65625 \nQ 49.8125 -1.421875 42 -1.421875 \nQ 24.90625 -1.421875 15.25 8.5625 \nQ 5.609375 18.5625 5.609375 36.375 \nQ 5.609375 54.25 15.25 64.234375 \nQ 24.90625 74.21875 42 74.21875 \nQ 49.125 74.21875 55.546875 72.453125 \nQ 61.96875 70.703125 67.390625 67.28125 \nL 67.390625 56.78125 \nQ 61.921875 61.421875 55.765625 63.765625 \nQ 49.609375 66.109375 42.828125 66.109375 \nQ 29.4375 66.109375 22.71875 58.640625 \nQ 16.015625 51.171875 16.015625 36.375 \nQ 16.015625 21.625 22.71875 14.15625 \nQ 29.4375 6.6875 42.828125 6.6875 \nQ 48.046875 6.6875 52.140625 7.59375 \nQ 56.25 8.5 59.515625 10.40625 \nz\n\" id=\"DejaVuSans-71\"/>\n      <path d=\"M 37.203125 26.21875 \nQ 37.203125 19.234375 40.671875 15.25 \nQ 44.140625 11.28125 50.203125 11.28125 \nQ 56.203125 11.28125 59.640625 15.28125 \nQ 63.09375 19.28125 63.09375 26.21875 \nQ 63.09375 33.0625 59.578125 37.078125 \nQ 56.0625 41.109375 50.09375 41.109375 \nQ 44.1875 41.109375 40.6875 37.109375 \nQ 37.203125 33.109375 37.203125 26.21875 \nz\nM 63.8125 11.625 \nQ 60.890625 7.859375 57.109375 6.078125 \nQ 53.328125 4.296875 48.296875 4.296875 \nQ 39.890625 4.296875 34.640625 10.375 \nQ 29.390625 16.453125 29.390625 26.21875 \nQ 29.390625 35.984375 34.65625 42.078125 \nQ 39.9375 48.1875 48.296875 48.1875 \nQ 53.328125 48.1875 57.125 46.359375 \nQ 60.9375 44.53125 63.8125 40.828125 \nL 63.8125 47.21875 \nL 70.796875 47.21875 \nL 70.796875 11.28125 \nQ 77.9375 12.359375 81.953125 17.796875 \nQ 85.984375 23.25 85.984375 31.890625 \nQ 85.984375 37.109375 84.4375 41.703125 \nQ 82.90625 46.296875 79.78125 50.203125 \nQ 74.703125 56.59375 67.40625 59.984375 \nQ 60.109375 63.375 51.515625 63.375 \nQ 45.515625 63.375 39.984375 61.78125 \nQ 34.46875 60.203125 29.78125 57.078125 \nQ 22.125 52.09375 17.796875 44.015625 \nQ 13.484375 35.9375 13.484375 26.515625 \nQ 13.484375 18.75 16.28125 11.953125 \nQ 19.09375 5.171875 24.421875 0 \nQ 29.546875 -5.078125 36.28125 -7.734375 \nQ 43.015625 -10.40625 50.6875 -10.40625 \nQ 56.984375 -10.40625 63.0625 -8.28125 \nQ 69.140625 -6.15625 74.21875 -2.203125 \nL 78.609375 -7.625 \nQ 72.515625 -12.359375 65.3125 -14.875 \nQ 58.109375 -17.390625 50.6875 -17.390625 \nQ 41.65625 -17.390625 33.640625 -14.1875 \nQ 25.640625 -10.984375 19.390625 -4.890625 \nQ 13.140625 1.21875 9.859375 9.25 \nQ 6.59375 17.28125 6.59375 26.515625 \nQ 6.59375 35.40625 9.90625 43.453125 \nQ 13.234375 51.515625 19.390625 57.625 \nQ 25.6875 63.8125 33.9375 67.109375 \nQ 42.1875 70.40625 51.421875 70.40625 \nQ 61.765625 70.40625 70.625 66.15625 \nQ 79.5 61.921875 85.5 54.109375 \nQ 89.15625 49.3125 91.078125 43.703125 \nQ 93.015625 38.09375 93.015625 32.078125 \nQ 93.015625 19.234375 85.25 11.8125 \nQ 77.484375 4.390625 63.8125 4.109375 \nz\n\" id=\"DejaVuSans-64\"/>\n     </defs>\n     <g transform=\"translate(14.798438 157.356875)rotate(-90)scale(0.1 -0.1)\">\n      <use xlink:href=\"#DejaVuSans-78\"/>\n      <use x=\"74.804688\" xlink:href=\"#DejaVuSans-68\"/>\n      <use x=\"151.806641\" xlink:href=\"#DejaVuSans-67\"/>\n      <use x=\"221.630859\" xlink:href=\"#DejaVuSans-71\"/>\n      <use x=\"299.121094\" xlink:href=\"#DejaVuSans-64\"/>\n      <use x=\"399.121094\" xlink:href=\"#DejaVuSans-49\"/>\n      <use x=\"462.744141\" xlink:href=\"#DejaVuSans-48\"/>\n     </g>\n    </g>\n   </g>\n   <g id=\"line2d_14\">\n    <path clip-path=\"url(#p004f209e16)\" d=\"M 65.361932 229.874489 \nL 78.595133 208.400752 \nL 91.828335 193.018717 \nL 105.061537 168.635245 \nL 118.294738 164.868649 \nL 131.52794 147.597354 \nL 144.761141 136.698568 \nL 157.994343 137.759692 \nL 171.227544 118.943143 \nL 184.460746 118.516862 \nL 197.693948 118.331682 \nL 210.927149 132.12042 \nL 224.160351 102.529351 \nL 237.393552 98.120916 \nL 250.626754 108.900891 \nL 263.859956 92.345206 \nL 277.093157 93.546364 \nL 290.326359 90.091078 \nL 303.55956 90.184125 \nL 316.792762 86.856321 \nL 330.025963 89.31402 \nL 343.259165 77.146738 \nL 356.492367 77.049836 \nL 369.725568 68.594738 \n\" style=\"fill:none;stroke:#1f77b4;stroke-linecap:square;stroke-width:1.5;\"/>\n   </g>\n   <g id=\"line2d_15\">\n    <path clip-path=\"url(#p004f209e16)\" d=\"M 65.361932 200.975373 \nL 78.595133 188.535936 \nL 91.828335 171.710135 \nL 105.061537 158.608721 \nL 118.294738 141.846994 \nL 131.52794 129.734721 \nL 144.761141 185.000473 \nL 157.994343 134.864116 \nL 171.227544 107.477617 \nL 184.460746 74.456799 \nL 197.693948 157.885206 \nL 210.927149 129.789335 \nL 224.160351 137.771627 \nL 237.393552 99.481227 \nL 250.626754 104.303364 \nL 263.859956 91.796342 \nL 277.093157 110.789315 \nL 290.326359 112.052271 \nL 303.55956 68.534215 \nL 316.792762 99.892362 \nL 330.025963 108.447279 \nL 343.259165 152.684279 \nL 356.492367 44.564617 \nL 369.725568 32.201761 \n\" style=\"fill:none;stroke:#ff7f0e;stroke-linecap:square;stroke-width:1.5;\"/>\n   </g>\n   <g id=\"patch_3\">\n    <path d=\"M 50.14375 239.758125 \nL 50.14375 22.318125 \n\" style=\"fill:none;stroke:#000000;stroke-linecap:square;stroke-linejoin:miter;stroke-width:0.8;\"/>\n   </g>\n   <g id=\"patch_4\">\n    <path d=\"M 384.94375 239.758125 \nL 384.94375 22.318125 \n\" style=\"fill:none;stroke:#000000;stroke-linecap:square;stroke-linejoin:miter;stroke-width:0.8;\"/>\n   </g>\n   <g id=\"patch_5\">\n    <path d=\"M 50.14375 239.758125 \nL 384.94375 239.758125 \n\" style=\"fill:none;stroke:#000000;stroke-linecap:square;stroke-linejoin:miter;stroke-width:0.8;\"/>\n   </g>\n   <g id=\"patch_6\">\n    <path d=\"M 50.14375 22.318125 \nL 384.94375 22.318125 \n\" style=\"fill:none;stroke:#000000;stroke-linecap:square;stroke-linejoin:miter;stroke-width:0.8;\"/>\n   </g>\n   <g id=\"text_16\">\n    <!-- Training the full ranker -->\n    <defs>\n     <path d=\"M -0.296875 72.90625 \nL 61.375 72.90625 \nL 61.375 64.59375 \nL 35.5 64.59375 \nL 35.5 0 \nL 25.59375 0 \nL 25.59375 64.59375 \nL -0.296875 64.59375 \nz\n\" id=\"DejaVuSans-84\"/>\n     <path d=\"M 41.109375 46.296875 \nQ 39.59375 47.171875 37.8125 47.578125 \nQ 36.03125 48 33.890625 48 \nQ 26.265625 48 22.1875 43.046875 \nQ 18.109375 38.09375 18.109375 28.8125 \nL 18.109375 0 \nL 9.078125 0 \nL 9.078125 54.6875 \nL 18.109375 54.6875 \nL 18.109375 46.1875 \nQ 20.953125 51.171875 25.484375 53.578125 \nQ 30.03125 56 36.53125 56 \nQ 37.453125 56 38.578125 55.875 \nQ 39.703125 55.765625 41.0625 55.515625 \nz\n\" id=\"DejaVuSans-114\"/>\n     <path d=\"M 34.28125 27.484375 \nQ 23.390625 27.484375 19.1875 25 \nQ 14.984375 22.515625 14.984375 16.5 \nQ 14.984375 11.71875 18.140625 8.90625 \nQ 21.296875 6.109375 26.703125 6.109375 \nQ 34.1875 6.109375 38.703125 11.40625 \nQ 43.21875 16.703125 43.21875 25.484375 \nL 43.21875 27.484375 \nz\nM 52.203125 31.203125 \nL 52.203125 0 \nL 43.21875 0 \nL 43.21875 8.296875 \nQ 40.140625 3.328125 35.546875 0.953125 \nQ 30.953125 -1.421875 24.3125 -1.421875 \nQ 15.921875 -1.421875 10.953125 3.296875 \nQ 6 8.015625 6 15.921875 \nQ 6 25.140625 12.171875 29.828125 \nQ 18.359375 34.515625 30.609375 34.515625 \nL 43.21875 34.515625 \nL 43.21875 35.40625 \nQ 43.21875 41.609375 39.140625 45 \nQ 35.0625 48.390625 27.6875 48.390625 \nQ 23 48.390625 18.546875 47.265625 \nQ 14.109375 46.140625 10.015625 43.890625 \nL 10.015625 52.203125 \nQ 14.9375 54.109375 19.578125 55.046875 \nQ 24.21875 56 28.609375 56 \nQ 40.484375 56 46.34375 49.84375 \nQ 52.203125 43.703125 52.203125 31.203125 \nz\n\" id=\"DejaVuSans-97\"/>\n     <path d=\"M 9.421875 54.6875 \nL 18.40625 54.6875 \nL 18.40625 0 \nL 9.421875 0 \nz\nM 9.421875 75.984375 \nL 18.40625 75.984375 \nL 18.40625 64.59375 \nL 9.421875 64.59375 \nz\n\" id=\"DejaVuSans-105\"/>\n     <path d=\"M 54.890625 33.015625 \nL 54.890625 0 \nL 45.90625 0 \nL 45.90625 32.71875 \nQ 45.90625 40.484375 42.875 44.328125 \nQ 39.84375 48.1875 33.796875 48.1875 \nQ 26.515625 48.1875 22.3125 43.546875 \nQ 18.109375 38.921875 18.109375 30.90625 \nL 18.109375 0 \nL 9.078125 0 \nL 9.078125 54.6875 \nL 18.109375 54.6875 \nL 18.109375 46.1875 \nQ 21.34375 51.125 25.703125 53.5625 \nQ 30.078125 56 35.796875 56 \nQ 45.21875 56 50.046875 50.171875 \nQ 54.890625 44.34375 54.890625 33.015625 \nz\n\" id=\"DejaVuSans-110\"/>\n     <path d=\"M 45.40625 27.984375 \nQ 45.40625 37.75 41.375 43.109375 \nQ 37.359375 48.484375 30.078125 48.484375 \nQ 22.859375 48.484375 18.828125 43.109375 \nQ 14.796875 37.75 14.796875 27.984375 \nQ 14.796875 18.265625 18.828125 12.890625 \nQ 22.859375 7.515625 30.078125 7.515625 \nQ 37.359375 7.515625 41.375 12.890625 \nQ 45.40625 18.265625 45.40625 27.984375 \nz\nM 54.390625 6.78125 \nQ 54.390625 -7.171875 48.1875 -13.984375 \nQ 42 -20.796875 29.203125 -20.796875 \nQ 24.46875 -20.796875 20.265625 -20.09375 \nQ 16.0625 -19.390625 12.109375 -17.921875 \nL 12.109375 -9.1875 \nQ 16.0625 -11.328125 19.921875 -12.34375 \nQ 23.78125 -13.375 27.78125 -13.375 \nQ 36.625 -13.375 41.015625 -8.765625 \nQ 45.40625 -4.15625 45.40625 5.171875 \nL 45.40625 9.625 \nQ 42.625 4.78125 38.28125 2.390625 \nQ 33.9375 0 27.875 0 \nQ 17.828125 0 11.671875 7.65625 \nQ 5.515625 15.328125 5.515625 27.984375 \nQ 5.515625 40.671875 11.671875 48.328125 \nQ 17.828125 56 27.875 56 \nQ 33.9375 56 38.28125 53.609375 \nQ 42.625 51.21875 45.40625 46.390625 \nL 45.40625 54.6875 \nL 54.390625 54.6875 \nz\n\" id=\"DejaVuSans-103\"/>\n     <path id=\"DejaVuSans-32\"/>\n     <path d=\"M 18.3125 70.21875 \nL 18.3125 54.6875 \nL 36.8125 54.6875 \nL 36.8125 47.703125 \nL 18.3125 47.703125 \nL 18.3125 18.015625 \nQ 18.3125 11.328125 20.140625 9.421875 \nQ 21.96875 7.515625 27.59375 7.515625 \nL 36.8125 7.515625 \nL 36.8125 0 \nL 27.59375 0 \nQ 17.1875 0 13.234375 3.875 \nQ 9.28125 7.765625 9.28125 18.015625 \nL 9.28125 47.703125 \nL 2.6875 47.703125 \nL 2.6875 54.6875 \nL 9.28125 54.6875 \nL 9.28125 70.21875 \nz\n\" id=\"DejaVuSans-116\"/>\n     <path d=\"M 56.203125 29.59375 \nL 56.203125 25.203125 \nL 14.890625 25.203125 \nQ 15.484375 15.921875 20.484375 11.0625 \nQ 25.484375 6.203125 34.421875 6.203125 \nQ 39.59375 6.203125 44.453125 7.46875 \nQ 49.3125 8.734375 54.109375 11.28125 \nL 54.109375 2.78125 \nQ 49.265625 0.734375 44.1875 -0.34375 \nQ 39.109375 -1.421875 33.890625 -1.421875 \nQ 20.796875 -1.421875 13.15625 6.1875 \nQ 5.515625 13.8125 5.515625 26.8125 \nQ 5.515625 40.234375 12.765625 48.109375 \nQ 20.015625 56 32.328125 56 \nQ 43.359375 56 49.78125 48.890625 \nQ 56.203125 41.796875 56.203125 29.59375 \nz\nM 47.21875 32.234375 \nQ 47.125 39.59375 43.09375 43.984375 \nQ 39.0625 48.390625 32.421875 48.390625 \nQ 24.90625 48.390625 20.390625 44.140625 \nQ 15.875 39.890625 15.1875 32.171875 \nz\n\" id=\"DejaVuSans-101\"/>\n     <path d=\"M 37.109375 75.984375 \nL 37.109375 68.5 \nL 28.515625 68.5 \nQ 23.6875 68.5 21.796875 66.546875 \nQ 19.921875 64.59375 19.921875 59.515625 \nL 19.921875 54.6875 \nL 34.71875 54.6875 \nL 34.71875 47.703125 \nL 19.921875 47.703125 \nL 19.921875 0 \nL 10.890625 0 \nL 10.890625 47.703125 \nL 2.296875 47.703125 \nL 2.296875 54.6875 \nL 10.890625 54.6875 \nL 10.890625 58.5 \nQ 10.890625 67.625 15.140625 71.796875 \nQ 19.390625 75.984375 28.609375 75.984375 \nz\n\" id=\"DejaVuSans-102\"/>\n     <path d=\"M 8.5 21.578125 \nL 8.5 54.6875 \nL 17.484375 54.6875 \nL 17.484375 21.921875 \nQ 17.484375 14.15625 20.5 10.265625 \nQ 23.53125 6.390625 29.59375 6.390625 \nQ 36.859375 6.390625 41.078125 11.03125 \nQ 45.3125 15.671875 45.3125 23.6875 \nL 45.3125 54.6875 \nL 54.296875 54.6875 \nL 54.296875 0 \nL 45.3125 0 \nL 45.3125 8.40625 \nQ 42.046875 3.421875 37.71875 1 \nQ 33.40625 -1.421875 27.6875 -1.421875 \nQ 18.265625 -1.421875 13.375 4.4375 \nQ 8.5 10.296875 8.5 21.578125 \nz\nM 31.109375 56 \nz\n\" id=\"DejaVuSans-117\"/>\n     <path d=\"M 9.421875 75.984375 \nL 18.40625 75.984375 \nL 18.40625 0 \nL 9.421875 0 \nz\n\" id=\"DejaVuSans-108\"/>\n     <path d=\"M 9.078125 75.984375 \nL 18.109375 75.984375 \nL 18.109375 31.109375 \nL 44.921875 54.6875 \nL 56.390625 54.6875 \nL 27.390625 29.109375 \nL 57.625 0 \nL 45.90625 0 \nL 18.109375 26.703125 \nL 18.109375 0 \nL 9.078125 0 \nz\n\" id=\"DejaVuSans-107\"/>\n    </defs>\n    <g transform=\"translate(149.695938 16.318125)scale(0.12 -0.12)\">\n     <use xlink:href=\"#DejaVuSans-84\"/>\n     <use x=\"46.333984\" xlink:href=\"#DejaVuSans-114\"/>\n     <use x=\"87.447266\" xlink:href=\"#DejaVuSans-97\"/>\n     <use x=\"148.726562\" xlink:href=\"#DejaVuSans-105\"/>\n     <use x=\"176.509766\" xlink:href=\"#DejaVuSans-110\"/>\n     <use x=\"239.888672\" xlink:href=\"#DejaVuSans-105\"/>\n     <use x=\"267.671875\" xlink:href=\"#DejaVuSans-110\"/>\n     <use x=\"331.050781\" xlink:href=\"#DejaVuSans-103\"/>\n     <use x=\"394.527344\" xlink:href=\"#DejaVuSans-32\"/>\n     <use x=\"426.314453\" xlink:href=\"#DejaVuSans-116\"/>\n     <use x=\"465.523438\" xlink:href=\"#DejaVuSans-104\"/>\n     <use x=\"528.902344\" xlink:href=\"#DejaVuSans-101\"/>\n     <use x=\"590.425781\" xlink:href=\"#DejaVuSans-32\"/>\n     <use x=\"622.212891\" xlink:href=\"#DejaVuSans-102\"/>\n     <use x=\"657.417969\" xlink:href=\"#DejaVuSans-117\"/>\n     <use x=\"720.796875\" xlink:href=\"#DejaVuSans-108\"/>\n     <use x=\"748.580078\" xlink:href=\"#DejaVuSans-108\"/>\n     <use x=\"776.363281\" xlink:href=\"#DejaVuSans-32\"/>\n     <use x=\"808.150391\" xlink:href=\"#DejaVuSans-114\"/>\n     <use x=\"849.263672\" xlink:href=\"#DejaVuSans-97\"/>\n     <use x=\"910.542969\" xlink:href=\"#DejaVuSans-110\"/>\n     <use x=\"973.921875\" xlink:href=\"#DejaVuSans-107\"/>\n     <use x=\"1028.207031\" xlink:href=\"#DejaVuSans-101\"/>\n     <use x=\"1089.730469\" xlink:href=\"#DejaVuSans-114\"/>\n    </g>\n   </g>\n   <g id=\"legend_1\">\n    <g id=\"patch_7\">\n     <path d=\"M 57.14375 59.674375 \nL 112.41875 59.674375 \nQ 114.41875 59.674375 114.41875 57.674375 \nL 114.41875 29.318125 \nQ 114.41875 27.318125 112.41875 27.318125 \nL 57.14375 27.318125 \nQ 55.14375 27.318125 55.14375 29.318125 \nL 55.14375 57.674375 \nQ 55.14375 59.674375 57.14375 59.674375 \nz\n\" style=\"fill:#ffffff;opacity:0.8;stroke:#cccccc;stroke-linejoin:miter;\"/>\n    </g>\n    <g id=\"line2d_16\">\n     <path d=\"M 59.14375 35.416562 \nL 79.14375 35.416562 \n\" style=\"fill:none;stroke:#1f77b4;stroke-linecap:square;stroke-width:1.5;\"/>\n    </g>\n    <g id=\"line2d_17\"/>\n    <g id=\"text_17\">\n     <!-- train -->\n     <g transform=\"translate(87.14375 38.916562)scale(0.1 -0.1)\">\n      <use xlink:href=\"#DejaVuSans-116\"/>\n      <use x=\"39.208984\" xlink:href=\"#DejaVuSans-114\"/>\n      <use x=\"80.322266\" xlink:href=\"#DejaVuSans-97\"/>\n      <use x=\"141.601562\" xlink:href=\"#DejaVuSans-105\"/>\n      <use x=\"169.384766\" xlink:href=\"#DejaVuSans-110\"/>\n     </g>\n    </g>\n    <g id=\"line2d_18\">\n     <path d=\"M 59.14375 50.094687 \nL 79.14375 50.094687 \n\" style=\"fill:none;stroke:#ff7f0e;stroke-linecap:square;stroke-width:1.5;\"/>\n    </g>\n    <g id=\"line2d_19\"/>\n    <g id=\"text_18\">\n     <!-- val -->\n     <defs>\n      <path d=\"M 2.984375 54.6875 \nL 12.5 54.6875 \nL 29.59375 8.796875 \nL 46.6875 54.6875 \nL 56.203125 54.6875 \nL 35.6875 0 \nL 23.484375 0 \nz\n\" id=\"DejaVuSans-118\"/>\n     </defs>\n     <g transform=\"translate(87.14375 53.594687)scale(0.1 -0.1)\">\n      <use xlink:href=\"#DejaVuSans-118\"/>\n      <use x=\"59.179688\" xlink:href=\"#DejaVuSans-97\"/>\n      <use x=\"120.458984\" xlink:href=\"#DejaVuSans-108\"/>\n     </g>\n    </g>\n   </g>\n  </g>\n </g>\n <defs>\n  <clipPath id=\"p004f209e16\">\n   <rect height=\"217.44\" width=\"334.8\" x=\"50.14375\" y=\"22.318125\"/>\n  </clipPath>\n </defs>\n</svg>\n",
            "text/plain": [
              "<Figure size 432x288 with 1 Axes>"
            ]
          },
          "metadata": {},
          "output_type": "display_data"
        }
      ],
      "source": [
        "# Training zonder batches \n",
        "import matplotlib.pyplot as plt\n",
        "\n",
        "def plot_training_without_batches(ndcgs, ndcgs_val):\n",
        "    plt.plot(ndcgs, label='train')\n",
        "    plt.plot(ndcgs_val, label='val')\n",
        "    plt.ylabel(\"NDCG@10\")\n",
        "    plt.xlabel(\"Epochs\")\n",
        "    plt.title(\"Training the full ranker\")\n",
        "    plt.legend()\n",
        "    plt.show()\n",
        "\n",
        "plot_training_without_batches(ndcgs, ndcgs_val)"
      ]
    },
    {
      "cell_type": "code",
      "execution_count": null,
      "metadata": {
        "colab": {
          "base_uri": "https://localhost:8080/",
          "height": 391
        },
        "id": "X4s1Rhkc9G_i",
        "outputId": "98be4ec5-28b0-420b-89a3-8dc4ba2dc2db"
      },
      "outputs": [
        {
          "data": {
            "image/svg+xml": "<?xml version=\"1.0\" encoding=\"utf-8\" standalone=\"no\"?>\n<!DOCTYPE svg PUBLIC \"-//W3C//DTD SVG 1.1//EN\"\n  \"http://www.w3.org/Graphics/SVG/1.1/DTD/svg11.dtd\">\n<!-- Created with matplotlib (https://matplotlib.org/) -->\n<svg height=\"277.314375pt\" version=\"1.1\" viewBox=\"0 0 392.14375 277.314375\" width=\"392.14375pt\" xmlns=\"http://www.w3.org/2000/svg\" xmlns:xlink=\"http://www.w3.org/1999/xlink\">\n <defs>\n  <style type=\"text/css\">\n*{stroke-linecap:butt;stroke-linejoin:round;}\n  </style>\n </defs>\n <g id=\"figure_1\">\n  <g id=\"patch_1\">\n   <path d=\"M 0 277.314375 \nL 392.14375 277.314375 \nL 392.14375 0 \nL 0 0 \nz\n\" style=\"fill:none;\"/>\n  </g>\n  <g id=\"axes_1\">\n   <g id=\"patch_2\">\n    <path d=\"M 50.14375 239.758125 \nL 384.94375 239.758125 \nL 384.94375 22.318125 \nL 50.14375 22.318125 \nz\n\" style=\"fill:#ffffff;\"/>\n   </g>\n   <g id=\"matplotlib.axis_1\">\n    <g id=\"xtick_1\">\n     <g id=\"line2d_1\">\n      <defs>\n       <path d=\"M 0 0 \nL 0 3.5 \n\" id=\"maa2af248bd\" style=\"stroke:#000000;stroke-width:0.8;\"/>\n      </defs>\n      <g>\n       <use style=\"stroke:#000000;stroke-width:0.8;\" x=\"65.361932\" xlink:href=\"#maa2af248bd\" y=\"239.758125\"/>\n      </g>\n     </g>\n     <g id=\"text_1\">\n      <!-- 0 -->\n      <defs>\n       <path d=\"M 31.78125 66.40625 \nQ 24.171875 66.40625 20.328125 58.90625 \nQ 16.5 51.421875 16.5 36.375 \nQ 16.5 21.390625 20.328125 13.890625 \nQ 24.171875 6.390625 31.78125 6.390625 \nQ 39.453125 6.390625 43.28125 13.890625 \nQ 47.125 21.390625 47.125 36.375 \nQ 47.125 51.421875 43.28125 58.90625 \nQ 39.453125 66.40625 31.78125 66.40625 \nz\nM 31.78125 74.21875 \nQ 44.046875 74.21875 50.515625 64.515625 \nQ 56.984375 54.828125 56.984375 36.375 \nQ 56.984375 17.96875 50.515625 8.265625 \nQ 44.046875 -1.421875 31.78125 -1.421875 \nQ 19.53125 -1.421875 13.0625 8.265625 \nQ 6.59375 17.96875 6.59375 36.375 \nQ 6.59375 54.828125 13.0625 64.515625 \nQ 19.53125 74.21875 31.78125 74.21875 \nz\n\" id=\"DejaVuSans-48\"/>\n      </defs>\n      <g transform=\"translate(62.180682 254.356562)scale(0.1 -0.1)\">\n       <use xlink:href=\"#DejaVuSans-48\"/>\n      </g>\n     </g>\n    </g>\n    <g id=\"xtick_2\">\n     <g id=\"line2d_2\">\n      <g>\n       <use style=\"stroke:#000000;stroke-width:0.8;\" x=\"131.52794\" xlink:href=\"#maa2af248bd\" y=\"239.758125\"/>\n      </g>\n     </g>\n     <g id=\"text_2\">\n      <!-- 5 -->\n      <defs>\n       <path d=\"M 10.796875 72.90625 \nL 49.515625 72.90625 \nL 49.515625 64.59375 \nL 19.828125 64.59375 \nL 19.828125 46.734375 \nQ 21.96875 47.46875 24.109375 47.828125 \nQ 26.265625 48.1875 28.421875 48.1875 \nQ 40.625 48.1875 47.75 41.5 \nQ 54.890625 34.8125 54.890625 23.390625 \nQ 54.890625 11.625 47.5625 5.09375 \nQ 40.234375 -1.421875 26.90625 -1.421875 \nQ 22.3125 -1.421875 17.546875 -0.640625 \nQ 12.796875 0.140625 7.71875 1.703125 \nL 7.71875 11.625 \nQ 12.109375 9.234375 16.796875 8.0625 \nQ 21.484375 6.890625 26.703125 6.890625 \nQ 35.15625 6.890625 40.078125 11.328125 \nQ 45.015625 15.765625 45.015625 23.390625 \nQ 45.015625 31 40.078125 35.4375 \nQ 35.15625 39.890625 26.703125 39.890625 \nQ 22.75 39.890625 18.8125 39.015625 \nQ 14.890625 38.140625 10.796875 36.28125 \nz\n\" id=\"DejaVuSans-53\"/>\n      </defs>\n      <g transform=\"translate(128.34669 254.356562)scale(0.1 -0.1)\">\n       <use xlink:href=\"#DejaVuSans-53\"/>\n      </g>\n     </g>\n    </g>\n    <g id=\"xtick_3\">\n     <g id=\"line2d_3\">\n      <g>\n       <use style=\"stroke:#000000;stroke-width:0.8;\" x=\"197.693948\" xlink:href=\"#maa2af248bd\" y=\"239.758125\"/>\n      </g>\n     </g>\n     <g id=\"text_3\">\n      <!-- 10 -->\n      <defs>\n       <path d=\"M 12.40625 8.296875 \nL 28.515625 8.296875 \nL 28.515625 63.921875 \nL 10.984375 60.40625 \nL 10.984375 69.390625 \nL 28.421875 72.90625 \nL 38.28125 72.90625 \nL 38.28125 8.296875 \nL 54.390625 8.296875 \nL 54.390625 0 \nL 12.40625 0 \nz\n\" id=\"DejaVuSans-49\"/>\n      </defs>\n      <g transform=\"translate(191.331448 254.356562)scale(0.1 -0.1)\">\n       <use xlink:href=\"#DejaVuSans-49\"/>\n       <use x=\"63.623047\" xlink:href=\"#DejaVuSans-48\"/>\n      </g>\n     </g>\n    </g>\n    <g id=\"xtick_4\">\n     <g id=\"line2d_4\">\n      <g>\n       <use style=\"stroke:#000000;stroke-width:0.8;\" x=\"263.859956\" xlink:href=\"#maa2af248bd\" y=\"239.758125\"/>\n      </g>\n     </g>\n     <g id=\"text_4\">\n      <!-- 15 -->\n      <g transform=\"translate(257.497456 254.356562)scale(0.1 -0.1)\">\n       <use xlink:href=\"#DejaVuSans-49\"/>\n       <use x=\"63.623047\" xlink:href=\"#DejaVuSans-53\"/>\n      </g>\n     </g>\n    </g>\n    <g id=\"xtick_5\">\n     <g id=\"line2d_5\">\n      <g>\n       <use style=\"stroke:#000000;stroke-width:0.8;\" x=\"330.025963\" xlink:href=\"#maa2af248bd\" y=\"239.758125\"/>\n      </g>\n     </g>\n     <g id=\"text_5\">\n      <!-- 20 -->\n      <defs>\n       <path d=\"M 19.1875 8.296875 \nL 53.609375 8.296875 \nL 53.609375 0 \nL 7.328125 0 \nL 7.328125 8.296875 \nQ 12.9375 14.109375 22.625 23.890625 \nQ 32.328125 33.6875 34.8125 36.53125 \nQ 39.546875 41.84375 41.421875 45.53125 \nQ 43.3125 49.21875 43.3125 52.78125 \nQ 43.3125 58.59375 39.234375 62.25 \nQ 35.15625 65.921875 28.609375 65.921875 \nQ 23.96875 65.921875 18.8125 64.3125 \nQ 13.671875 62.703125 7.8125 59.421875 \nL 7.8125 69.390625 \nQ 13.765625 71.78125 18.9375 73 \nQ 24.125 74.21875 28.421875 74.21875 \nQ 39.75 74.21875 46.484375 68.546875 \nQ 53.21875 62.890625 53.21875 53.421875 \nQ 53.21875 48.921875 51.53125 44.890625 \nQ 49.859375 40.875 45.40625 35.40625 \nQ 44.1875 33.984375 37.640625 27.21875 \nQ 31.109375 20.453125 19.1875 8.296875 \nz\n\" id=\"DejaVuSans-50\"/>\n      </defs>\n      <g transform=\"translate(323.663463 254.356562)scale(0.1 -0.1)\">\n       <use xlink:href=\"#DejaVuSans-50\"/>\n       <use x=\"63.623047\" xlink:href=\"#DejaVuSans-48\"/>\n      </g>\n     </g>\n    </g>\n    <g id=\"text_6\">\n     <!-- Epochs -->\n     <defs>\n      <path d=\"M 9.8125 72.90625 \nL 55.90625 72.90625 \nL 55.90625 64.59375 \nL 19.671875 64.59375 \nL 19.671875 43.015625 \nL 54.390625 43.015625 \nL 54.390625 34.71875 \nL 19.671875 34.71875 \nL 19.671875 8.296875 \nL 56.78125 8.296875 \nL 56.78125 0 \nL 9.8125 0 \nz\n\" id=\"DejaVuSans-69\"/>\n      <path d=\"M 18.109375 8.203125 \nL 18.109375 -20.796875 \nL 9.078125 -20.796875 \nL 9.078125 54.6875 \nL 18.109375 54.6875 \nL 18.109375 46.390625 \nQ 20.953125 51.265625 25.265625 53.625 \nQ 29.59375 56 35.59375 56 \nQ 45.5625 56 51.78125 48.09375 \nQ 58.015625 40.1875 58.015625 27.296875 \nQ 58.015625 14.40625 51.78125 6.484375 \nQ 45.5625 -1.421875 35.59375 -1.421875 \nQ 29.59375 -1.421875 25.265625 0.953125 \nQ 20.953125 3.328125 18.109375 8.203125 \nz\nM 48.6875 27.296875 \nQ 48.6875 37.203125 44.609375 42.84375 \nQ 40.53125 48.484375 33.40625 48.484375 \nQ 26.265625 48.484375 22.1875 42.84375 \nQ 18.109375 37.203125 18.109375 27.296875 \nQ 18.109375 17.390625 22.1875 11.75 \nQ 26.265625 6.109375 33.40625 6.109375 \nQ 40.53125 6.109375 44.609375 11.75 \nQ 48.6875 17.390625 48.6875 27.296875 \nz\n\" id=\"DejaVuSans-112\"/>\n      <path d=\"M 30.609375 48.390625 \nQ 23.390625 48.390625 19.1875 42.75 \nQ 14.984375 37.109375 14.984375 27.296875 \nQ 14.984375 17.484375 19.15625 11.84375 \nQ 23.34375 6.203125 30.609375 6.203125 \nQ 37.796875 6.203125 41.984375 11.859375 \nQ 46.1875 17.53125 46.1875 27.296875 \nQ 46.1875 37.015625 41.984375 42.703125 \nQ 37.796875 48.390625 30.609375 48.390625 \nz\nM 30.609375 56 \nQ 42.328125 56 49.015625 48.375 \nQ 55.71875 40.765625 55.71875 27.296875 \nQ 55.71875 13.875 49.015625 6.21875 \nQ 42.328125 -1.421875 30.609375 -1.421875 \nQ 18.84375 -1.421875 12.171875 6.21875 \nQ 5.515625 13.875 5.515625 27.296875 \nQ 5.515625 40.765625 12.171875 48.375 \nQ 18.84375 56 30.609375 56 \nz\n\" id=\"DejaVuSans-111\"/>\n      <path d=\"M 48.78125 52.59375 \nL 48.78125 44.1875 \nQ 44.96875 46.296875 41.140625 47.34375 \nQ 37.3125 48.390625 33.40625 48.390625 \nQ 24.65625 48.390625 19.8125 42.84375 \nQ 14.984375 37.3125 14.984375 27.296875 \nQ 14.984375 17.28125 19.8125 11.734375 \nQ 24.65625 6.203125 33.40625 6.203125 \nQ 37.3125 6.203125 41.140625 7.25 \nQ 44.96875 8.296875 48.78125 10.40625 \nL 48.78125 2.09375 \nQ 45.015625 0.34375 40.984375 -0.53125 \nQ 36.96875 -1.421875 32.421875 -1.421875 \nQ 20.0625 -1.421875 12.78125 6.34375 \nQ 5.515625 14.109375 5.515625 27.296875 \nQ 5.515625 40.671875 12.859375 48.328125 \nQ 20.21875 56 33.015625 56 \nQ 37.15625 56 41.109375 55.140625 \nQ 45.0625 54.296875 48.78125 52.59375 \nz\n\" id=\"DejaVuSans-99\"/>\n      <path d=\"M 54.890625 33.015625 \nL 54.890625 0 \nL 45.90625 0 \nL 45.90625 32.71875 \nQ 45.90625 40.484375 42.875 44.328125 \nQ 39.84375 48.1875 33.796875 48.1875 \nQ 26.515625 48.1875 22.3125 43.546875 \nQ 18.109375 38.921875 18.109375 30.90625 \nL 18.109375 0 \nL 9.078125 0 \nL 9.078125 75.984375 \nL 18.109375 75.984375 \nL 18.109375 46.1875 \nQ 21.34375 51.125 25.703125 53.5625 \nQ 30.078125 56 35.796875 56 \nQ 45.21875 56 50.046875 50.171875 \nQ 54.890625 44.34375 54.890625 33.015625 \nz\n\" id=\"DejaVuSans-104\"/>\n      <path d=\"M 44.28125 53.078125 \nL 44.28125 44.578125 \nQ 40.484375 46.53125 36.375 47.5 \nQ 32.28125 48.484375 27.875 48.484375 \nQ 21.1875 48.484375 17.84375 46.4375 \nQ 14.5 44.390625 14.5 40.28125 \nQ 14.5 37.15625 16.890625 35.375 \nQ 19.28125 33.59375 26.515625 31.984375 \nL 29.59375 31.296875 \nQ 39.15625 29.25 43.1875 25.515625 \nQ 47.21875 21.78125 47.21875 15.09375 \nQ 47.21875 7.46875 41.1875 3.015625 \nQ 35.15625 -1.421875 24.609375 -1.421875 \nQ 20.21875 -1.421875 15.453125 -0.5625 \nQ 10.6875 0.296875 5.421875 2 \nL 5.421875 11.28125 \nQ 10.40625 8.6875 15.234375 7.390625 \nQ 20.0625 6.109375 24.8125 6.109375 \nQ 31.15625 6.109375 34.5625 8.28125 \nQ 37.984375 10.453125 37.984375 14.40625 \nQ 37.984375 18.0625 35.515625 20.015625 \nQ 33.0625 21.96875 24.703125 23.78125 \nL 21.578125 24.515625 \nQ 13.234375 26.265625 9.515625 29.90625 \nQ 5.8125 33.546875 5.8125 39.890625 \nQ 5.8125 47.609375 11.28125 51.796875 \nQ 16.75 56 26.8125 56 \nQ 31.78125 56 36.171875 55.265625 \nQ 40.578125 54.546875 44.28125 53.078125 \nz\n\" id=\"DejaVuSans-115\"/>\n     </defs>\n     <g transform=\"translate(199.628125 268.034687)scale(0.1 -0.1)\">\n      <use xlink:href=\"#DejaVuSans-69\"/>\n      <use x=\"63.183594\" xlink:href=\"#DejaVuSans-112\"/>\n      <use x=\"126.660156\" xlink:href=\"#DejaVuSans-111\"/>\n      <use x=\"187.841797\" xlink:href=\"#DejaVuSans-99\"/>\n      <use x=\"242.822266\" xlink:href=\"#DejaVuSans-104\"/>\n      <use x=\"306.201172\" xlink:href=\"#DejaVuSans-115\"/>\n     </g>\n    </g>\n   </g>\n   <g id=\"matplotlib.axis_2\">\n    <g id=\"ytick_1\">\n     <g id=\"line2d_6\">\n      <defs>\n       <path d=\"M 0 0 \nL -3.5 0 \n\" id=\"m1ac0fa05b1\" style=\"stroke:#000000;stroke-width:0.8;\"/>\n      </defs>\n      <g>\n       <use style=\"stroke:#000000;stroke-width:0.8;\" x=\"50.14375\" xlink:href=\"#m1ac0fa05b1\" y=\"239.758125\"/>\n      </g>\n     </g>\n     <g id=\"text_7\">\n      <!-- 0.00 -->\n      <defs>\n       <path d=\"M 10.6875 12.40625 \nL 21 12.40625 \nL 21 0 \nL 10.6875 0 \nz\n\" id=\"DejaVuSans-46\"/>\n      </defs>\n      <g transform=\"translate(20.878125 243.557344)scale(0.1 -0.1)\">\n       <use xlink:href=\"#DejaVuSans-48\"/>\n       <use x=\"63.623047\" xlink:href=\"#DejaVuSans-46\"/>\n       <use x=\"95.410156\" xlink:href=\"#DejaVuSans-48\"/>\n       <use x=\"159.033203\" xlink:href=\"#DejaVuSans-48\"/>\n      </g>\n     </g>\n    </g>\n    <g id=\"ytick_2\">\n     <g id=\"line2d_7\">\n      <g>\n       <use style=\"stroke:#000000;stroke-width:0.8;\" x=\"50.14375\" xlink:href=\"#m1ac0fa05b1\" y=\"196.270125\"/>\n      </g>\n     </g>\n     <g id=\"text_8\">\n      <!-- 0.02 -->\n      <g transform=\"translate(20.878125 200.069344)scale(0.1 -0.1)\">\n       <use xlink:href=\"#DejaVuSans-48\"/>\n       <use x=\"63.623047\" xlink:href=\"#DejaVuSans-46\"/>\n       <use x=\"95.410156\" xlink:href=\"#DejaVuSans-48\"/>\n       <use x=\"159.033203\" xlink:href=\"#DejaVuSans-50\"/>\n      </g>\n     </g>\n    </g>\n    <g id=\"ytick_3\">\n     <g id=\"line2d_8\">\n      <g>\n       <use style=\"stroke:#000000;stroke-width:0.8;\" x=\"50.14375\" xlink:href=\"#m1ac0fa05b1\" y=\"152.782125\"/>\n      </g>\n     </g>\n     <g id=\"text_9\">\n      <!-- 0.04 -->\n      <defs>\n       <path d=\"M 37.796875 64.3125 \nL 12.890625 25.390625 \nL 37.796875 25.390625 \nz\nM 35.203125 72.90625 \nL 47.609375 72.90625 \nL 47.609375 25.390625 \nL 58.015625 25.390625 \nL 58.015625 17.1875 \nL 47.609375 17.1875 \nL 47.609375 0 \nL 37.796875 0 \nL 37.796875 17.1875 \nL 4.890625 17.1875 \nL 4.890625 26.703125 \nz\n\" id=\"DejaVuSans-52\"/>\n      </defs>\n      <g transform=\"translate(20.878125 156.581344)scale(0.1 -0.1)\">\n       <use xlink:href=\"#DejaVuSans-48\"/>\n       <use x=\"63.623047\" xlink:href=\"#DejaVuSans-46\"/>\n       <use x=\"95.410156\" xlink:href=\"#DejaVuSans-48\"/>\n       <use x=\"159.033203\" xlink:href=\"#DejaVuSans-52\"/>\n      </g>\n     </g>\n    </g>\n    <g id=\"ytick_4\">\n     <g id=\"line2d_9\">\n      <g>\n       <use style=\"stroke:#000000;stroke-width:0.8;\" x=\"50.14375\" xlink:href=\"#m1ac0fa05b1\" y=\"109.294125\"/>\n      </g>\n     </g>\n     <g id=\"text_10\">\n      <!-- 0.06 -->\n      <defs>\n       <path d=\"M 33.015625 40.375 \nQ 26.375 40.375 22.484375 35.828125 \nQ 18.609375 31.296875 18.609375 23.390625 \nQ 18.609375 15.53125 22.484375 10.953125 \nQ 26.375 6.390625 33.015625 6.390625 \nQ 39.65625 6.390625 43.53125 10.953125 \nQ 47.40625 15.53125 47.40625 23.390625 \nQ 47.40625 31.296875 43.53125 35.828125 \nQ 39.65625 40.375 33.015625 40.375 \nz\nM 52.59375 71.296875 \nL 52.59375 62.3125 \nQ 48.875 64.0625 45.09375 64.984375 \nQ 41.3125 65.921875 37.59375 65.921875 \nQ 27.828125 65.921875 22.671875 59.328125 \nQ 17.53125 52.734375 16.796875 39.40625 \nQ 19.671875 43.65625 24.015625 45.921875 \nQ 28.375 48.1875 33.59375 48.1875 \nQ 44.578125 48.1875 50.953125 41.515625 \nQ 57.328125 34.859375 57.328125 23.390625 \nQ 57.328125 12.15625 50.6875 5.359375 \nQ 44.046875 -1.421875 33.015625 -1.421875 \nQ 20.359375 -1.421875 13.671875 8.265625 \nQ 6.984375 17.96875 6.984375 36.375 \nQ 6.984375 53.65625 15.1875 63.9375 \nQ 23.390625 74.21875 37.203125 74.21875 \nQ 40.921875 74.21875 44.703125 73.484375 \nQ 48.484375 72.75 52.59375 71.296875 \nz\n\" id=\"DejaVuSans-54\"/>\n      </defs>\n      <g transform=\"translate(20.878125 113.093344)scale(0.1 -0.1)\">\n       <use xlink:href=\"#DejaVuSans-48\"/>\n       <use x=\"63.623047\" xlink:href=\"#DejaVuSans-46\"/>\n       <use x=\"95.410156\" xlink:href=\"#DejaVuSans-48\"/>\n       <use x=\"159.033203\" xlink:href=\"#DejaVuSans-54\"/>\n      </g>\n     </g>\n    </g>\n    <g id=\"ytick_5\">\n     <g id=\"line2d_10\">\n      <g>\n       <use style=\"stroke:#000000;stroke-width:0.8;\" x=\"50.14375\" xlink:href=\"#m1ac0fa05b1\" y=\"65.806125\"/>\n      </g>\n     </g>\n     <g id=\"text_11\">\n      <!-- 0.08 -->\n      <defs>\n       <path d=\"M 31.78125 34.625 \nQ 24.75 34.625 20.71875 30.859375 \nQ 16.703125 27.09375 16.703125 20.515625 \nQ 16.703125 13.921875 20.71875 10.15625 \nQ 24.75 6.390625 31.78125 6.390625 \nQ 38.8125 6.390625 42.859375 10.171875 \nQ 46.921875 13.96875 46.921875 20.515625 \nQ 46.921875 27.09375 42.890625 30.859375 \nQ 38.875 34.625 31.78125 34.625 \nz\nM 21.921875 38.8125 \nQ 15.578125 40.375 12.03125 44.71875 \nQ 8.5 49.078125 8.5 55.328125 \nQ 8.5 64.0625 14.71875 69.140625 \nQ 20.953125 74.21875 31.78125 74.21875 \nQ 42.671875 74.21875 48.875 69.140625 \nQ 55.078125 64.0625 55.078125 55.328125 \nQ 55.078125 49.078125 51.53125 44.71875 \nQ 48 40.375 41.703125 38.8125 \nQ 48.828125 37.15625 52.796875 32.3125 \nQ 56.78125 27.484375 56.78125 20.515625 \nQ 56.78125 9.90625 50.3125 4.234375 \nQ 43.84375 -1.421875 31.78125 -1.421875 \nQ 19.734375 -1.421875 13.25 4.234375 \nQ 6.78125 9.90625 6.78125 20.515625 \nQ 6.78125 27.484375 10.78125 32.3125 \nQ 14.796875 37.15625 21.921875 38.8125 \nz\nM 18.3125 54.390625 \nQ 18.3125 48.734375 21.84375 45.5625 \nQ 25.390625 42.390625 31.78125 42.390625 \nQ 38.140625 42.390625 41.71875 45.5625 \nQ 45.3125 48.734375 45.3125 54.390625 \nQ 45.3125 60.0625 41.71875 63.234375 \nQ 38.140625 66.40625 31.78125 66.40625 \nQ 25.390625 66.40625 21.84375 63.234375 \nQ 18.3125 60.0625 18.3125 54.390625 \nz\n\" id=\"DejaVuSans-56\"/>\n      </defs>\n      <g transform=\"translate(20.878125 69.605344)scale(0.1 -0.1)\">\n       <use xlink:href=\"#DejaVuSans-48\"/>\n       <use x=\"63.623047\" xlink:href=\"#DejaVuSans-46\"/>\n       <use x=\"95.410156\" xlink:href=\"#DejaVuSans-48\"/>\n       <use x=\"159.033203\" xlink:href=\"#DejaVuSans-56\"/>\n      </g>\n     </g>\n    </g>\n    <g id=\"ytick_6\">\n     <g id=\"line2d_11\">\n      <g>\n       <use style=\"stroke:#000000;stroke-width:0.8;\" x=\"50.14375\" xlink:href=\"#m1ac0fa05b1\" y=\"22.318125\"/>\n      </g>\n     </g>\n     <g id=\"text_12\">\n      <!-- 0.10 -->\n      <g transform=\"translate(20.878125 26.117344)scale(0.1 -0.1)\">\n       <use xlink:href=\"#DejaVuSans-48\"/>\n       <use x=\"63.623047\" xlink:href=\"#DejaVuSans-46\"/>\n       <use x=\"95.410156\" xlink:href=\"#DejaVuSans-49\"/>\n       <use x=\"159.033203\" xlink:href=\"#DejaVuSans-48\"/>\n      </g>\n     </g>\n    </g>\n    <g id=\"text_13\">\n     <!-- Loss -->\n     <defs>\n      <path d=\"M 9.8125 72.90625 \nL 19.671875 72.90625 \nL 19.671875 8.296875 \nL 55.171875 8.296875 \nL 55.171875 0 \nL 9.8125 0 \nz\n\" id=\"DejaVuSans-76\"/>\n     </defs>\n     <g transform=\"translate(14.798438 142.005312)rotate(-90)scale(0.1 -0.1)\">\n      <use xlink:href=\"#DejaVuSans-76\"/>\n      <use x=\"53.962891\" xlink:href=\"#DejaVuSans-111\"/>\n      <use x=\"115.144531\" xlink:href=\"#DejaVuSans-115\"/>\n      <use x=\"167.244141\" xlink:href=\"#DejaVuSans-115\"/>\n     </g>\n    </g>\n   </g>\n   <g id=\"line2d_12\">\n    <path clip-path=\"url(#pf2b9f80e82)\" d=\"M 73.31043 -1 \nL 78.595133 118.481035 \nL 91.828335 156.215743 \nL 105.061537 175.521788 \nL 118.294738 182.41628 \nL 131.52794 189.602643 \nL 144.761141 192.340909 \nL 157.994343 193.204946 \nL 171.227544 195.36018 \nL 184.460746 195.967577 \nL 197.693948 198.692832 \nL 210.927149 198.62634 \nL 224.160351 200.284879 \nL 237.393552 191.254394 \nL 250.626754 201.693444 \nL 263.859956 202.804007 \nL 277.093157 203.54196 \nL 290.326359 203.931408 \nL 303.55956 203.703597 \nL 316.792762 203.455868 \nL 330.025963 203.519635 \nL 343.259165 204.57784 \nL 356.492367 204.301101 \nL 369.725568 204.984111 \n\" style=\"fill:none;stroke:#1f77b4;stroke-linecap:square;stroke-width:1.5;\"/>\n   </g>\n   <g id=\"line2d_13\">\n    <path clip-path=\"url(#pf2b9f80e82)\" d=\"M 73.31043 -1 \nL 78.595133 118.481035 \nL 91.828335 156.215743 \nL 105.061537 175.521788 \nL 118.294738 182.41628 \nL 131.52794 189.602643 \nL 144.761141 192.340909 \nL 157.994343 193.204946 \nL 171.227544 195.36018 \nL 184.460746 195.967577 \nL 197.693948 198.692832 \nL 210.927149 198.62634 \nL 224.160351 200.284879 \nL 237.393552 191.254394 \nL 250.626754 201.693444 \nL 263.859956 202.804007 \nL 277.093157 203.54196 \nL 290.326359 203.931408 \nL 303.55956 203.703597 \nL 316.792762 203.455868 \nL 330.025963 203.519635 \nL 343.259165 204.57784 \nL 356.492367 204.301101 \nL 369.725568 204.984111 \n\" style=\"fill:none;stroke:#ff7f0e;stroke-linecap:square;stroke-width:1.5;\"/>\n   </g>\n   <g id=\"patch_3\">\n    <path d=\"M 50.14375 239.758125 \nL 50.14375 22.318125 \n\" style=\"fill:none;stroke:#000000;stroke-linecap:square;stroke-linejoin:miter;stroke-width:0.8;\"/>\n   </g>\n   <g id=\"patch_4\">\n    <path d=\"M 384.94375 239.758125 \nL 384.94375 22.318125 \n\" style=\"fill:none;stroke:#000000;stroke-linecap:square;stroke-linejoin:miter;stroke-width:0.8;\"/>\n   </g>\n   <g id=\"patch_5\">\n    <path d=\"M 50.14375 239.758125 \nL 384.94375 239.758125 \n\" style=\"fill:none;stroke:#000000;stroke-linecap:square;stroke-linejoin:miter;stroke-width:0.8;\"/>\n   </g>\n   <g id=\"patch_6\">\n    <path d=\"M 50.14375 22.318125 \nL 384.94375 22.318125 \n\" style=\"fill:none;stroke:#000000;stroke-linecap:square;stroke-linejoin:miter;stroke-width:0.8;\"/>\n   </g>\n   <g id=\"text_14\">\n    <!-- Training the full ranker -->\n    <defs>\n     <path d=\"M -0.296875 72.90625 \nL 61.375 72.90625 \nL 61.375 64.59375 \nL 35.5 64.59375 \nL 35.5 0 \nL 25.59375 0 \nL 25.59375 64.59375 \nL -0.296875 64.59375 \nz\n\" id=\"DejaVuSans-84\"/>\n     <path d=\"M 41.109375 46.296875 \nQ 39.59375 47.171875 37.8125 47.578125 \nQ 36.03125 48 33.890625 48 \nQ 26.265625 48 22.1875 43.046875 \nQ 18.109375 38.09375 18.109375 28.8125 \nL 18.109375 0 \nL 9.078125 0 \nL 9.078125 54.6875 \nL 18.109375 54.6875 \nL 18.109375 46.1875 \nQ 20.953125 51.171875 25.484375 53.578125 \nQ 30.03125 56 36.53125 56 \nQ 37.453125 56 38.578125 55.875 \nQ 39.703125 55.765625 41.0625 55.515625 \nz\n\" id=\"DejaVuSans-114\"/>\n     <path d=\"M 34.28125 27.484375 \nQ 23.390625 27.484375 19.1875 25 \nQ 14.984375 22.515625 14.984375 16.5 \nQ 14.984375 11.71875 18.140625 8.90625 \nQ 21.296875 6.109375 26.703125 6.109375 \nQ 34.1875 6.109375 38.703125 11.40625 \nQ 43.21875 16.703125 43.21875 25.484375 \nL 43.21875 27.484375 \nz\nM 52.203125 31.203125 \nL 52.203125 0 \nL 43.21875 0 \nL 43.21875 8.296875 \nQ 40.140625 3.328125 35.546875 0.953125 \nQ 30.953125 -1.421875 24.3125 -1.421875 \nQ 15.921875 -1.421875 10.953125 3.296875 \nQ 6 8.015625 6 15.921875 \nQ 6 25.140625 12.171875 29.828125 \nQ 18.359375 34.515625 30.609375 34.515625 \nL 43.21875 34.515625 \nL 43.21875 35.40625 \nQ 43.21875 41.609375 39.140625 45 \nQ 35.0625 48.390625 27.6875 48.390625 \nQ 23 48.390625 18.546875 47.265625 \nQ 14.109375 46.140625 10.015625 43.890625 \nL 10.015625 52.203125 \nQ 14.9375 54.109375 19.578125 55.046875 \nQ 24.21875 56 28.609375 56 \nQ 40.484375 56 46.34375 49.84375 \nQ 52.203125 43.703125 52.203125 31.203125 \nz\n\" id=\"DejaVuSans-97\"/>\n     <path d=\"M 9.421875 54.6875 \nL 18.40625 54.6875 \nL 18.40625 0 \nL 9.421875 0 \nz\nM 9.421875 75.984375 \nL 18.40625 75.984375 \nL 18.40625 64.59375 \nL 9.421875 64.59375 \nz\n\" id=\"DejaVuSans-105\"/>\n     <path d=\"M 54.890625 33.015625 \nL 54.890625 0 \nL 45.90625 0 \nL 45.90625 32.71875 \nQ 45.90625 40.484375 42.875 44.328125 \nQ 39.84375 48.1875 33.796875 48.1875 \nQ 26.515625 48.1875 22.3125 43.546875 \nQ 18.109375 38.921875 18.109375 30.90625 \nL 18.109375 0 \nL 9.078125 0 \nL 9.078125 54.6875 \nL 18.109375 54.6875 \nL 18.109375 46.1875 \nQ 21.34375 51.125 25.703125 53.5625 \nQ 30.078125 56 35.796875 56 \nQ 45.21875 56 50.046875 50.171875 \nQ 54.890625 44.34375 54.890625 33.015625 \nz\n\" id=\"DejaVuSans-110\"/>\n     <path d=\"M 45.40625 27.984375 \nQ 45.40625 37.75 41.375 43.109375 \nQ 37.359375 48.484375 30.078125 48.484375 \nQ 22.859375 48.484375 18.828125 43.109375 \nQ 14.796875 37.75 14.796875 27.984375 \nQ 14.796875 18.265625 18.828125 12.890625 \nQ 22.859375 7.515625 30.078125 7.515625 \nQ 37.359375 7.515625 41.375 12.890625 \nQ 45.40625 18.265625 45.40625 27.984375 \nz\nM 54.390625 6.78125 \nQ 54.390625 -7.171875 48.1875 -13.984375 \nQ 42 -20.796875 29.203125 -20.796875 \nQ 24.46875 -20.796875 20.265625 -20.09375 \nQ 16.0625 -19.390625 12.109375 -17.921875 \nL 12.109375 -9.1875 \nQ 16.0625 -11.328125 19.921875 -12.34375 \nQ 23.78125 -13.375 27.78125 -13.375 \nQ 36.625 -13.375 41.015625 -8.765625 \nQ 45.40625 -4.15625 45.40625 5.171875 \nL 45.40625 9.625 \nQ 42.625 4.78125 38.28125 2.390625 \nQ 33.9375 0 27.875 0 \nQ 17.828125 0 11.671875 7.65625 \nQ 5.515625 15.328125 5.515625 27.984375 \nQ 5.515625 40.671875 11.671875 48.328125 \nQ 17.828125 56 27.875 56 \nQ 33.9375 56 38.28125 53.609375 \nQ 42.625 51.21875 45.40625 46.390625 \nL 45.40625 54.6875 \nL 54.390625 54.6875 \nz\n\" id=\"DejaVuSans-103\"/>\n     <path id=\"DejaVuSans-32\"/>\n     <path d=\"M 18.3125 70.21875 \nL 18.3125 54.6875 \nL 36.8125 54.6875 \nL 36.8125 47.703125 \nL 18.3125 47.703125 \nL 18.3125 18.015625 \nQ 18.3125 11.328125 20.140625 9.421875 \nQ 21.96875 7.515625 27.59375 7.515625 \nL 36.8125 7.515625 \nL 36.8125 0 \nL 27.59375 0 \nQ 17.1875 0 13.234375 3.875 \nQ 9.28125 7.765625 9.28125 18.015625 \nL 9.28125 47.703125 \nL 2.6875 47.703125 \nL 2.6875 54.6875 \nL 9.28125 54.6875 \nL 9.28125 70.21875 \nz\n\" id=\"DejaVuSans-116\"/>\n     <path d=\"M 56.203125 29.59375 \nL 56.203125 25.203125 \nL 14.890625 25.203125 \nQ 15.484375 15.921875 20.484375 11.0625 \nQ 25.484375 6.203125 34.421875 6.203125 \nQ 39.59375 6.203125 44.453125 7.46875 \nQ 49.3125 8.734375 54.109375 11.28125 \nL 54.109375 2.78125 \nQ 49.265625 0.734375 44.1875 -0.34375 \nQ 39.109375 -1.421875 33.890625 -1.421875 \nQ 20.796875 -1.421875 13.15625 6.1875 \nQ 5.515625 13.8125 5.515625 26.8125 \nQ 5.515625 40.234375 12.765625 48.109375 \nQ 20.015625 56 32.328125 56 \nQ 43.359375 56 49.78125 48.890625 \nQ 56.203125 41.796875 56.203125 29.59375 \nz\nM 47.21875 32.234375 \nQ 47.125 39.59375 43.09375 43.984375 \nQ 39.0625 48.390625 32.421875 48.390625 \nQ 24.90625 48.390625 20.390625 44.140625 \nQ 15.875 39.890625 15.1875 32.171875 \nz\n\" id=\"DejaVuSans-101\"/>\n     <path d=\"M 37.109375 75.984375 \nL 37.109375 68.5 \nL 28.515625 68.5 \nQ 23.6875 68.5 21.796875 66.546875 \nQ 19.921875 64.59375 19.921875 59.515625 \nL 19.921875 54.6875 \nL 34.71875 54.6875 \nL 34.71875 47.703125 \nL 19.921875 47.703125 \nL 19.921875 0 \nL 10.890625 0 \nL 10.890625 47.703125 \nL 2.296875 47.703125 \nL 2.296875 54.6875 \nL 10.890625 54.6875 \nL 10.890625 58.5 \nQ 10.890625 67.625 15.140625 71.796875 \nQ 19.390625 75.984375 28.609375 75.984375 \nz\n\" id=\"DejaVuSans-102\"/>\n     <path d=\"M 8.5 21.578125 \nL 8.5 54.6875 \nL 17.484375 54.6875 \nL 17.484375 21.921875 \nQ 17.484375 14.15625 20.5 10.265625 \nQ 23.53125 6.390625 29.59375 6.390625 \nQ 36.859375 6.390625 41.078125 11.03125 \nQ 45.3125 15.671875 45.3125 23.6875 \nL 45.3125 54.6875 \nL 54.296875 54.6875 \nL 54.296875 0 \nL 45.3125 0 \nL 45.3125 8.40625 \nQ 42.046875 3.421875 37.71875 1 \nQ 33.40625 -1.421875 27.6875 -1.421875 \nQ 18.265625 -1.421875 13.375 4.4375 \nQ 8.5 10.296875 8.5 21.578125 \nz\nM 31.109375 56 \nz\n\" id=\"DejaVuSans-117\"/>\n     <path d=\"M 9.421875 75.984375 \nL 18.40625 75.984375 \nL 18.40625 0 \nL 9.421875 0 \nz\n\" id=\"DejaVuSans-108\"/>\n     <path d=\"M 9.078125 75.984375 \nL 18.109375 75.984375 \nL 18.109375 31.109375 \nL 44.921875 54.6875 \nL 56.390625 54.6875 \nL 27.390625 29.109375 \nL 57.625 0 \nL 45.90625 0 \nL 18.109375 26.703125 \nL 18.109375 0 \nL 9.078125 0 \nz\n\" id=\"DejaVuSans-107\"/>\n    </defs>\n    <g transform=\"translate(149.695938 16.318125)scale(0.12 -0.12)\">\n     <use xlink:href=\"#DejaVuSans-84\"/>\n     <use x=\"46.333984\" xlink:href=\"#DejaVuSans-114\"/>\n     <use x=\"87.447266\" xlink:href=\"#DejaVuSans-97\"/>\n     <use x=\"148.726562\" xlink:href=\"#DejaVuSans-105\"/>\n     <use x=\"176.509766\" xlink:href=\"#DejaVuSans-110\"/>\n     <use x=\"239.888672\" xlink:href=\"#DejaVuSans-105\"/>\n     <use x=\"267.671875\" xlink:href=\"#DejaVuSans-110\"/>\n     <use x=\"331.050781\" xlink:href=\"#DejaVuSans-103\"/>\n     <use x=\"394.527344\" xlink:href=\"#DejaVuSans-32\"/>\n     <use x=\"426.314453\" xlink:href=\"#DejaVuSans-116\"/>\n     <use x=\"465.523438\" xlink:href=\"#DejaVuSans-104\"/>\n     <use x=\"528.902344\" xlink:href=\"#DejaVuSans-101\"/>\n     <use x=\"590.425781\" xlink:href=\"#DejaVuSans-32\"/>\n     <use x=\"622.212891\" xlink:href=\"#DejaVuSans-102\"/>\n     <use x=\"657.417969\" xlink:href=\"#DejaVuSans-117\"/>\n     <use x=\"720.796875\" xlink:href=\"#DejaVuSans-108\"/>\n     <use x=\"748.580078\" xlink:href=\"#DejaVuSans-108\"/>\n     <use x=\"776.363281\" xlink:href=\"#DejaVuSans-32\"/>\n     <use x=\"808.150391\" xlink:href=\"#DejaVuSans-114\"/>\n     <use x=\"849.263672\" xlink:href=\"#DejaVuSans-97\"/>\n     <use x=\"910.542969\" xlink:href=\"#DejaVuSans-110\"/>\n     <use x=\"973.921875\" xlink:href=\"#DejaVuSans-107\"/>\n     <use x=\"1028.207031\" xlink:href=\"#DejaVuSans-101\"/>\n     <use x=\"1089.730469\" xlink:href=\"#DejaVuSans-114\"/>\n    </g>\n   </g>\n   <g id=\"legend_1\">\n    <g id=\"patch_7\">\n     <path d=\"M 322.66875 59.674375 \nL 377.94375 59.674375 \nQ 379.94375 59.674375 379.94375 57.674375 \nL 379.94375 29.318125 \nQ 379.94375 27.318125 377.94375 27.318125 \nL 322.66875 27.318125 \nQ 320.66875 27.318125 320.66875 29.318125 \nL 320.66875 57.674375 \nQ 320.66875 59.674375 322.66875 59.674375 \nz\n\" style=\"fill:#ffffff;opacity:0.8;stroke:#cccccc;stroke-linejoin:miter;\"/>\n    </g>\n    <g id=\"line2d_14\">\n     <path d=\"M 324.66875 35.416562 \nL 344.66875 35.416562 \n\" style=\"fill:none;stroke:#1f77b4;stroke-linecap:square;stroke-width:1.5;\"/>\n    </g>\n    <g id=\"line2d_15\"/>\n    <g id=\"text_15\">\n     <!-- train -->\n     <g transform=\"translate(352.66875 38.916562)scale(0.1 -0.1)\">\n      <use xlink:href=\"#DejaVuSans-116\"/>\n      <use x=\"39.208984\" xlink:href=\"#DejaVuSans-114\"/>\n      <use x=\"80.322266\" xlink:href=\"#DejaVuSans-97\"/>\n      <use x=\"141.601562\" xlink:href=\"#DejaVuSans-105\"/>\n      <use x=\"169.384766\" xlink:href=\"#DejaVuSans-110\"/>\n     </g>\n    </g>\n    <g id=\"line2d_16\">\n     <path d=\"M 324.66875 50.094687 \nL 344.66875 50.094687 \n\" style=\"fill:none;stroke:#ff7f0e;stroke-linecap:square;stroke-width:1.5;\"/>\n    </g>\n    <g id=\"line2d_17\"/>\n    <g id=\"text_16\">\n     <!-- val -->\n     <defs>\n      <path d=\"M 2.984375 54.6875 \nL 12.5 54.6875 \nL 29.59375 8.796875 \nL 46.6875 54.6875 \nL 56.203125 54.6875 \nL 35.6875 0 \nL 23.484375 0 \nz\n\" id=\"DejaVuSans-118\"/>\n     </defs>\n     <g transform=\"translate(352.66875 53.594687)scale(0.1 -0.1)\">\n      <use xlink:href=\"#DejaVuSans-118\"/>\n      <use x=\"59.179688\" xlink:href=\"#DejaVuSans-97\"/>\n      <use x=\"120.458984\" xlink:href=\"#DejaVuSans-108\"/>\n     </g>\n    </g>\n   </g>\n  </g>\n </g>\n <defs>\n  <clipPath id=\"pf2b9f80e82\">\n   <rect height=\"217.44\" width=\"334.8\" x=\"50.14375\" y=\"22.318125\"/>\n  </clipPath>\n </defs>\n</svg>\n",
            "text/plain": [
              "<Figure size 432x288 with 1 Axes>"
            ]
          },
          "metadata": {},
          "output_type": "display_data"
        }
      ],
      "source": [
        "def plot_loss_training_without_batches(losses_train, losses_val):\n",
        "    plt.plot(losses_train, label='train')\n",
        "    plt.plot(losses_train, label='val')\n",
        "    plt.ylim(0,0.1)\n",
        "    plt.ylabel(\"Loss\")\n",
        "    plt.xlabel(\"Epochs\")\n",
        "    plt.title(\"Training the full ranker\")\n",
        "    plt.legend()\n",
        "    plt.show()\n",
        "\n",
        "plot_loss_training_without_batches(losses_train, losses_val)"
      ]
    },
    {
      "cell_type": "markdown",
      "metadata": {
        "id": "7qyeItwmNx7U"
      },
      "source": [
        "# Evaluate on test set"
      ]
    },
    {
      "cell_type": "code",
      "execution_count": null,
      "metadata": {
        "colab": {
          "base_uri": "https://localhost:8080/"
        },
        "id": "PTW2NtL5OljH",
        "outputId": "3ea788dc-9160-479d-b643-40e8b36d4aff"
      },
      "outputs": [
        {
          "name": "stdout",
          "output_type": "stream",
          "text": [
            "0.24174473796143933\n"
          ]
        }
      ],
      "source": [
        "def arp(sorted_labels):\n",
        "    ranks = np.arange(1, len(sorted_labels)+1, 1)\n",
        "    return sum(sorted_labels*ranks)\n",
        "\n",
        "def evaluate_test(w_min, sampled_qs_test, data_wclicks_test):\n",
        "    ndcg_q_test = []\n",
        "    arps = []\n",
        "    for q_test in sampled_qs_test:\n",
        "        X_test = np.array(data_wclicks_test[q_test][1])\n",
        "        Y_test = np.array(data_wclicks_test[q_test][0])\n",
        "        predictions_test = np.dot(X_test, w_min)\n",
        "        indices_test = np.flip(np.argsort(predictions_test))        \n",
        "        ndcg_test = NDCG(Y_test[indices_test], 10)\n",
        "        ndcg_q_test.append(ndcg_test)\n",
        "        arps.append(arp(Y_test[indices_test]))\n",
        "    ndcg_test = np.mean(ndcg_q_test)\n",
        "    arps = np.mean(arps)\n",
        "    return ndcg_test, arps\n",
        "    \n",
        "ndcg_test, arps = evaluate_test(w_min, sampled_qs_test, data_wclicks_test)\n",
        "ndcg_test_pr, arps_pr = evaluate_test(w_pr, sampled_qs_test, data_wclicks_test)\n",
        "print(ndcg_test)\n",
        "print(arps)"
      ]
    },
    {
      "cell_type": "markdown",
      "source": [
        "# Implementation of neural network with pytorch"
      ],
      "metadata": {
        "id": "HqOEXZJlJqvX"
      }
    },
    {
      "cell_type": "code",
      "execution_count": null,
      "metadata": {
        "id": "8iGXeqFDsttv"
      },
      "outputs": [],
      "source": [
        "def train(net, sampled_qs_train, num_epochs = 10, lr = 0.001):\n",
        "    net.to(device)\n",
        "    optimizer = torch.optim.Adam(net.parameters(), lr=lr)\n",
        "    animator = d2l.Animator(xlabel='epoch', xlim=[1, num_epochs],\n",
        "                            legend=['train loss', 'train acc', 'ndcg_train', 'test loss', 'test accuracy', 'ndcg_test'])\n",
        "    timer, num_batches = d2l.Timer(), len(sampled_qs_train)\n",
        "    ndcgs = []\n",
        "    for epoch in range(num_epochs):\n",
        "        metric = d2l.Accumulator(3)\n",
        "        net.train()\n",
        "        ndcg_q = []\n",
        "\n",
        "        #Permute data\n",
        "        permutation = np.random.permutation(len(sampled_qs_train))\n",
        "        sampled_qs_train = sampled_qs_train[permutation]\n",
        "        for i, q in enumerate(sampled_qs_train):\n",
        "            X = torch.tensor(data_wclicks_train[q][1]).float().to(device)\n",
        "            y = torch.tensor(data_wclicks_train[q][4]).float()[:, None].to(device)\n",
        "\n",
        "            y_hat = net(X)\n",
        "\n",
        "            indices = torch.flatten(torch.argsort(y_hat, dim=0, descending = True)).cpu().detach().numpy()\n",
        "            ndcg = NDCG(np.array(data_wclicks_train[q][4])[indices], 10)\n",
        "            ndcg_q.append(ndcg)\n",
        "\n",
        "            loss = MSE_tensor(y_hat, y)\n",
        "            loss.backward()\n",
        "            \n",
        "            optimizer.step()\n",
        "            \n",
        "            with torch.no_grad():\n",
        "                metric.add(loss * X.shape[0], d2l.accuracy(y_hat, y), X.shape[0])\n",
        "            \n",
        "            timer.stop()\n",
        "            train_l = metric[0] / metric[2]\n",
        "            train_acc = metric[1] / metric[2]\n",
        "            if (i + 1) % (num_batches // 5) == 0 or i == num_batches - 1:\n",
        "                animator.add(epoch + (i + 1) / num_batches,\n",
        "                             (train_l, train_acc, np.mean(ndcg_q), None, None, None))\n",
        "                \n",
        "        test_loss, test_accuracy, test_ndcg = test(net)\n",
        "        print(test_accuracy)\n",
        "        print(test_ndcg)\n",
        "        ndcgs.append(test_ndcg)\n",
        "        animator.add(epoch + 1, (None, None, None, test_loss, test_accuracy, test_ndcg))\n",
        "    return ndcgs\n",
        "\n",
        "def test(net):\n",
        "    net.eval()\n",
        "    metric = d2l.Accumulator(3)\n",
        "    ndcg_v = []\n",
        "    with torch.no_grad():\n",
        "        for i, q in enumerate(sampled_qs_val):\n",
        "            X = torch.tensor(data_wclicks_val[q][1]).float().to(device)\n",
        "            y = torch.tensor(data_wclicks_val[q][4]).float()[:, None].to(device)\n",
        "\n",
        "            y_hat = net(X)\n",
        "\n",
        "            # print(y_hat)\n",
        "            # print(y)\n",
        "            # print(\"____________\")\n",
        "\n",
        "            loss = MSE_tensor(y_hat, y)\n",
        "\n",
        "            indices = torch.flatten(torch.argsort(y_hat, dim=0, descending = False)).cpu().detach().numpy()\n",
        "\n",
        "            ndcg = NDCG(np.array(data_wclicks_val[q][4])[indices], 10)\n",
        "            ndcg_v.append(ndcg)\n",
        "\n",
        "            metric.add(loss * X.shape[0], d2l.accuracy(y_hat, y), X.shape[0])\n",
        "\n",
        "    test_loss = metric[0] / metric[2]\n",
        "    test_accuracy = metric[1] / metric[2]\n",
        "    print(ndcg_v)\n",
        "    test_ndcg = np.mean(ndcg_v)\n",
        "    print(test_loss)\n",
        "    print(test_ndcg)\n",
        "    return test_loss, test_accuracy, test_ndcg"
      ]
    },
    {
      "cell_type": "code",
      "execution_count": null,
      "metadata": {
        "colab": {
          "base_uri": "https://localhost:8080/",
          "height": 262
        },
        "id": "s97-IJ5gCOmQ",
        "outputId": "600d580a-72dd-4eb4-fb34-0c00dd0b9c6b"
      },
      "outputs": [
        {
          "data": {
            "image/svg+xml": "<?xml version=\"1.0\" encoding=\"utf-8\" standalone=\"no\"?>\n<!DOCTYPE svg PUBLIC \"-//W3C//DTD SVG 1.1//EN\"\n  \"http://www.w3.org/Graphics/SVG/1.1/DTD/svg11.dtd\">\n<!-- Created with matplotlib (https://matplotlib.org/) -->\n<svg height=\"180.65625pt\" version=\"1.1\" viewBox=\"0 0 238.965625 180.65625\" width=\"238.965625pt\" xmlns=\"http://www.w3.org/2000/svg\" xmlns:xlink=\"http://www.w3.org/1999/xlink\">\n <defs>\n  <style type=\"text/css\">\n*{stroke-linecap:butt;stroke-linejoin:round;}\n  </style>\n </defs>\n <g id=\"figure_1\">\n  <g id=\"patch_1\">\n   <path d=\"M 0 180.65625 \nL 238.965625 180.65625 \nL 238.965625 0 \nL 0 0 \nz\n\" style=\"fill:none;\"/>\n  </g>\n  <g id=\"axes_1\">\n   <g id=\"patch_2\">\n    <path d=\"M 30.103125 143.1 \nL 225.403125 143.1 \nL 225.403125 7.2 \nL 30.103125 7.2 \nz\n\" style=\"fill:#ffffff;\"/>\n   </g>\n   <g id=\"matplotlib.axis_1\">\n    <g id=\"xtick_1\">\n     <g id=\"line2d_1\">\n      <path clip-path=\"url(#pb71731fddb)\" d=\"M 57.041056 143.1 \nL 57.041056 7.2 \n\" style=\"fill:none;stroke:#b0b0b0;stroke-linecap:square;stroke-width:0.8;\"/>\n     </g>\n     <g id=\"line2d_2\">\n      <defs>\n       <path d=\"M 0 0 \nL 0 3.5 \n\" id=\"m8a3d50404b\" style=\"stroke:#000000;stroke-width:0.8;\"/>\n      </defs>\n      <g>\n       <use style=\"stroke:#000000;stroke-width:0.8;\" x=\"57.041056\" xlink:href=\"#m8a3d50404b\" y=\"143.1\"/>\n      </g>\n     </g>\n     <g id=\"text_1\">\n      <!-- 5 -->\n      <defs>\n       <path d=\"M 10.796875 72.90625 \nL 49.515625 72.90625 \nL 49.515625 64.59375 \nL 19.828125 64.59375 \nL 19.828125 46.734375 \nQ 21.96875 47.46875 24.109375 47.828125 \nQ 26.265625 48.1875 28.421875 48.1875 \nQ 40.625 48.1875 47.75 41.5 \nQ 54.890625 34.8125 54.890625 23.390625 \nQ 54.890625 11.625 47.5625 5.09375 \nQ 40.234375 -1.421875 26.90625 -1.421875 \nQ 22.3125 -1.421875 17.546875 -0.640625 \nQ 12.796875 0.140625 7.71875 1.703125 \nL 7.71875 11.625 \nQ 12.109375 9.234375 16.796875 8.0625 \nQ 21.484375 6.890625 26.703125 6.890625 \nQ 35.15625 6.890625 40.078125 11.328125 \nQ 45.015625 15.765625 45.015625 23.390625 \nQ 45.015625 31 40.078125 35.4375 \nQ 35.15625 39.890625 26.703125 39.890625 \nQ 22.75 39.890625 18.8125 39.015625 \nQ 14.890625 38.140625 10.796875 36.28125 \nz\n\" id=\"DejaVuSans-53\"/>\n      </defs>\n      <g transform=\"translate(53.859806 157.698438)scale(0.1 -0.1)\">\n       <use xlink:href=\"#DejaVuSans-53\"/>\n      </g>\n     </g>\n    </g>\n    <g id=\"xtick_2\">\n     <g id=\"line2d_3\">\n      <path clip-path=\"url(#pb71731fddb)\" d=\"M 90.71347 143.1 \nL 90.71347 7.2 \n\" style=\"fill:none;stroke:#b0b0b0;stroke-linecap:square;stroke-width:0.8;\"/>\n     </g>\n     <g id=\"line2d_4\">\n      <g>\n       <use style=\"stroke:#000000;stroke-width:0.8;\" x=\"90.71347\" xlink:href=\"#m8a3d50404b\" y=\"143.1\"/>\n      </g>\n     </g>\n     <g id=\"text_2\">\n      <!-- 10 -->\n      <defs>\n       <path d=\"M 12.40625 8.296875 \nL 28.515625 8.296875 \nL 28.515625 63.921875 \nL 10.984375 60.40625 \nL 10.984375 69.390625 \nL 28.421875 72.90625 \nL 38.28125 72.90625 \nL 38.28125 8.296875 \nL 54.390625 8.296875 \nL 54.390625 0 \nL 12.40625 0 \nz\n\" id=\"DejaVuSans-49\"/>\n       <path d=\"M 31.78125 66.40625 \nQ 24.171875 66.40625 20.328125 58.90625 \nQ 16.5 51.421875 16.5 36.375 \nQ 16.5 21.390625 20.328125 13.890625 \nQ 24.171875 6.390625 31.78125 6.390625 \nQ 39.453125 6.390625 43.28125 13.890625 \nQ 47.125 21.390625 47.125 36.375 \nQ 47.125 51.421875 43.28125 58.90625 \nQ 39.453125 66.40625 31.78125 66.40625 \nz\nM 31.78125 74.21875 \nQ 44.046875 74.21875 50.515625 64.515625 \nQ 56.984375 54.828125 56.984375 36.375 \nQ 56.984375 17.96875 50.515625 8.265625 \nQ 44.046875 -1.421875 31.78125 -1.421875 \nQ 19.53125 -1.421875 13.0625 8.265625 \nQ 6.59375 17.96875 6.59375 36.375 \nQ 6.59375 54.828125 13.0625 64.515625 \nQ 19.53125 74.21875 31.78125 74.21875 \nz\n\" id=\"DejaVuSans-48\"/>\n      </defs>\n      <g transform=\"translate(84.35097 157.698438)scale(0.1 -0.1)\">\n       <use xlink:href=\"#DejaVuSans-49\"/>\n       <use x=\"63.623047\" xlink:href=\"#DejaVuSans-48\"/>\n      </g>\n     </g>\n    </g>\n    <g id=\"xtick_3\">\n     <g id=\"line2d_5\">\n      <path clip-path=\"url(#pb71731fddb)\" d=\"M 124.385884 143.1 \nL 124.385884 7.2 \n\" style=\"fill:none;stroke:#b0b0b0;stroke-linecap:square;stroke-width:0.8;\"/>\n     </g>\n     <g id=\"line2d_6\">\n      <g>\n       <use style=\"stroke:#000000;stroke-width:0.8;\" x=\"124.385884\" xlink:href=\"#m8a3d50404b\" y=\"143.1\"/>\n      </g>\n     </g>\n     <g id=\"text_3\">\n      <!-- 15 -->\n      <g transform=\"translate(118.023384 157.698438)scale(0.1 -0.1)\">\n       <use xlink:href=\"#DejaVuSans-49\"/>\n       <use x=\"63.623047\" xlink:href=\"#DejaVuSans-53\"/>\n      </g>\n     </g>\n    </g>\n    <g id=\"xtick_4\">\n     <g id=\"line2d_7\">\n      <path clip-path=\"url(#pb71731fddb)\" d=\"M 158.058297 143.1 \nL 158.058297 7.2 \n\" style=\"fill:none;stroke:#b0b0b0;stroke-linecap:square;stroke-width:0.8;\"/>\n     </g>\n     <g id=\"line2d_8\">\n      <g>\n       <use style=\"stroke:#000000;stroke-width:0.8;\" x=\"158.058297\" xlink:href=\"#m8a3d50404b\" y=\"143.1\"/>\n      </g>\n     </g>\n     <g id=\"text_4\">\n      <!-- 20 -->\n      <defs>\n       <path d=\"M 19.1875 8.296875 \nL 53.609375 8.296875 \nL 53.609375 0 \nL 7.328125 0 \nL 7.328125 8.296875 \nQ 12.9375 14.109375 22.625 23.890625 \nQ 32.328125 33.6875 34.8125 36.53125 \nQ 39.546875 41.84375 41.421875 45.53125 \nQ 43.3125 49.21875 43.3125 52.78125 \nQ 43.3125 58.59375 39.234375 62.25 \nQ 35.15625 65.921875 28.609375 65.921875 \nQ 23.96875 65.921875 18.8125 64.3125 \nQ 13.671875 62.703125 7.8125 59.421875 \nL 7.8125 69.390625 \nQ 13.765625 71.78125 18.9375 73 \nQ 24.125 74.21875 28.421875 74.21875 \nQ 39.75 74.21875 46.484375 68.546875 \nQ 53.21875 62.890625 53.21875 53.421875 \nQ 53.21875 48.921875 51.53125 44.890625 \nQ 49.859375 40.875 45.40625 35.40625 \nQ 44.1875 33.984375 37.640625 27.21875 \nQ 31.109375 20.453125 19.1875 8.296875 \nz\n\" id=\"DejaVuSans-50\"/>\n      </defs>\n      <g transform=\"translate(151.695797 157.698438)scale(0.1 -0.1)\">\n       <use xlink:href=\"#DejaVuSans-50\"/>\n       <use x=\"63.623047\" xlink:href=\"#DejaVuSans-48\"/>\n      </g>\n     </g>\n    </g>\n    <g id=\"xtick_5\">\n     <g id=\"line2d_9\">\n      <path clip-path=\"url(#pb71731fddb)\" d=\"M 191.730711 143.1 \nL 191.730711 7.2 \n\" style=\"fill:none;stroke:#b0b0b0;stroke-linecap:square;stroke-width:0.8;\"/>\n     </g>\n     <g id=\"line2d_10\">\n      <g>\n       <use style=\"stroke:#000000;stroke-width:0.8;\" x=\"191.730711\" xlink:href=\"#m8a3d50404b\" y=\"143.1\"/>\n      </g>\n     </g>\n     <g id=\"text_5\">\n      <!-- 25 -->\n      <g transform=\"translate(185.368211 157.698438)scale(0.1 -0.1)\">\n       <use xlink:href=\"#DejaVuSans-50\"/>\n       <use x=\"63.623047\" xlink:href=\"#DejaVuSans-53\"/>\n      </g>\n     </g>\n    </g>\n    <g id=\"xtick_6\">\n     <g id=\"line2d_11\">\n      <path clip-path=\"url(#pb71731fddb)\" d=\"M 225.403125 143.1 \nL 225.403125 7.2 \n\" style=\"fill:none;stroke:#b0b0b0;stroke-linecap:square;stroke-width:0.8;\"/>\n     </g>\n     <g id=\"line2d_12\">\n      <g>\n       <use style=\"stroke:#000000;stroke-width:0.8;\" x=\"225.403125\" xlink:href=\"#m8a3d50404b\" y=\"143.1\"/>\n      </g>\n     </g>\n     <g id=\"text_6\">\n      <!-- 30 -->\n      <defs>\n       <path d=\"M 40.578125 39.3125 \nQ 47.65625 37.796875 51.625 33 \nQ 55.609375 28.21875 55.609375 21.1875 \nQ 55.609375 10.40625 48.1875 4.484375 \nQ 40.765625 -1.421875 27.09375 -1.421875 \nQ 22.515625 -1.421875 17.65625 -0.515625 \nQ 12.796875 0.390625 7.625 2.203125 \nL 7.625 11.71875 \nQ 11.71875 9.328125 16.59375 8.109375 \nQ 21.484375 6.890625 26.8125 6.890625 \nQ 36.078125 6.890625 40.9375 10.546875 \nQ 45.796875 14.203125 45.796875 21.1875 \nQ 45.796875 27.640625 41.28125 31.265625 \nQ 36.765625 34.90625 28.71875 34.90625 \nL 20.21875 34.90625 \nL 20.21875 43.015625 \nL 29.109375 43.015625 \nQ 36.375 43.015625 40.234375 45.921875 \nQ 44.09375 48.828125 44.09375 54.296875 \nQ 44.09375 59.90625 40.109375 62.90625 \nQ 36.140625 65.921875 28.71875 65.921875 \nQ 24.65625 65.921875 20.015625 65.03125 \nQ 15.375 64.15625 9.8125 62.3125 \nL 9.8125 71.09375 \nQ 15.4375 72.65625 20.34375 73.4375 \nQ 25.25 74.21875 29.59375 74.21875 \nQ 40.828125 74.21875 47.359375 69.109375 \nQ 53.90625 64.015625 53.90625 55.328125 \nQ 53.90625 49.265625 50.4375 45.09375 \nQ 46.96875 40.921875 40.578125 39.3125 \nz\n\" id=\"DejaVuSans-51\"/>\n      </defs>\n      <g transform=\"translate(219.040625 157.698438)scale(0.1 -0.1)\">\n       <use xlink:href=\"#DejaVuSans-51\"/>\n       <use x=\"63.623047\" xlink:href=\"#DejaVuSans-48\"/>\n      </g>\n     </g>\n    </g>\n    <g id=\"text_7\">\n     <!-- epoch -->\n     <defs>\n      <path d=\"M 56.203125 29.59375 \nL 56.203125 25.203125 \nL 14.890625 25.203125 \nQ 15.484375 15.921875 20.484375 11.0625 \nQ 25.484375 6.203125 34.421875 6.203125 \nQ 39.59375 6.203125 44.453125 7.46875 \nQ 49.3125 8.734375 54.109375 11.28125 \nL 54.109375 2.78125 \nQ 49.265625 0.734375 44.1875 -0.34375 \nQ 39.109375 -1.421875 33.890625 -1.421875 \nQ 20.796875 -1.421875 13.15625 6.1875 \nQ 5.515625 13.8125 5.515625 26.8125 \nQ 5.515625 40.234375 12.765625 48.109375 \nQ 20.015625 56 32.328125 56 \nQ 43.359375 56 49.78125 48.890625 \nQ 56.203125 41.796875 56.203125 29.59375 \nz\nM 47.21875 32.234375 \nQ 47.125 39.59375 43.09375 43.984375 \nQ 39.0625 48.390625 32.421875 48.390625 \nQ 24.90625 48.390625 20.390625 44.140625 \nQ 15.875 39.890625 15.1875 32.171875 \nz\n\" id=\"DejaVuSans-101\"/>\n      <path d=\"M 18.109375 8.203125 \nL 18.109375 -20.796875 \nL 9.078125 -20.796875 \nL 9.078125 54.6875 \nL 18.109375 54.6875 \nL 18.109375 46.390625 \nQ 20.953125 51.265625 25.265625 53.625 \nQ 29.59375 56 35.59375 56 \nQ 45.5625 56 51.78125 48.09375 \nQ 58.015625 40.1875 58.015625 27.296875 \nQ 58.015625 14.40625 51.78125 6.484375 \nQ 45.5625 -1.421875 35.59375 -1.421875 \nQ 29.59375 -1.421875 25.265625 0.953125 \nQ 20.953125 3.328125 18.109375 8.203125 \nz\nM 48.6875 27.296875 \nQ 48.6875 37.203125 44.609375 42.84375 \nQ 40.53125 48.484375 33.40625 48.484375 \nQ 26.265625 48.484375 22.1875 42.84375 \nQ 18.109375 37.203125 18.109375 27.296875 \nQ 18.109375 17.390625 22.1875 11.75 \nQ 26.265625 6.109375 33.40625 6.109375 \nQ 40.53125 6.109375 44.609375 11.75 \nQ 48.6875 17.390625 48.6875 27.296875 \nz\n\" id=\"DejaVuSans-112\"/>\n      <path d=\"M 30.609375 48.390625 \nQ 23.390625 48.390625 19.1875 42.75 \nQ 14.984375 37.109375 14.984375 27.296875 \nQ 14.984375 17.484375 19.15625 11.84375 \nQ 23.34375 6.203125 30.609375 6.203125 \nQ 37.796875 6.203125 41.984375 11.859375 \nQ 46.1875 17.53125 46.1875 27.296875 \nQ 46.1875 37.015625 41.984375 42.703125 \nQ 37.796875 48.390625 30.609375 48.390625 \nz\nM 30.609375 56 \nQ 42.328125 56 49.015625 48.375 \nQ 55.71875 40.765625 55.71875 27.296875 \nQ 55.71875 13.875 49.015625 6.21875 \nQ 42.328125 -1.421875 30.609375 -1.421875 \nQ 18.84375 -1.421875 12.171875 6.21875 \nQ 5.515625 13.875 5.515625 27.296875 \nQ 5.515625 40.765625 12.171875 48.375 \nQ 18.84375 56 30.609375 56 \nz\n\" id=\"DejaVuSans-111\"/>\n      <path d=\"M 48.78125 52.59375 \nL 48.78125 44.1875 \nQ 44.96875 46.296875 41.140625 47.34375 \nQ 37.3125 48.390625 33.40625 48.390625 \nQ 24.65625 48.390625 19.8125 42.84375 \nQ 14.984375 37.3125 14.984375 27.296875 \nQ 14.984375 17.28125 19.8125 11.734375 \nQ 24.65625 6.203125 33.40625 6.203125 \nQ 37.3125 6.203125 41.140625 7.25 \nQ 44.96875 8.296875 48.78125 10.40625 \nL 48.78125 2.09375 \nQ 45.015625 0.34375 40.984375 -0.53125 \nQ 36.96875 -1.421875 32.421875 -1.421875 \nQ 20.0625 -1.421875 12.78125 6.34375 \nQ 5.515625 14.109375 5.515625 27.296875 \nQ 5.515625 40.671875 12.859375 48.328125 \nQ 20.21875 56 33.015625 56 \nQ 37.15625 56 41.109375 55.140625 \nQ 45.0625 54.296875 48.78125 52.59375 \nz\n\" id=\"DejaVuSans-99\"/>\n      <path d=\"M 54.890625 33.015625 \nL 54.890625 0 \nL 45.90625 0 \nL 45.90625 32.71875 \nQ 45.90625 40.484375 42.875 44.328125 \nQ 39.84375 48.1875 33.796875 48.1875 \nQ 26.515625 48.1875 22.3125 43.546875 \nQ 18.109375 38.921875 18.109375 30.90625 \nL 18.109375 0 \nL 9.078125 0 \nL 9.078125 75.984375 \nL 18.109375 75.984375 \nL 18.109375 46.1875 \nQ 21.34375 51.125 25.703125 53.5625 \nQ 30.078125 56 35.796875 56 \nQ 45.21875 56 50.046875 50.171875 \nQ 54.890625 44.34375 54.890625 33.015625 \nz\n\" id=\"DejaVuSans-104\"/>\n     </defs>\n     <g transform=\"translate(112.525 171.376563)scale(0.1 -0.1)\">\n      <use xlink:href=\"#DejaVuSans-101\"/>\n      <use x=\"61.523438\" xlink:href=\"#DejaVuSans-112\"/>\n      <use x=\"125\" xlink:href=\"#DejaVuSans-111\"/>\n      <use x=\"186.181641\" xlink:href=\"#DejaVuSans-99\"/>\n      <use x=\"241.162109\" xlink:href=\"#DejaVuSans-104\"/>\n     </g>\n    </g>\n   </g>\n   <g id=\"matplotlib.axis_2\">\n    <g id=\"ytick_1\">\n     <g id=\"line2d_13\">\n      <path clip-path=\"url(#pb71731fddb)\" d=\"M 30.103125 136.922727 \nL 225.403125 136.922727 \n\" style=\"fill:none;stroke:#b0b0b0;stroke-linecap:square;stroke-width:0.8;\"/>\n     </g>\n     <g id=\"line2d_14\">\n      <defs>\n       <path d=\"M 0 0 \nL -3.5 0 \n\" id=\"m7f4d24eeac\" style=\"stroke:#000000;stroke-width:0.8;\"/>\n      </defs>\n      <g>\n       <use style=\"stroke:#000000;stroke-width:0.8;\" x=\"30.103125\" xlink:href=\"#m7f4d24eeac\" y=\"136.922727\"/>\n      </g>\n     </g>\n     <g id=\"text_8\">\n      <!-- 0.0 -->\n      <defs>\n       <path d=\"M 10.6875 12.40625 \nL 21 12.40625 \nL 21 0 \nL 10.6875 0 \nz\n\" id=\"DejaVuSans-46\"/>\n      </defs>\n      <g transform=\"translate(7.2 140.721946)scale(0.1 -0.1)\">\n       <use xlink:href=\"#DejaVuSans-48\"/>\n       <use x=\"63.623047\" xlink:href=\"#DejaVuSans-46\"/>\n       <use x=\"95.410156\" xlink:href=\"#DejaVuSans-48\"/>\n      </g>\n     </g>\n    </g>\n    <g id=\"ytick_2\">\n     <g id=\"line2d_15\">\n      <path clip-path=\"url(#pb71731fddb)\" d=\"M 30.103125 98.765618 \nL 225.403125 98.765618 \n\" style=\"fill:none;stroke:#b0b0b0;stroke-linecap:square;stroke-width:0.8;\"/>\n     </g>\n     <g id=\"line2d_16\">\n      <g>\n       <use style=\"stroke:#000000;stroke-width:0.8;\" x=\"30.103125\" xlink:href=\"#m7f4d24eeac\" y=\"98.765618\"/>\n      </g>\n     </g>\n     <g id=\"text_9\">\n      <!-- 0.1 -->\n      <g transform=\"translate(7.2 102.564837)scale(0.1 -0.1)\">\n       <use xlink:href=\"#DejaVuSans-48\"/>\n       <use x=\"63.623047\" xlink:href=\"#DejaVuSans-46\"/>\n       <use x=\"95.410156\" xlink:href=\"#DejaVuSans-49\"/>\n      </g>\n     </g>\n    </g>\n    <g id=\"ytick_3\">\n     <g id=\"line2d_17\">\n      <path clip-path=\"url(#pb71731fddb)\" d=\"M 30.103125 60.60851 \nL 225.403125 60.60851 \n\" style=\"fill:none;stroke:#b0b0b0;stroke-linecap:square;stroke-width:0.8;\"/>\n     </g>\n     <g id=\"line2d_18\">\n      <g>\n       <use style=\"stroke:#000000;stroke-width:0.8;\" x=\"30.103125\" xlink:href=\"#m7f4d24eeac\" y=\"60.60851\"/>\n      </g>\n     </g>\n     <g id=\"text_10\">\n      <!-- 0.2 -->\n      <g transform=\"translate(7.2 64.407728)scale(0.1 -0.1)\">\n       <use xlink:href=\"#DejaVuSans-48\"/>\n       <use x=\"63.623047\" xlink:href=\"#DejaVuSans-46\"/>\n       <use x=\"95.410156\" xlink:href=\"#DejaVuSans-50\"/>\n      </g>\n     </g>\n    </g>\n    <g id=\"ytick_4\">\n     <g id=\"line2d_19\">\n      <path clip-path=\"url(#pb71731fddb)\" d=\"M 30.103125 22.451401 \nL 225.403125 22.451401 \n\" style=\"fill:none;stroke:#b0b0b0;stroke-linecap:square;stroke-width:0.8;\"/>\n     </g>\n     <g id=\"line2d_20\">\n      <g>\n       <use style=\"stroke:#000000;stroke-width:0.8;\" x=\"30.103125\" xlink:href=\"#m7f4d24eeac\" y=\"22.451401\"/>\n      </g>\n     </g>\n     <g id=\"text_11\">\n      <!-- 0.3 -->\n      <g transform=\"translate(7.2 26.250619)scale(0.1 -0.1)\">\n       <use xlink:href=\"#DejaVuSans-48\"/>\n       <use x=\"63.623047\" xlink:href=\"#DejaVuSans-46\"/>\n       <use x=\"95.410156\" xlink:href=\"#DejaVuSans-51\"/>\n      </g>\n     </g>\n    </g>\n   </g>\n   <g id=\"line2d_21\">\n    <path clip-path=\"url(#pb71731fddb)\" d=\"M 24.714475 111.948218 \nL 26.060308 120.599944 \nL 27.40614 124.85126 \nL 28.751973 126.52326 \nL 30.103125 127.216114 \nL 31.448958 133.566685 \nL 32.79479 130.393179 \nL 34.140623 131.593793 \nL 35.486456 130.774508 \nL 36.837608 131.027765 \nL 38.18344 127.540857 \nL 39.529273 129.724348 \nL 40.875106 129.025448 \nL 42.220938 129.759369 \nL 43.572091 128.771694 \nL 44.917923 133.643767 \nL 46.263756 129.295592 \nL 47.609588 130.784076 \nL 48.955421 128.855383 \nL 50.306573 129.595942 \nL 51.652406 126.52674 \nL 52.998239 127.360692 \nL 54.344071 128.45436 \nL 55.689904 126.922521 \nL 57.041056 128.363556 \nL 58.386889 123.719944 \nL 59.732721 127.412299 \nL 61.078554 127.495703 \nL 62.424387 126.383084 \nL 63.775539 127.840986 \nL 65.121371 121.850124 \nL 66.467204 126.304085 \nL 67.813037 126.549783 \nL 69.158869 125.082542 \nL 70.510022 126.897966 \nL 71.855854 121.326268 \nL 73.201687 124.751147 \nL 74.54752 126.775891 \nL 75.893352 124.49484 \nL 77.244504 125.937218 \nL 78.590337 126.821981 \nL 79.93617 123.906925 \nL 81.282002 127.248987 \nL 82.627835 125.632674 \nL 83.973668 124.988905 \nL 83.978987 125.011671 \nL 85.32482 133.368703 \nL 86.670652 126.27785 \nL 88.016485 126.534228 \nL 89.362318 127.708543 \nL 90.71347 125.433354 \nL 92.059302 128.737633 \nL 93.405135 129.475231 \nL 94.750968 125.407918 \nL 96.0968 126.882217 \nL 97.447953 126.902728 \nL 98.793785 115.182488 \nL 100.139618 123.579966 \nL 101.485451 124.443742 \nL 102.831283 122.764726 \nL 104.182435 124.827859 \nL 105.528268 124.515723 \nL 106.874101 120.058554 \nL 108.219933 124.502104 \nL 109.565766 124.701145 \nL 110.916918 123.359861 \nL 112.262751 133.775218 \nL 113.608583 128.793429 \nL 114.954416 124.293519 \nL 116.300249 126.503575 \nL 117.651401 126.199498 \nL 118.997234 117.222746 \nL 120.343066 125.114847 \nL 121.688899 124.578921 \nL 123.034731 121.877904 \nL 124.385884 124.102965 \nL 125.731716 125.774532 \nL 127.077549 120.729294 \nL 128.423382 124.612604 \nL 129.769214 124.914139 \nL 131.120366 122.692947 \nL 132.466199 130.081403 \nL 133.812032 129.266561 \nL 135.157864 124.387606 \nL 136.503697 125.623764 \nL 137.854849 126.280697 \nL 139.200682 112.054167 \nL 140.546514 118.497191 \nL 141.892347 123.16126 \nL 143.23818 121.128914 \nL 144.589332 121.52187 \nL 145.935165 133.609434 \nL 147.280997 124.675864 \nL 148.62683 122.291221 \nL 149.972663 125.380558 \nL 151.323815 124.2749 \nL 152.669647 116.654031 \nL 154.01548 125.101807 \nL 155.361313 124.127505 \nL 156.707145 120.90352 \nL 158.058297 122.924786 \nL 159.40413 127.296702 \nL 160.749963 119.873055 \nL 163.441628 124.396533 \nL 164.79278 121.781468 \nL 166.138613 120.33062 \nL 167.484445 127.055249 \nL 168.830278 124.10351 \nL 170.176111 122.322515 \nL 171.527263 124.64838 \nL 172.873096 121.614699 \nL 174.218928 116.864558 \nL 175.564761 121.823882 \nL 176.910594 123.353694 \nL 178.261746 121.309864 \nL 179.607578 127.5879 \nL 180.953411 129.520352 \nL 182.299244 124.002513 \nL 183.645076 123.06104 \nL 184.996228 125.370947 \nL 186.342061 118.944813 \nL 187.687894 117.857253 \nL 189.033726 123.677033 \nL 190.379559 123.333528 \nL 191.730711 120.833871 \nL 193.076544 130.414101 \nL 194.422377 129.280419 \nL 195.768209 123.639062 \nL 197.114042 124.095077 \nL 198.465194 125.596088 \nL 199.811027 111.482598 \nL 201.156859 114.526916 \nL 202.502692 120.939786 \nL 203.848525 120.382068 \nL 205.199677 119.092212 \nL 206.545509 132.617386 \nL 207.891342 128.629523 \nL 209.237175 122.03907 \nL 210.583007 123.074952 \nL 211.92884 124.856497 \nL 211.934159 124.848652 \nL 213.279992 113.329834 \nL 214.625825 116.606369 \nL 215.971657 122.316619 \nL 217.31749 121.112048 \nL 218.668642 119.115911 \nL 220.014475 132.043501 \nL 221.360308 128.933883 \nL 222.70614 123.002552 \nL 224.051973 123.84803 \nL 225.403125 125.44464 \nL 225.403125 125.44464 \n\" style=\"fill:none;stroke:#1f77b4;stroke-linecap:square;stroke-width:1.5;\"/>\n   </g>\n   <g id=\"line2d_22\">\n    <path clip-path=\"url(#pb71731fddb)\" d=\"M 24.714475 136.922727 \nL 225.403125 136.922727 \nL 225.403125 136.922727 \n\" style=\"fill:none;stroke:#bf00bf;stroke-dasharray:5.55,2.4;stroke-dashoffset:0;stroke-width:1.5;\"/>\n   </g>\n   <g id=\"line2d_23\">\n    <path clip-path=\"url(#pb71731fddb)\" d=\"M 24.714475 29.439206 \nL 26.060308 23.202712 \nL 27.40614 21.469177 \nL 28.751973 21.495106 \nL 30.103125 20.783999 \nL 31.448958 19.250376 \nL 32.79479 13.377273 \nL 34.140623 18.496384 \nL 35.486456 16.176819 \nL 36.832288 16.553717 \nL 36.837608 16.528218 \nL 38.18344 16.233211 \nL 39.529273 26.429794 \nL 40.875106 24.678866 \nL 42.220938 25.808097 \nL 43.572091 27.316378 \nL 44.917923 45.507326 \nL 46.263756 36.878538 \nL 47.609588 35.757604 \nL 48.955421 34.137166 \nL 50.301254 35.267578 \nL 50.306573 35.25161 \nL 51.652406 34.806977 \nL 52.998239 38.839949 \nL 54.344071 36.946943 \nL 55.689904 34.5196 \nL 57.041056 35.729106 \nL 58.386889 33.730723 \nL 59.732721 33.471386 \nL 61.078554 33.015787 \nL 63.775539 35.575475 \nL 65.121371 39.837417 \nL 66.467204 33.204963 \nL 67.813037 32.715657 \nL 69.158869 33.409685 \nL 70.510022 35.575475 \nL 71.855854 40.381315 \nL 73.201687 37.929499 \nL 74.54752 37.691493 \nL 75.893352 35.657264 \nL 77.244504 35.575475 \nL 78.590337 36.05453 \nL 79.93617 35.732133 \nL 81.282002 36.603072 \nL 82.627835 35.263204 \nL 83.978987 35.575475 \nL 85.32482 38.727601 \nL 86.670652 40.899805 \nL 88.016485 36.894693 \nL 89.362318 35.702934 \nL 90.70815 35.495358 \nL 90.71347 35.575475 \nL 92.059302 35.691566 \nL 93.405135 36.841673 \nL 94.750968 39.464995 \nL 96.0968 38.759097 \nL 97.442633 35.495358 \nL 97.447953 35.575475 \nL 98.793785 33.756798 \nL 100.139618 36.260595 \nL 101.485451 35.277081 \nL 102.831283 36.379663 \nL 104.182435 35.575475 \nL 105.528268 33.04402 \nL 106.874101 36.716559 \nL 108.219933 35.619037 \nL 109.565766 38.793514 \nL 110.916918 35.575475 \nL 112.262751 31.200494 \nL 113.608583 31.570118 \nL 114.954416 34.563183 \nL 116.300249 34.470692 \nL 117.646081 35.58346 \nL 117.651401 35.575475 \nL 118.997234 21.10334 \nL 120.343066 27.546615 \nL 121.688899 29.670759 \nL 123.034731 34.649354 \nL 124.380564 35.720403 \nL 124.385884 35.575475 \nL 125.731716 37.283503 \nL 127.077549 31.449656 \nL 128.423382 36.398637 \nL 129.769214 37.141743 \nL 131.115047 35.495358 \nL 131.120366 35.575475 \nL 132.466199 38.988672 \nL 133.812032 40.700726 \nL 135.157864 37.741782 \nL 136.503697 37.011961 \nL 137.854849 35.575475 \nL 139.200682 37.29256 \nL 140.546514 34.223826 \nL 141.892347 37.155889 \nL 143.23818 35.050767 \nL 144.589332 35.575475 \nL 145.935165 38.708087 \nL 147.280997 35.18694 \nL 148.62683 34.164435 \nL 149.972663 36.294809 \nL 151.318495 35.552166 \nL 151.323815 35.575475 \nL 152.669647 36.85883 \nL 154.01548 29.66842 \nL 155.361313 28.912126 \nL 156.707145 31.020084 \nL 158.058297 35.575475 \nL 159.40413 32.833068 \nL 160.749963 34.290385 \nL 162.095795 33.782705 \nL 163.441628 35.019156 \nL 164.79278 35.575475 \nL 166.138613 41.676351 \nL 167.484445 38.366407 \nL 168.830278 34.755438 \nL 170.176111 36.444103 \nL 171.521943 35.495358 \nL 171.527263 35.575475 \nL 172.873096 28.722091 \nL 174.218928 36.18081 \nL 175.564761 40.255284 \nL 176.910594 37.359107 \nL 178.256426 35.537303 \nL 178.261746 35.575475 \nL 179.607578 37.269812 \nL 180.953411 26.831744 \nL 182.299244 28.893685 \nL 183.645076 32.731068 \nL 184.996228 35.575475 \nL 186.342061 31.221001 \nL 187.687894 30.624397 \nL 189.033726 35.03751 \nL 190.379559 34.383225 \nL 191.725392 35.620894 \nL 191.730711 35.575475 \nL 193.076544 39.446567 \nL 194.422377 40.040389 \nL 195.768209 38.08584 \nL 197.114042 38.688231 \nL 198.459874 35.537608 \nL 198.465194 35.575475 \nL 199.811027 34.156567 \nL 201.156859 36.630687 \nL 202.502692 35.510904 \nL 203.848525 35.7182 \nL 205.199677 35.575475 \nL 206.545509 43.227666 \nL 207.891342 35.608197 \nL 209.237175 36.283522 \nL 211.92884 35.508338 \nL 211.934159 35.575475 \nL 213.279992 32.969131 \nL 214.625825 36.134819 \nL 215.971657 35.584906 \nL 217.31749 32.50114 \nL 218.668642 35.575475 \nL 220.014475 35.927816 \nL 221.360308 40.207576 \nL 222.70614 38.714169 \nL 224.051973 36.238183 \nL 225.397806 35.530669 \nL 225.403125 35.575475 \n\" style=\"fill:none;stroke:#008000;stroke-dasharray:9.6,2.4,1.5,2.4;stroke-dashoffset:0;stroke-width:1.5;\"/>\n   </g>\n   <g id=\"line2d_24\">\n    <path clip-path=\"url(#pb71731fddb)\" d=\"M 30.103125 129.453145 \nL 36.837608 124.267582 \nL 43.572091 132.934912 \nL 50.306573 134.98196 \nL 57.041056 130.697489 \nL 63.775539 128.309095 \nL 70.510022 130.242873 \nL 77.244504 135.422017 \nL 83.978987 133.288372 \nL 90.71347 117.919302 \nL 97.447953 116.360971 \nL 104.182435 134.190423 \nL 110.916918 126.590855 \nL 117.651401 115.620552 \nL 124.385884 135.028294 \nL 131.120366 119.480314 \nL 137.854849 118.039415 \nL 144.589332 134.193897 \nL 151.323815 112.442474 \nL 158.058297 135.979508 \nL 164.79278 109.243221 \nL 171.527263 132.629752 \nL 178.261746 116.205902 \nL 184.996228 129.109669 \nL 191.730711 119.079001 \nL 198.465194 121.781984 \nL 205.199677 124.268146 \nL 211.934159 122.404119 \nL 218.668642 121.843162 \nL 225.403125 122.140446 \n\" style=\"fill:none;stroke:#ff0000;stroke-dasharray:1.5,2.475;stroke-dashoffset:0;stroke-width:1.5;\"/>\n   </g>\n   <g id=\"patch_3\">\n    <path d=\"M 30.103125 143.1 \nL 30.103125 7.2 \n\" style=\"fill:none;stroke:#000000;stroke-linecap:square;stroke-linejoin:miter;stroke-width:0.8;\"/>\n   </g>\n   <g id=\"patch_4\">\n    <path d=\"M 225.403125 143.1 \nL 225.403125 7.2 \n\" style=\"fill:none;stroke:#000000;stroke-linecap:square;stroke-linejoin:miter;stroke-width:0.8;\"/>\n   </g>\n   <g id=\"patch_5\">\n    <path d=\"M 30.103125 143.1 \nL 225.403125 143.1 \n\" style=\"fill:none;stroke:#000000;stroke-linecap:square;stroke-linejoin:miter;stroke-width:0.8;\"/>\n   </g>\n   <g id=\"patch_6\">\n    <path d=\"M 30.103125 7.2 \nL 225.403125 7.2 \n\" style=\"fill:none;stroke:#000000;stroke-linecap:square;stroke-linejoin:miter;stroke-width:0.8;\"/>\n   </g>\n   <g id=\"legend_1\">\n    <g id=\"patch_7\">\n     <path d=\"M 133.595313 106.145312 \nL 218.403125 106.145312 \nQ 220.403125 106.145312 220.403125 104.145312 \nL 220.403125 46.154687 \nQ 220.403125 44.154687 218.403125 44.154687 \nL 133.595313 44.154687 \nQ 131.595313 44.154687 131.595313 46.154687 \nL 131.595313 104.145312 \nQ 131.595313 106.145312 133.595313 106.145312 \nz\n\" style=\"fill:#ffffff;opacity:0.8;stroke:#cccccc;stroke-linejoin:miter;\"/>\n    </g>\n    <g id=\"line2d_25\">\n     <path d=\"M 135.595313 52.253125 \nL 155.595313 52.253125 \n\" style=\"fill:none;stroke:#1f77b4;stroke-linecap:square;stroke-width:1.5;\"/>\n    </g>\n    <g id=\"line2d_26\"/>\n    <g id=\"text_12\">\n     <!-- train loss -->\n     <defs>\n      <path d=\"M 18.3125 70.21875 \nL 18.3125 54.6875 \nL 36.8125 54.6875 \nL 36.8125 47.703125 \nL 18.3125 47.703125 \nL 18.3125 18.015625 \nQ 18.3125 11.328125 20.140625 9.421875 \nQ 21.96875 7.515625 27.59375 7.515625 \nL 36.8125 7.515625 \nL 36.8125 0 \nL 27.59375 0 \nQ 17.1875 0 13.234375 3.875 \nQ 9.28125 7.765625 9.28125 18.015625 \nL 9.28125 47.703125 \nL 2.6875 47.703125 \nL 2.6875 54.6875 \nL 9.28125 54.6875 \nL 9.28125 70.21875 \nz\n\" id=\"DejaVuSans-116\"/>\n      <path d=\"M 41.109375 46.296875 \nQ 39.59375 47.171875 37.8125 47.578125 \nQ 36.03125 48 33.890625 48 \nQ 26.265625 48 22.1875 43.046875 \nQ 18.109375 38.09375 18.109375 28.8125 \nL 18.109375 0 \nL 9.078125 0 \nL 9.078125 54.6875 \nL 18.109375 54.6875 \nL 18.109375 46.1875 \nQ 20.953125 51.171875 25.484375 53.578125 \nQ 30.03125 56 36.53125 56 \nQ 37.453125 56 38.578125 55.875 \nQ 39.703125 55.765625 41.0625 55.515625 \nz\n\" id=\"DejaVuSans-114\"/>\n      <path d=\"M 34.28125 27.484375 \nQ 23.390625 27.484375 19.1875 25 \nQ 14.984375 22.515625 14.984375 16.5 \nQ 14.984375 11.71875 18.140625 8.90625 \nQ 21.296875 6.109375 26.703125 6.109375 \nQ 34.1875 6.109375 38.703125 11.40625 \nQ 43.21875 16.703125 43.21875 25.484375 \nL 43.21875 27.484375 \nz\nM 52.203125 31.203125 \nL 52.203125 0 \nL 43.21875 0 \nL 43.21875 8.296875 \nQ 40.140625 3.328125 35.546875 0.953125 \nQ 30.953125 -1.421875 24.3125 -1.421875 \nQ 15.921875 -1.421875 10.953125 3.296875 \nQ 6 8.015625 6 15.921875 \nQ 6 25.140625 12.171875 29.828125 \nQ 18.359375 34.515625 30.609375 34.515625 \nL 43.21875 34.515625 \nL 43.21875 35.40625 \nQ 43.21875 41.609375 39.140625 45 \nQ 35.0625 48.390625 27.6875 48.390625 \nQ 23 48.390625 18.546875 47.265625 \nQ 14.109375 46.140625 10.015625 43.890625 \nL 10.015625 52.203125 \nQ 14.9375 54.109375 19.578125 55.046875 \nQ 24.21875 56 28.609375 56 \nQ 40.484375 56 46.34375 49.84375 \nQ 52.203125 43.703125 52.203125 31.203125 \nz\n\" id=\"DejaVuSans-97\"/>\n      <path d=\"M 9.421875 54.6875 \nL 18.40625 54.6875 \nL 18.40625 0 \nL 9.421875 0 \nz\nM 9.421875 75.984375 \nL 18.40625 75.984375 \nL 18.40625 64.59375 \nL 9.421875 64.59375 \nz\n\" id=\"DejaVuSans-105\"/>\n      <path d=\"M 54.890625 33.015625 \nL 54.890625 0 \nL 45.90625 0 \nL 45.90625 32.71875 \nQ 45.90625 40.484375 42.875 44.328125 \nQ 39.84375 48.1875 33.796875 48.1875 \nQ 26.515625 48.1875 22.3125 43.546875 \nQ 18.109375 38.921875 18.109375 30.90625 \nL 18.109375 0 \nL 9.078125 0 \nL 9.078125 54.6875 \nL 18.109375 54.6875 \nL 18.109375 46.1875 \nQ 21.34375 51.125 25.703125 53.5625 \nQ 30.078125 56 35.796875 56 \nQ 45.21875 56 50.046875 50.171875 \nQ 54.890625 44.34375 54.890625 33.015625 \nz\n\" id=\"DejaVuSans-110\"/>\n      <path id=\"DejaVuSans-32\"/>\n      <path d=\"M 9.421875 75.984375 \nL 18.40625 75.984375 \nL 18.40625 0 \nL 9.421875 0 \nz\n\" id=\"DejaVuSans-108\"/>\n      <path d=\"M 44.28125 53.078125 \nL 44.28125 44.578125 \nQ 40.484375 46.53125 36.375 47.5 \nQ 32.28125 48.484375 27.875 48.484375 \nQ 21.1875 48.484375 17.84375 46.4375 \nQ 14.5 44.390625 14.5 40.28125 \nQ 14.5 37.15625 16.890625 35.375 \nQ 19.28125 33.59375 26.515625 31.984375 \nL 29.59375 31.296875 \nQ 39.15625 29.25 43.1875 25.515625 \nQ 47.21875 21.78125 47.21875 15.09375 \nQ 47.21875 7.46875 41.1875 3.015625 \nQ 35.15625 -1.421875 24.609375 -1.421875 \nQ 20.21875 -1.421875 15.453125 -0.5625 \nQ 10.6875 0.296875 5.421875 2 \nL 5.421875 11.28125 \nQ 10.40625 8.6875 15.234375 7.390625 \nQ 20.0625 6.109375 24.8125 6.109375 \nQ 31.15625 6.109375 34.5625 8.28125 \nQ 37.984375 10.453125 37.984375 14.40625 \nQ 37.984375 18.0625 35.515625 20.015625 \nQ 33.0625 21.96875 24.703125 23.78125 \nL 21.578125 24.515625 \nQ 13.234375 26.265625 9.515625 29.90625 \nQ 5.8125 33.546875 5.8125 39.890625 \nQ 5.8125 47.609375 11.28125 51.796875 \nQ 16.75 56 26.8125 56 \nQ 31.78125 56 36.171875 55.265625 \nQ 40.578125 54.546875 44.28125 53.078125 \nz\n\" id=\"DejaVuSans-115\"/>\n     </defs>\n     <g transform=\"translate(163.595313 55.753125)scale(0.1 -0.1)\">\n      <use xlink:href=\"#DejaVuSans-116\"/>\n      <use x=\"39.208984\" xlink:href=\"#DejaVuSans-114\"/>\n      <use x=\"80.322266\" xlink:href=\"#DejaVuSans-97\"/>\n      <use x=\"141.601562\" xlink:href=\"#DejaVuSans-105\"/>\n      <use x=\"169.384766\" xlink:href=\"#DejaVuSans-110\"/>\n      <use x=\"232.763672\" xlink:href=\"#DejaVuSans-32\"/>\n      <use x=\"264.550781\" xlink:href=\"#DejaVuSans-108\"/>\n      <use x=\"292.333984\" xlink:href=\"#DejaVuSans-111\"/>\n      <use x=\"353.515625\" xlink:href=\"#DejaVuSans-115\"/>\n      <use x=\"405.615234\" xlink:href=\"#DejaVuSans-115\"/>\n     </g>\n    </g>\n    <g id=\"line2d_27\">\n     <path d=\"M 135.595313 66.93125 \nL 155.595313 66.93125 \n\" style=\"fill:none;stroke:#bf00bf;stroke-dasharray:5.55,2.4;stroke-dashoffset:0;stroke-width:1.5;\"/>\n    </g>\n    <g id=\"line2d_28\"/>\n    <g id=\"text_13\">\n     <!-- train acc -->\n     <g transform=\"translate(163.595313 70.43125)scale(0.1 -0.1)\">\n      <use xlink:href=\"#DejaVuSans-116\"/>\n      <use x=\"39.208984\" xlink:href=\"#DejaVuSans-114\"/>\n      <use x=\"80.322266\" xlink:href=\"#DejaVuSans-97\"/>\n      <use x=\"141.601562\" xlink:href=\"#DejaVuSans-105\"/>\n      <use x=\"169.384766\" xlink:href=\"#DejaVuSans-110\"/>\n      <use x=\"232.763672\" xlink:href=\"#DejaVuSans-32\"/>\n      <use x=\"264.550781\" xlink:href=\"#DejaVuSans-97\"/>\n      <use x=\"325.830078\" xlink:href=\"#DejaVuSans-99\"/>\n      <use x=\"380.810547\" xlink:href=\"#DejaVuSans-99\"/>\n     </g>\n    </g>\n    <g id=\"line2d_29\">\n     <path d=\"M 135.595313 81.609375 \nL 155.595313 81.609375 \n\" style=\"fill:none;stroke:#008000;stroke-dasharray:9.6,2.4,1.5,2.4;stroke-dashoffset:0;stroke-width:1.5;\"/>\n    </g>\n    <g id=\"line2d_30\"/>\n    <g id=\"text_14\">\n     <!-- ndcg_train -->\n     <defs>\n      <path d=\"M 45.40625 46.390625 \nL 45.40625 75.984375 \nL 54.390625 75.984375 \nL 54.390625 0 \nL 45.40625 0 \nL 45.40625 8.203125 \nQ 42.578125 3.328125 38.25 0.953125 \nQ 33.9375 -1.421875 27.875 -1.421875 \nQ 17.96875 -1.421875 11.734375 6.484375 \nQ 5.515625 14.40625 5.515625 27.296875 \nQ 5.515625 40.1875 11.734375 48.09375 \nQ 17.96875 56 27.875 56 \nQ 33.9375 56 38.25 53.625 \nQ 42.578125 51.265625 45.40625 46.390625 \nz\nM 14.796875 27.296875 \nQ 14.796875 17.390625 18.875 11.75 \nQ 22.953125 6.109375 30.078125 6.109375 \nQ 37.203125 6.109375 41.296875 11.75 \nQ 45.40625 17.390625 45.40625 27.296875 \nQ 45.40625 37.203125 41.296875 42.84375 \nQ 37.203125 48.484375 30.078125 48.484375 \nQ 22.953125 48.484375 18.875 42.84375 \nQ 14.796875 37.203125 14.796875 27.296875 \nz\n\" id=\"DejaVuSans-100\"/>\n      <path d=\"M 45.40625 27.984375 \nQ 45.40625 37.75 41.375 43.109375 \nQ 37.359375 48.484375 30.078125 48.484375 \nQ 22.859375 48.484375 18.828125 43.109375 \nQ 14.796875 37.75 14.796875 27.984375 \nQ 14.796875 18.265625 18.828125 12.890625 \nQ 22.859375 7.515625 30.078125 7.515625 \nQ 37.359375 7.515625 41.375 12.890625 \nQ 45.40625 18.265625 45.40625 27.984375 \nz\nM 54.390625 6.78125 \nQ 54.390625 -7.171875 48.1875 -13.984375 \nQ 42 -20.796875 29.203125 -20.796875 \nQ 24.46875 -20.796875 20.265625 -20.09375 \nQ 16.0625 -19.390625 12.109375 -17.921875 \nL 12.109375 -9.1875 \nQ 16.0625 -11.328125 19.921875 -12.34375 \nQ 23.78125 -13.375 27.78125 -13.375 \nQ 36.625 -13.375 41.015625 -8.765625 \nQ 45.40625 -4.15625 45.40625 5.171875 \nL 45.40625 9.625 \nQ 42.625 4.78125 38.28125 2.390625 \nQ 33.9375 0 27.875 0 \nQ 17.828125 0 11.671875 7.65625 \nQ 5.515625 15.328125 5.515625 27.984375 \nQ 5.515625 40.671875 11.671875 48.328125 \nQ 17.828125 56 27.875 56 \nQ 33.9375 56 38.28125 53.609375 \nQ 42.625 51.21875 45.40625 46.390625 \nL 45.40625 54.6875 \nL 54.390625 54.6875 \nz\n\" id=\"DejaVuSans-103\"/>\n      <path d=\"M 50.984375 -16.609375 \nL 50.984375 -23.578125 \nL -0.984375 -23.578125 \nL -0.984375 -16.609375 \nz\n\" id=\"DejaVuSans-95\"/>\n     </defs>\n     <g transform=\"translate(163.595313 85.109375)scale(0.1 -0.1)\">\n      <use xlink:href=\"#DejaVuSans-110\"/>\n      <use x=\"63.378906\" xlink:href=\"#DejaVuSans-100\"/>\n      <use x=\"126.855469\" xlink:href=\"#DejaVuSans-99\"/>\n      <use x=\"181.835938\" xlink:href=\"#DejaVuSans-103\"/>\n      <use x=\"245.3125\" xlink:href=\"#DejaVuSans-95\"/>\n      <use x=\"295.3125\" xlink:href=\"#DejaVuSans-116\"/>\n      <use x=\"334.521484\" xlink:href=\"#DejaVuSans-114\"/>\n      <use x=\"375.634766\" xlink:href=\"#DejaVuSans-97\"/>\n      <use x=\"436.914062\" xlink:href=\"#DejaVuSans-105\"/>\n      <use x=\"464.697266\" xlink:href=\"#DejaVuSans-110\"/>\n     </g>\n    </g>\n    <g id=\"line2d_31\">\n     <path d=\"M 135.595313 96.565625 \nL 155.595313 96.565625 \n\" style=\"fill:none;stroke:#ff0000;stroke-dasharray:1.5,2.475;stroke-dashoffset:0;stroke-width:1.5;\"/>\n    </g>\n    <g id=\"line2d_32\"/>\n    <g id=\"text_15\">\n     <!-- test loss -->\n     <g transform=\"translate(163.595313 100.065625)scale(0.1 -0.1)\">\n      <use xlink:href=\"#DejaVuSans-116\"/>\n      <use x=\"39.208984\" xlink:href=\"#DejaVuSans-101\"/>\n      <use x=\"100.732422\" xlink:href=\"#DejaVuSans-115\"/>\n      <use x=\"152.832031\" xlink:href=\"#DejaVuSans-116\"/>\n      <use x=\"192.041016\" xlink:href=\"#DejaVuSans-32\"/>\n      <use x=\"223.828125\" xlink:href=\"#DejaVuSans-108\"/>\n      <use x=\"251.611328\" xlink:href=\"#DejaVuSans-111\"/>\n      <use x=\"312.792969\" xlink:href=\"#DejaVuSans-115\"/>\n      <use x=\"364.892578\" xlink:href=\"#DejaVuSans-115\"/>\n     </g>\n    </g>\n   </g>\n  </g>\n </g>\n <defs>\n  <clipPath id=\"pb71731fddb\">\n   <rect height=\"135.9\" width=\"195.3\" x=\"30.103125\" y=\"7.2\"/>\n  </clipPath>\n </defs>\n</svg>\n",
            "text/plain": [
              "<Figure size 252x180 with 1 Axes>"
            ]
          },
          "metadata": {},
          "output_type": "display_data"
        }
      ],
      "source": [
        "net = torch.nn.Sequential(\n",
        "    torch.nn.Linear(700, 64),\n",
        "    torch.nn.Sigmoid(),\n",
        "    torch.nn.Dropout(0.1),\n",
        "    torch.nn.Linear(64, 32),\n",
        "    torch.nn.Sigmoid(),\n",
        "    torch.nn.Dropout(0.1),\n",
        "    torch.nn.Linear(32, 1),\n",
        ")\n",
        "\n",
        "device = d2l.try_gpu() \n",
        "ndcgs = train(net, sampled_qs_train, num_epochs = 30, lr = 0.001)"
      ]
    },
    {
      "cell_type": "code",
      "execution_count": null,
      "metadata": {
        "colab": {
          "base_uri": "https://localhost:8080/"
        },
        "id": "oDHgp0rGXo3I",
        "outputId": "b0bb7d98-cecd-4397-e27d-0dfabecf204d"
      },
      "outputs": [
        {
          "data": {
            "text/plain": [
              "0.1431514597200992"
            ]
          },
          "execution_count": 62,
          "metadata": {},
          "output_type": "execute_result"
        }
      ],
      "source": [
        "def test_testset(net):\n",
        "    net.eval()\n",
        "    metric = d2l.Accumulator(3)\n",
        "    ndcg_t = []\n",
        "    with torch.no_grad():\n",
        "        for i, q in enumerate(sampled_qs_test):\n",
        "            X = torch.tensor(data_wclicks_test[q][1]).float().to(device)\n",
        "            y = torch.tensor(data_wclicks_test[q][0].astype('int32'))[:,None].to(device)\n",
        "\n",
        "            y_hat = net(X)\n",
        "\n",
        "            loss = MSE_tensor(y_hat, y)\n",
        "\n",
        "            indices = torch.flatten(torch.argsort(y_hat, dim=0, descending = True)).cpu().detach().numpy()\n",
        "\n",
        "            ndcg = NDCG(np.array(data_wclicks_test[q][0])[indices], 10)\n",
        "            ndcg_t.append(ndcg)\n",
        "\n",
        "            metric.add(loss * X.shape[0], d2l.accuracy(y_hat, y), X.shape[0])\n",
        "\n",
        "    test_ndcg = np.mean(ndcg_t)\n",
        "    return test_ndcg\n",
        "\n",
        "test_testset(net)"
      ]
    },
    {
      "cell_type": "markdown",
      "source": [
        "# Implementation of neural networks with multiple layers in numpy"
      ],
      "metadata": {
        "id": "2Ckon4WeJdkX"
      }
    },
    {
      "cell_type": "code",
      "execution_count": null,
      "metadata": {
        "id": "Ix7_2MxSXDft"
      },
      "outputs": [],
      "source": [
        "class Linear:\n",
        "    def __init__(self, n_in, n_out):\n",
        "        a = np.sqrt(6 / (n_in * n_out))\n",
        "        self.W = np.random.uniform(-a, a, size=(n_in,n_out))\n",
        "        #self.W = np.random.normal(0, np.sqrt(2/(700+1)), size=(NR_FEATURES))\n",
        "        self.b = np.zeros((n_out,))\n",
        "    \n",
        "    def forward(self, x):\n",
        "        y = np.dot(x, self.W)# + self.b\n",
        "        return y\n",
        "\n",
        "    def backward(self, x, dy):\n",
        "        #print(\"x: \" + str(x.shape))\n",
        "        #print(\"dy: \" + str(dy.shape))\n",
        "        #print(\"W: \" + str(self.W.shape))\n",
        "        # given dy, compute the gradients for x, W and b\n",
        "        #if dy.ndim == 1:\n",
        "            #dy = np.expand_dims(dy, axis=1)\n",
        "        #print(\"dy exp: \" + str(dy.shape))\n",
        "        dx = np.dot(dy, self.W.T)\n",
        "        self.dW = np.dot(x.T, dy) \n",
        "        #self.db = np.sum(dy, axis=0) \n",
        "        return dx\n",
        "    \n",
        "    def step(self, step_size):\n",
        "        self.W = self.W - step_size * self.dW  \n",
        "        #self.b = self.b - step_size * self.db \n",
        "        \n",
        "    def __str__(self):\n",
        "        return 'Linear %dx%d' % self.W.shape\n",
        "\n",
        "class Sigmoid:\n",
        "    def forward(self, x):\n",
        "        return 1 / (1 + np.exp(-x))\n",
        "\n",
        "    def backward(self, x, dy):\n",
        "        # compute the backward pass,\n",
        "        # return the gradient for x given dy\n",
        "        return dy * np.exp(-x) / (np.exp(-x) + 1) ** 2\n",
        "    \n",
        "    def step(self, step_size):\n",
        "        # no weights, so no updates required\n",
        "        return\n",
        "    \n",
        "    def __str__(self):\n",
        "        return 'Sigmoid'\n",
        "\n",
        "class Net:\n",
        "    def __init__(self, layers):\n",
        "        self.layers = layers\n",
        "\n",
        "    def forward(self, x):\n",
        "        # compute the forward pass for each layer\n",
        "        trace = []\n",
        "        for layer in self.layers:\n",
        "            # compute the forward pass\n",
        "            y = layer.forward(x)\n",
        "            # store the original input for the backward pass\n",
        "            trace.append((layer, x))\n",
        "            x = y\n",
        "        # return the final output and the history trace\n",
        "        return y, trace\n",
        "\n",
        "    def backward(self, trace, dy):\n",
        "        # compute the backward pass for each layer\n",
        "        for layer, x in trace[::-1]:\n",
        "            # print(\"dy: \" + str(dy.shape))\n",
        "            # print(\"dy squeeze \" + str(np.squeeze(dy).shape))\n",
        "            # print(\"x: \" + str(x.shape))\n",
        "            # compute the backward pass using the original input x\n",
        "            dy = layer.backward(x, dy)\n",
        "\n",
        "    def step(self, learning_rate):\n",
        "        # apply the gradient descent updates of each layer\n",
        "        for layer in self.layers:\n",
        "            layer.step(learning_rate)\n",
        "\n",
        "    def __str__(self):\n",
        "        return '\\n'.join(str(l) for l in self.layers)"
      ]
    },
    {
      "cell_type": "code",
      "execution_count": null,
      "metadata": {
        "colab": {
          "background_save": true,
          "base_uri": "https://localhost:8080/"
        },
        "id": "vqexBrZuXHzd",
        "outputId": "a6fe1b04-159e-4d2a-ee49-913188697b81"
      },
      "outputs": [
        {
          "name": "stderr",
          "output_type": "stream",
          "text": [
            "/usr/local/lib/python3.8/dist-packages/numpy/core/_methods.py:163: VisibleDeprecationWarning: Creating an ndarray from ragged nested sequences (which is a list-or-tuple of lists-or-tuples-or ndarrays with different lengths or shapes) is deprecated. If you meant to do this, you must specify 'dtype=object' when creating the ndarray.\n",
            "  arr = asanyarray(a)\n"
          ]
        },
        {
          "name": "stdout",
          "output_type": "stream",
          "text": [
            "Epoch 0: Validation loss: 0.013600368433257137, NDCG@10 0.0\n",
            "Epoch 1: Validation loss: 0.013123906105796581, NDCG@10 0.0\n",
            "Epoch 2: Validation loss: 0.017589617423002215, NDCG@10 1.0\n",
            "Epoch 3: Validation loss: 0.012335803106695744, NDCG@10 0.0\n",
            "Epoch 4: Validation loss: 0.0167790298535019, NDCG@10 0.0\n",
            "Epoch 5: Validation loss: 0.013079576416278325, NDCG@10 1.0\n",
            "Epoch 6: Validation loss: 0.014380286441840133, NDCG@10 1.0\n",
            "Epoch 7: Validation loss: 0.015010121941413542, NDCG@10 1.0\n",
            "Epoch 8: Validation loss: 0.012467561453655449, NDCG@10 1.0\n",
            "Epoch 9: Validation loss: 0.06325816680623536, NDCG@10 1.0\n",
            "Epoch 10: Validation loss: 0.014005491735606489, NDCG@10 1.0\n",
            "Epoch 11: Validation loss: 0.012799631608363584, NDCG@10 1.0\n",
            "Epoch 12: Validation loss: 0.01270343086810482, NDCG@10 1.0\n",
            "Epoch 13: Validation loss: 0.012356864857439937, NDCG@10 1.0\n",
            "Epoch 14: Validation loss: 0.013321784332572698, NDCG@10 1.0\n",
            "Epoch 15: Validation loss: 0.015296208248141232, NDCG@10 1.0\n",
            "Epoch 16: Validation loss: 0.013444514141240626, NDCG@10 1.0\n",
            "Epoch 17: Validation loss: 0.012510429733143017, NDCG@10 0.0\n",
            "Epoch 18: Validation loss: 0.013729171436011779, NDCG@10 1.0\n",
            "Epoch 19: Validation loss: 0.012415014800763737, NDCG@10 1.0\n",
            "Epoch 20: Validation loss: 0.012592548646556841, NDCG@10 1.0\n",
            "Epoch 21: Validation loss: 0.012915268234742492, NDCG@10 1.0\n",
            "Epoch 22: Validation loss: 0.01435859695213439, NDCG@10 1.0\n",
            "Epoch 23: Validation loss: 0.012369630593532858, NDCG@10 1.0\n",
            "Epoch 24: Validation loss: 0.012488783670174655, NDCG@10 1.0\n",
            "Epoch 25: Validation loss: 0.012363125184107501, NDCG@10 0.0\n",
            "Epoch 26: Validation loss: 0.012429354420195157, NDCG@10 1.0\n",
            "Epoch 27: Validation loss: 0.0123536684430638, NDCG@10 0.0\n",
            "Epoch 28: Validation loss: 0.012526047819633871, NDCG@10 1.0\n",
            "Epoch 29: Validation loss: 0.013109209462614292, NDCG@10 1.0\n",
            "Epoch 30: Validation loss: 0.012693298022471978, NDCG@10 1.0\n",
            "Epoch 31: Validation loss: 0.01234682116684815, NDCG@10 1.0\n",
            "Epoch 32: Validation loss: 0.014218620004214741, NDCG@10 1.0\n",
            "Epoch 33: Validation loss: 0.012828504587371226, NDCG@10 1.0\n",
            "Epoch 34: Validation loss: 0.014216130912844181, NDCG@10 0.0\n",
            "Epoch 35: Validation loss: 0.012532857218383186, NDCG@10 0.0\n",
            "Epoch 36: Validation loss: 0.01250006103300154, NDCG@10 1.0\n",
            "Epoch 37: Validation loss: 0.014222262113429652, NDCG@10 0.0\n",
            "Epoch 38: Validation loss: 0.014811275319602846, NDCG@10 1.0\n",
            "Epoch 39: Validation loss: 0.012861458402241528, NDCG@10 1.0\n",
            "Epoch 40: Validation loss: 0.014976140905866396, NDCG@10 1.0\n",
            "Epoch 41: Validation loss: 0.012423364707127014, NDCG@10 0.0\n",
            "Epoch 42: Validation loss: 0.01260401545949391, NDCG@10 1.0\n",
            "Epoch 43: Validation loss: 0.014196481625075868, NDCG@10 0.0\n",
            "Epoch 44: Validation loss: 0.013058115593779257, NDCG@10 1.0\n",
            "Epoch 45: Validation loss: 0.012877525897414453, NDCG@10 1.0\n",
            "Epoch 46: Validation loss: 0.01641145320741129, NDCG@10 1.0\n",
            "Epoch 47: Validation loss: 0.013449163826590782, NDCG@10 0.0\n",
            "Epoch 48: Validation loss: 0.01445553331308742, NDCG@10 0.0\n",
            "Epoch 49: Validation loss: 0.012988104637542682, NDCG@10 1.0\n",
            "Epoch 50: Validation loss: 0.01286430415426409, NDCG@10 1.0\n",
            "Epoch 51: Validation loss: 0.0143342248157641, NDCG@10 1.0\n",
            "Epoch 52: Validation loss: 0.012550077101392377, NDCG@10 1.0\n",
            "Epoch 53: Validation loss: 0.013679801883137025, NDCG@10 1.0\n",
            "Epoch 54: Validation loss: 0.012573068219270789, NDCG@10 0.0\n",
            "Epoch 55: Validation loss: 0.012718972296304963, NDCG@10 1.0\n",
            "Epoch 56: Validation loss: 0.012603010681036716, NDCG@10 0.0\n",
            "Epoch 57: Validation loss: 0.01359358824153473, NDCG@10 1.0\n",
            "Epoch 58: Validation loss: 0.012580902804225568, NDCG@10 1.0\n",
            "Epoch 59: Validation loss: 0.012808462537005778, NDCG@10 1.0\n",
            "Epoch 60: Validation loss: 0.013106734921437508, NDCG@10 0.0\n",
            "Epoch 61: Validation loss: 0.012817240678100951, NDCG@10 1.0\n",
            "Epoch 62: Validation loss: 0.012640326206804383, NDCG@10 0.0\n",
            "Epoch 63: Validation loss: 0.013217419973541785, NDCG@10 0.0\n",
            "Epoch 64: Validation loss: 0.012549157546540549, NDCG@10 0.0\n",
            "Epoch 65: Validation loss: 0.01290547182517827, NDCG@10 0.0\n",
            "Epoch 66: Validation loss: 0.01257636170513191, NDCG@10 0.0\n",
            "Epoch 67: Validation loss: 0.012612180098568845, NDCG@10 1.0\n",
            "Epoch 68: Validation loss: 0.013558854248174103, NDCG@10 0.0\n",
            "Epoch 69: Validation loss: 0.012682889995967925, NDCG@10 0.0\n",
            "Epoch 70: Validation loss: 0.013551968674882444, NDCG@10 0.0\n",
            "Epoch 71: Validation loss: 0.012844229758913537, NDCG@10 1.0\n",
            "Epoch 72: Validation loss: 0.012730487551033794, NDCG@10 1.0\n",
            "Epoch 73: Validation loss: 0.012913734435063311, NDCG@10 0.0\n",
            "Epoch 74: Validation loss: 0.01388102472705751, NDCG@10 0.0\n",
            "Epoch 75: Validation loss: 0.01349596758217055, NDCG@10 1.0\n",
            "Epoch 76: Validation loss: 0.013397945275548134, NDCG@10 0.0\n",
            "Epoch 77: Validation loss: 0.012546880325136137, NDCG@10 0.0\n",
            "Epoch 78: Validation loss: 0.015208050606549074, NDCG@10 1.0\n",
            "Epoch 79: Validation loss: 0.01274375458669986, NDCG@10 1.0\n",
            "Epoch 80: Validation loss: 0.012952145567032235, NDCG@10 1.0\n",
            "Epoch 81: Validation loss: 0.016539044966614312, NDCG@10 1.0\n",
            "Epoch 82: Validation loss: 0.012910300759395622, NDCG@10 1.0\n",
            "Epoch 83: Validation loss: 0.013688809407933909, NDCG@10 0.0\n",
            "Epoch 84: Validation loss: 0.014397255384492708, NDCG@10 1.0\n",
            "Epoch 85: Validation loss: 0.013092692589498276, NDCG@10 0.0\n",
            "Epoch 86: Validation loss: 0.012830743921704017, NDCG@10 1.0\n",
            "Epoch 87: Validation loss: 0.017803664814399368, NDCG@10 1.0\n",
            "Epoch 88: Validation loss: 0.01393405496605393, NDCG@10 1.0\n",
            "Epoch 89: Validation loss: 0.014837597336639762, NDCG@10 1.0\n",
            "Epoch 90: Validation loss: 0.013284875373595642, NDCG@10 1.0\n",
            "Epoch 91: Validation loss: 0.013381336136602072, NDCG@10 1.0\n",
            "Epoch 92: Validation loss: 0.013395844133726423, NDCG@10 0.0\n",
            "Epoch 93: Validation loss: 0.027872283263339393, NDCG@10 1.0\n",
            "Epoch 94: Validation loss: 0.013024026471492004, NDCG@10 1.0\n",
            "Epoch 95: Validation loss: 0.013075135144880677, NDCG@10 1.0\n",
            "Epoch 96: Validation loss: 0.013113970541871845, NDCG@10 1.0\n",
            "Epoch 97: Validation loss: 0.01316876887192937, NDCG@10 0.0\n",
            "Epoch 98: Validation loss: 0.013396932490884672, NDCG@10 1.0\n",
            "Epoch 99: Validation loss: 0.01313033981934059, NDCG@10 1.0\n"
          ]
        }
      ],
      "source": [
        "def train_full_ranker_multiple_layers(net, sampled_qs_train, data_wclicks_train, sampled_qs_val, data_wclicks_val, unbiased = True, epochs = 100, lr = 0.001):\n",
        "    losses_train = []\n",
        "    losses_val = []\n",
        "    ndcgs = []\n",
        "    ndcgs_val = []\n",
        "\n",
        "    start = time.time()\n",
        "    for e in range(epochs):\n",
        "        # Permute data\n",
        "        permutation = np.random.permutation(len(sampled_qs_train))\n",
        "        sampled_qs_train = sampled_qs_train[permutation]\n",
        "        losses_q = []\n",
        "        ndcg_q = []\n",
        "\n",
        "        for q in sampled_qs_train:\n",
        "            X_train = np.array(data_wclicks_train[q][1])\n",
        "            Y_train = np.array(data_wclicks_train[q][4])\n",
        "            P_obs = np.array(data_wclicks_train[q][3])\n",
        "\n",
        "            predictions, trace = net.forward(X_train)\n",
        "\n",
        "            indices = np.flip(np.argsort(predictions))\n",
        "\n",
        "            if(unbiased):\n",
        "                if len(predictions) == 1:\n",
        "                    predictions_squeezed = np.array(predictions[0])\n",
        "                else:\n",
        "                    predictions_squeezed = np.squeeze(predictions)\n",
        "                loss = MSE_unbiased(predictions_squeezed, Y_train, P_obs)\n",
        "                dy = (np.squeeze(predictions) - Y_train) / len(predictions)\n",
        "                dy_ = np.reshape(dy, (len(dy), 1))\n",
        "            else:\n",
        "                loss = MSE(predictions, Y_train)\n",
        "                gradient = gradient_w(predictions, Y_train, X_train)\n",
        "                gradient.reshape(len(gradient_w(predictions, Y_train, X_train)), 1)\n",
        "            net.backward(trace, dy_)\n",
        "            net.step(lr)\n",
        "\n",
        "            losses_q.append(loss)\n",
        "            if Y_train.shape == (1,):\n",
        "                ndcg = NDCG(Y_train[indices], 10)\n",
        "            else:\n",
        "                ndcg = NDCG(np.squeeze(Y_train[indices]), 10)\n",
        "            #print(len(np.squeeze(Y_train[indices])))\n",
        "            ndcg_q.append(ndcg)\n",
        "\n",
        "        ndcg_q_val = []\n",
        "        mse_val = []\n",
        "\n",
        "        for q in sampled_qs_val:\n",
        "            X_val = np.array(data_wclicks_val[q][1])\n",
        "            Y_val = np.array(data_wclicks_val[q][4])\n",
        "            p_obs = np.array(data_wclicks_val[q][3])\n",
        "            predictions, trace = net.forward(X_val)\n",
        "            indices = np.flip(np.argsort(predictions))\n",
        "            if Y_val.shape == (1,):\n",
        "                ndcg_val = NDCG(Y_val[indices], 10)\n",
        "            else:\n",
        "                ndcg_val = NDCG(Y_val[indices].reshape(len(Y_val),), 10)\n",
        "            ndcg_q_val.append(ndcg)\n",
        "            if len(predictions) == 1:\n",
        "                predictions_squeezed = np.array(predictions[0])\n",
        "            else:\n",
        "                predictions_squeezed = np.squeeze(predictions)\n",
        "            mse_val.append(MSE_unbiased(predictions_squeezed, Y_val, p_obs))\n",
        "\n",
        "        # Validation metrics\n",
        "        loss_val = np.mean(mse_val)\n",
        "        losses_val.append(loss_val)\n",
        "        \n",
        "        loss = np.mean(losses_q)\n",
        "        losses_train.append(loss)\n",
        "        \n",
        "        ndcg = np.mean(ndcg_q)\n",
        "        ndcgs.append(ndcg)\n",
        "        ndcg_val = np.mean(ndcg_q_val)\n",
        "        ndcgs_val.append(ndcg_val)\n",
        "\n",
        "        print(\"Epoch \" + str(e) + \": Validation loss: \" + str(np.mean(mse_val)) + \", NDCG@10 \" + str(np.mean(ndcg_q_val)))\n",
        "\n",
        "net = Net([\n",
        "    Linear(700, 256),\n",
        "    Sigmoid(),\n",
        "    Linear(256, 1),\n",
        "])\n",
        "\n",
        "#train_full_ranker_multiple_layers(net, sampled_qs, data_wclicks_train, sampled_qs_val, data_wclicks_val, unbiased = True, epochs = 5, lr = 0.001)\n",
        "train_full_ranker_multiple_layers(net, sampled_qs_train, data_wclicks_train, sampled_qs_val, data_wclicks_val, unbiased = True, epochs = 100, lr = 0.001)"
      ]
    }
  ],
  "metadata": {
    "colab": {
      "provenance": []
    },
    "gpuClass": "standard",
    "kernelspec": {
      "display_name": "Python 3",
      "name": "python3"
    },
    "language_info": {
      "name": "python"
    }
  },
  "nbformat": 4,
  "nbformat_minor": 0
}